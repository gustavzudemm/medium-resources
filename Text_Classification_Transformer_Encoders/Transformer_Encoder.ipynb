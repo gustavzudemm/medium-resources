{
 "cells": [
  {
   "cell_type": "markdown",
   "metadata": {
    "id": "Z97an_x5Bs8g"
   },
   "source": [
    "# Load Libraries, Read Data, and Label Mapping\n"
   ]
  },
  {
   "cell_type": "code",
   "execution_count": 29,
   "metadata": {
    "colab": {
     "base_uri": "https://localhost:8080/"
    },
    "id": "yv4mKXx-vSxq",
    "outputId": "7ea75ca3-4df9-48a7-a8df-15005527a215"
   },
   "outputs": [
    {
     "name": "stdout",
     "output_type": "stream",
     "text": [
      "     Category                                            Message\n",
      "1978     spam  Reply to win £100 weekly! Where will the 2006 ...\n",
      "3989      ham  Hello. Sort of out in town already. That . So ...\n",
      "3935      ham   How come guoyang go n tell her? Then u told her?\n",
      "4078      ham  Hey sathya till now we dint meet not even a si...\n",
      "4086     spam  Orange brings you ringtones from all time Char...\n"
     ]
    }
   ],
   "source": [
    "import math\n",
    "import torch\n",
    "import torch.nn as nn\n",
    "import torchtext\n",
    "import pandas as pd\n",
    "from sklearn.model_selection import train_test_split\n",
    "from torch.utils.data import DataLoader\n",
    "from tqdm import tqdm\n",
    "from torchtext.data.utils import get_tokenizer\n",
    "from torchtext.vocab import build_vocab_from_iterator\n",
    "\n",
    "device = torch.device(\"cuda\" if torch.cuda.is_available() else \"cpu\")\n",
    "\n",
    "df = pd.read_csv('spam_ham.csv')\n",
    "df_train, df_test = train_test_split(df, test_size=0.2, random_state=42)\n",
    "print(df_train.head())"
   ]
  },
  {
   "cell_type": "code",
   "execution_count": 3,
   "metadata": {
    "colab": {
     "base_uri": "https://localhost:8080/"
    },
    "id": "cg67CXnjv-KN",
    "outputId": "42bbb4cd-2ba4-4a4c-a59d-1601441936cd"
   },
   "outputs": [
    {
     "name": "stdout",
     "output_type": "stream",
     "text": [
      "{0: 'spam', 1: 'ham'}\n",
      "{'spam': 0, 'ham': 1}\n"
     ]
    }
   ],
   "source": [
    "labels = df_train[\"Category\"].unique()\n",
    "num_labels = len(labels)\n",
    "label2id, id2label = dict(), dict()\n",
    "for i, label in enumerate(labels):\n",
    "    label2id[label] = i\n",
    "    id2label[i] = label\n",
    "\n",
    "print(id2label)\n",
    "print(label2id)\n"
   ]
  },
  {
   "cell_type": "markdown",
   "metadata": {
    "id": "-mbougVLB33u"
   },
   "source": [
    "# Build Vocabulary"
   ]
  },
  {
   "cell_type": "code",
   "execution_count": 4,
   "metadata": {
    "colab": {
     "base_uri": "https://localhost:8080/"
    },
    "id": "1iMCO9MIwt1L",
    "outputId": "42cf06cf-179a-465f-e2da-90dff1208a60"
   },
   "outputs": [
    {
     "name": "stdout",
     "output_type": "stream",
     "text": [
      "['this', 'is', 'text']\n"
     ]
    }
   ],
   "source": [
    "# Load tokenizer\n",
    "tokenizer = get_tokenizer('basic_english')\n",
    "\n",
    "text = 'this is text'\n",
    "print(tokenizer(text))"
   ]
  },
  {
   "cell_type": "code",
   "execution_count": 5,
   "metadata": {
    "colab": {
     "base_uri": "https://localhost:8080/"
    },
    "id": "e7m_knq1w8C6",
    "outputId": "958dc8d8-d751-4596-b242-9a14fb1abbf6"
   },
   "outputs": [
    {
     "name": "stdout",
     "output_type": "stream",
     "text": [
      "{'…thanks': 8126, '“harry': 8125, '£79': 8120, '£54': 8117, '£50award': 8116, '£50-£500': 8115, '£50': 8114, '£5/month': 8113, '£48': 8111, '£1million': 8108, '£1250': 8107, '£125': 8106, '\\x93it': 8102, '\\x91rents': 8100, '~': 8099, 'zouk': 8097, 'zeros': 8093, 'zebra': 8092, 'yupz': 8088, 'yoyyooo': 8083, 'yourjob': 8079, 'young': 8076, 'youdoing': 8074, 'you/carlos': 8073, 'you*': 8072, 'yorge': 8071, 'ymca': 8069, 'yifeng': 8067, 'yhl': 8066, 'yes-910': 8064, 'yes-762': 8063, 'yes-434': 8062, 'yes-165': 8061, 'yeovil': 8060, 'yelow': 8059, 'yaxx': 8056, 'yavnt': 8055, 'yards': 8054, 'yalru': 8052, 'yalrigu': 8051, 'xxxxxxxxxxxxxx': 8049, 'xxxxxx': 8047, 'xclusive@clubsaisai': 8041, 'x2': 8038, 'wuld': 8035, 'wtlp': 8034, 'wth': 8032, 'wrote': 8031, 'wrking': 8027, 'writhing': 8025, 'wrench': 8022, 'wrecked': 8021, 'wounds': 8020, 'worst': 8016, 'workand': 8013, 'words-': 8012, 'woo': 8006, 'wondarfull': 8005, 'womdarfull': 8003, 'wknd': 7999, 'wizzle': 7998, 'witout': 7997, 'wishlist': 7992, 'wisheds': 7991, 'wire3': 7990, 'winnersclub': 7987, 'wined': 7984, 'windy': 7983, 'wind': 7982, 'win150ppmx3age16': 7981, 'wildlife': 7979, 'wherre': 7970, 'what‘s': 7963, 'whassup': 7961, 'we‘ll': 7960, 'werebored': 7951, 'wenever': 7948, 'weirdo': 7946, 'weirdest': 7945, 'wedlunch': 7940, 'weddin': 7939, 'webpage': 7938, 'webeburnin': 7937, 'webadres': 7936, 'weaseling': 7933, 'weaknesses': 7932, 'wavering': 7928, 'watts': 7927, 'wating': 7925, 'watchin': 7923, 'watches': 7922, 'watched': 7921, 'wasting': 7920, 'washob': 7916, 'warwick': 7915, 'warming': 7913, 'waqt': 7912, 'wallpaper-all': 7908, 'wallet': 7907, 'walkin': 7905, 'walkabout': 7904, 'waited': 7901, 'wahleykkum': 7900, 'waheeda': 7899, 'wahala': 7896, 'wadebridge': 7895, 'waaaat': 7893, 'w1t1jy': 7890, 'w1a': 7889, 'vu': 7886, 'vpod': 7884, 'voted': 7881, 'voila': 7879, 'voice]': 7878, 'vital': 7875, 'visitors': 7874, 'visitor': 7873, 'visiting': 7872, 'virtual': 7870, 'virgins': 7869, 'virgin': 7868, 'vip': 7866, 'violated': 7865, 'vijaykanth': 7863, 'videosounds+2': 7862, 'victors': 7857, 'victoria': 7856, 'vibrate': 7854, 'vibrant': 7853, 'vat': 7842, 'vargu': 7839, 'valuing': 7837, 'value-morning': 7836, 'v-aluable': 7833, 'u’ve': 7832, 'uv': 7828, 'usmle': 7825, 'urgran': 7820, 'urgoin': 7819, 'urfeeling': 7817, 'upset--it': 7815, 'upping': 7814, 'upgrading': 7810, 'upcharge': 7807, 'unni': 7799, 'unmits': 7798, 'unjalur': 7797, 'vouch4me': 7882, 'units': 7795, 'unique&i': 7793, 'unintentional': 7791, 'uniform': 7790, 'x-net': 8037, 'unfortuntly': 7786, 'unfortunately': 7785, 'unfolds': 7784, 'undrstndng': 7782, 'undrstnd': 7781, 'underdtand': 7779, 'unconvinced': 7776, 'unconscious': 7774, 'unconditionally': 7773, 'uncomfortable': 7772, 'un': 7770, 'ummifying': 7768, 'uk/reward': 7765, 'veggie': 7846, 'uin': 7761, 'ubandu': 7758, 'u2moro': 7757, 'typical': 7756, 'txttowin': 7754, 'txt82228': 7752, 'txt-2-shop': 7750, 'tx': 7749, 'twittering': 7748, 'twins': 7747, 'tuth': 7743, 'tunji': 7742, 'tues': 7738, 'tsunami': 7736, 'tscs08714740323': 7735, 'tryin': 7734, 'truro': 7732, 'truck': 7731, 'troubleshooting': 7729, 'trial': 7725, 'yuou': 8087, 'trends': 7724, 'trebles': 7722, 'treasure': 7720, 'treadmill': 7719, 'travelled': 7717, 'traveling': 7716, 'trauma': 7715, 'transport': 7714, 'tranquility': 7710, 'tp': 7707, 'toyota': 7706, 'totes': 7704, 'toss': 7703, 'tosend': 7702, 'tortilla': 7700, 'toppoly': 7697, 'topped': 7696, 'toplay': 7695, 'tootsie': 7694, 'tooth*': 7692, 'toot': 7691, 'tonsolitusaswell': 7688, 'tomorro': 7683, 'wenwecan': 7949, 'toledo': 7679, 'toking': 7678, 'toilet': 7676, 'tohar': 7675, 'todo': 7674, 'yourinclusive': 8078, 'tocall': 7673, 'tmw': 7669, 'tmorow': 7668, 'tming': 7667, 'tlk': 7666, 'tkls': 7665, 'tip': 7660, 'timi': 7658, 'tiime': 7656, 'tigress': 7655, 'tightly': 7654, 'tiger': 7653, 'tie-pos': 7651, 'thread': 7644, 'thou': 7641, 'thinl': 7636, 'thinked': 7634, 'theyre': 7632, 'theoretically': 7625, 'thenampet': 7624, 'themob>yo': 7623, 'themob': 7620, 'themes': 7619, 'theirs': 7617, 'the4th': 7614, 'that2worzels': 7612, 'thasa': 7611, 'thankyou': 7609, 'thanku': 7608, 'thandiyachu': 7606, 'tgxxrz': 7605, 'texts/weekend': 7604, 'textin': 7603, 'textbook': 7602, 'texd': 7599, 'texas': 7598, 'termsapply': 7594, 'temper': 7588, 'telly': 7585, 'teletext': 7584, 'telediscount': 7583, 'teenager': 7581, 'teaching': 7579, 'tea/coffee': 7578, 'tc-llc': 7577, 'taxless': 7574, 'tau': 7572, 'tats': 7571, 'tata': 7570, 'tasts': 7569, 'tallent': 7567, 'talked': 7562, 'tai': 7556, 'tagged': 7554, 'tag': 7553, 'tackle': 7552, 't-shirt': 7548, 't&csc': 7546, 'systems': 7544, 'syrup': 7543, 'sympathetic': 7540, 'syd': 7538, 'swoop': 7537, 'swollen': 7536, 'swat': 7532, 'swap': 7530, 'swan': 7529, 'swalpa': 7528, 'svc': 7527, '£71': 8119, 'sutra': 7526, 'surrounded': 7523, 'surrender': 7522, 'surname': 7521, 'surly': 7520, 'suppose': 7516, 'supplies': 7514, 'supose': 7512, 'supervisor': 7510, 'sunscreen': 7508, 'sunroof': 7507, 'sunoco': 7506, 'sundayish': 7505, 'yeesh': 8058, 'sun0819': 7504, 'suitemates': 7501, 'suggestion': 7499, 'suganya': 7497, 'sugababes': 7496, 'up+not': 7805, 'sufficient': 7495, 'suffering': 7493, 'sudden': 7490, 'such': 7487, 'subsequent': 7485, 'subscrition': 7484, 'stunning': 7476, 'stuffs': 7475, 'stuffed': 7473, 'stuff42moro': 7472, 'yam': 8053, 'stuff--why': 7471, 'studio': 7470, 'studies': 7469, 'stuck': 7466, 'sts': 7463, 'struggling': 7462, 'strips': 7459, 'strewn': 7456, 'stressed': 7453, 'str8': 7450, 'str*': 7449, 'stop2stop': 7444, 'stool': 7443, 'stocked': 7440, 'sticky': 7437, 'sterm': 7435, 'steps': 7433, 'steering': 7432, 'steamboat': 7430, 'stdtxtrate': 7429, 'stayed': 7428, 'statements': 7427, 'stash': 7425, 'starshine': 7423, 'starer': 7421, 'star': 7420, 'stands': 7419, 'stalking': 7418, 'stalk': 7417, 'stairs': 7416, 'stagwood': 7415, 'stable': 7414, 'stability': 7413, 'srt': 7412, 'squishy': 7411, 'spun-out': 7406, 'spoons': 7398, 'spoilt': 7396, 'spoil': 7395, 'split': 7394, 'splashmobile': 7392, 'spjanuary': 7390, 'tall': 7565, 'spiral': 7387, 'spin': 7385, 'spider': 7383, 'subscriptions': 7482, 'spice': 7382, 'specialise': 7376, 'specialisation': 7375, 'speciale': 7374, 'spatula': 7372, 'spares': 7369, 'spam': 7368, 'sozi': 7364, 'soundtrack': 7358, 'sophas': 7353, 'sonetimes': 7349, 'somone': 7347, 'somewhr': 7346, 'somewheresomeone': 7345, 'sometext': 7342, 'somerset': 7341, 'someonone': 7339, 'someday': 7338, 'sold': 7337, 'soladha': 7336, 'sochte': 7334, 'soc': 7333, 'snowboarding': 7332, 'snowball': 7331, 'snot': 7330, 'snd': 7327, 'smoked': 7322, 'smith-switch': 7321, 'testing': 7596, 'smiley': 7319, 'smiled': 7317, 'smidgin': 7316, 'smell': 7314, 'transcribing': 7711, 'smear': 7313, 'smarter': 7312, 'smartcall': 7311, 'slurp': 7309, 'slob-': 7305, 'slippery': 7304, 'sliding': 7303, 'slide': 7302, 'sleepwell&amp': 7299, 'sleeps': 7298, 'skins': 7292, 'sittin': 7288, 'sitter': 7287, 'sirji': 7285, 'sindu': 7282, 'simulate': 7280, 'simpsons': 7279, 'silence': 7276, 'siguviri': 7275, 'signin': 7274, 'significant': 7273, 'shun': 7268, 'shud': 7266, 'shrink': 7263, 'shrek': 7262, 'showrooms': 7261, 'showr': 7260, 'shouting': 7256, 'shouldn‘t': 7255, 'shoulders': 7254, 'shortcode': 7252, 'shola': 7248, 'shocking': 7247, 'shock': 7246, 'shldxxxx': 7245, 'shirts': 7243, 'shiny': 7241, 'shindig': 7240, 'shinco': 7239, 'shifad': 7238, 'shhhhh': 7237, 'shexy': 7236, 'sherawat': 7235, 'shelves': 7234, 'shell': 7233, 'sheet': 7232, 'shaping': 7229, 'shanghai': 7226, 'shaking': 7224, 'sporadically': 7399, 'shadow': 7218, 'uttered': 7826, 'sez': 7217, 'sexual': 7215, 'seventeen': 7212, 'settling': 7211, 'setting': 7210, 'server': 7208, 'spacebucks': 7365, 'serena': 7206, 'september': 7205, 'sensible': 7204, 'senses': 7203, 'senor': 7202, 'sender': 7201, 'semiobscure': 7200, 'selflessness': 7198, 'sehwag': 7195, 'seh': 7194, 'section': 7189, 'secondary': 7187, 'second-': 7186, 'seat': 7185, 'sday': 7182, 'sd': 7181, 'screwd': 7178, 'screamed': 7177, 'scratches': 7176, 'scrappy': 7175, 'scorable': 7172, 'schedule': 7171, 'varaya': 7838, 'scenery': 7170, 'scammers': 7167, 'scallies': 7166, 'sc': 7165, 'sayin': 7164, 'sayhey': 7163, 'say/ask': 7162, 'savings': 7161, 'saves': 7160, 'savamob-member': 7159, 'satsgettin': 7156, 'satisfy': 7155, 'sathy': 7154, 'sashimi': 7152, 'sarcasm': 7149, 'sarasota': 7148, 'sao': 7145, 'sang': 7143, 'sambar': 7139, 'samantha': 7138, 'salt': 7137, 'salmon': 7136, 'sall': 7135, 'salesman': 7134, 'sales/pee': 7133, 'uup': 7827, 'sales': 7132, 'salad': 7131, 'sagamu': 7130, 'saeed': 7128, 'sac': 7126, 's3xy': 7124, 's*': 7123, 'rwm': 7121, 'rv': 7119, 'thinkthis': 7635, 'rushing': 7118, 'rummer': 7117, 'rumbling': 7116, 'rugby': 7113, 'rubber': 7112, 'rtf': 7110, 'rt-king': 7109, 'rpl': 7107, 'zoom': 8096, 'rp176781': 7106, 'rows': 7105, 'rounder': 7103, 'roses': 7101, 'rolled': 7099, 'roles': 7098, 'shangela': 7225, 'rise': 7091, 'ringtone¡': 7088, 'rings': 7087, 'riley': 7085, 'riddance': 7082, 'rhode': 7081, 'rgent': 7080, 'revealing': 7078, 'retired': 7075, 'resuming': 7073, 'restrictions': 7071, 'restocked': 7069, 'restock': 7068, 'restaurant': 7067, 'response': 7065, 'satthen': 7157, 'responce': 7064, 'respectful': 7063, 'resolution': 7061, 'southern': 7361, 'reslove': 7060, 'residency': 7058, 'reserved': 7055, 'reserve': 7054, 'resent': 7052, 'resend': 7051, 'requirements': 7050, 'reppurcussions': 7048, 'replys150': 7047, 'replacing': 7044, 'repent': 7041, 'repair': 7040, 'rents': 7039, 'reminded': 7035, 'remembrs': 7034, 'remb': 7033, 'rejected': 7025, 'regretted': 7024, 'registration': 7023, 'regard': 7022, 'regalportfolio': 7021, 'tool': 7690, 'referin': 7015, 'references': 7014, 'recycling': 7010, 'recpt': 7009, 'students': 7468, 'recorded': 7006, 'recieve': 7004, 'recharged': 7003, 'reception': 7002, 'receipts—well': 7000, 'rec': 6998, 'rebtel': 6997, 'reboot': 6995, 'reassuring': 6993, 'reassurance': 6992, 'rearrange': 6991, 'reapply': 6990, 'reallyneed': 6989, 'realised': 6985, 'reache': 6981, 're-sub': 6980, 'rdy': 6978, 'rct': 6977, 'zhong': 8094, 'rcb': 6975, 'randomly': 6967, 'rajnikant': 6964, 'rajini': 6962, 'rajas': 6961, 'raj': 6960, 'rahul': 6957, 'radiator': 6955, 'r836': 6954, 'quiteamuzing': 6952, 'que': 6950, 'qing': 6947, 'qi': 6946, 'qet': 6945, 'puzzles': 6943, 'pushbutton': 6940, 'purple': 6938, 'punj': 6933, 'skirt': 7293, 'punch': 6931, 'pump': 6930, 'pulling': 6928, 'pudunga': 6926, 'pubs': 6925, 'pt2': 6922, 'psychic': 6920, 'psxtra': 6918, 'psp': 6917, 'ps3': 6916, 'prsn': 6914, 'pros': 6910, 'propsd': 6909, 'proper': 6906, 'prometazine': 6901, 'projects': 6900, 'profiles': 6897, 'prods': 6894, 'probthat': 6892, 'probs': 6891, 'probpop': 6890, 'problms': 6888, 'prizeawaiting': 6885, 'prix': 6883, 'privacy': 6882, 'spirit': 7388, 'sexychat': 7216, 'printing': 6879, 'printer': 6878, 'prince': 6876, 'prin': 6875, 'prices': 6874, 'previews': 6873, 'pretend': 6871, 'pressure': 6869, 'pressies': 6868, 'presnts': 6867, 'president': 6866, 'presence': 6864, 'prescribed': 6863, 'preschoolco-ordinator': 6862, 'slovely': 7306, 'prepayment': 6860, 'rounds': 7104, 'prepared': 6859, 'predictive': 6857, 'predicting': 6855, 'replace': 7042, 'predicte': 6854, 'prayrs': 6851, 'praying': 6850, 'prashanthettan': 6847, 'prasad': 6845, 'praps': 6844, 'prakesh': 6843, 'prakasamanu': 6842, 'praises': 6840, 'practicum': 6838, 'practical': 6837, 'pract': 6836, 'ppt150x3+normal': 6834, 'poyyarikatur': 6832, 'poured': 6831, 'postponed': 6829, 'posting': 6828, 'postal': 6827, 'possessiveness': 6825, 'positions': 6824, 'posh': 6823, 'portal': 6820, 'porridge': 6819, 'porn': 6818, 'poortiyagi': 6815, 'suckers': 7489, 'pool': 6814, 'ponnungale': 6812, 'poly/true/pix/ringtones/games': 6809, 'poly/200p': 6808, 'poly#': 6807, 'poking': 6805, 'pockets': 6803, 'pocked': 6802, 'pobox75ldns7': 6799, 'pobox365o4w45wq': 6797, 'pobox114/14tcr/w1': 6795, 'pobox1': 6794, 'plyr': 6791, 'plural': 6790, 'plumbing': 6789, 'plumbers': 6788, 'plum': 6787, 'ploughing': 6786, 'spreadsheet': 7404, 'playin': 6781, 'platt': 6780, 'plate': 6779, 'planettalkinstant': 6778, 'placed': 6776, 'pl': 6775, 'pixels': 6774, 'pist': 6772, 'pisces': 6771, 'pile': 6767, 'piggy': 6766, 'provider': 6911, 'picture': 6763, 'westshore': 7957, 'physics': 6761, 'phrase': 6760, 'phony': 6758, 'phonebook': 6756, 'retard': 7074, 'phil': 6753, 'petrol-rs': 6750, 'petey': 6748, 'pest': 6746, 'wannatell': 7910, 'perumbavoor': 6744, 'perspective': 6743, 'personally': 6742, 'persian': 6741, 'permanent': 6737, 'peripherals': 6736, 'perhaps': 6735, 'perfume': 6734, 'performed': 6733, 'performance': 6732, 'percentages': 6729, 'peoples': 6728, 'pei': 6725, 'pehle': 6724, 'pee': 6723, 'pears': 6722, 'peach': 6721, 'paypal': 6719, 'payments': 6718, 'payee': 6717, 'payed2day': 6716, 'wild': 7978, 'payasam': 6714, 'withdraw': 7993, 'pause': 6713, 'path': 6709, 'patent': 6708, 'passport': 6706, 'passion': 6705, 'paru': 6702, 'pocay': 6801, 'parties': 6699, 'particularly': 6698, 'participate': 6696, 'sprint': 7405, 'parkin': 6695, 'parchi': 6693, 'parantella': 6692, 'synced': 7542, 'parade': 6689, 'paracetamol': 6687, 'pants': 6685, 'panties': 6684, 'panther': 6683, 'panicks': 6680, 'pai': 6676, 'tolerat': 7681, 'padhe': 6675, 'packing': 6674, 'oyster': 6672, 'suddenly': 7491, 'owned': 6671, 'own--you': 6670, 'ovulation': 6665, 'spinout': 7386, 'overdose': 6659, 'ovarian': 6657, 'restrict': 7070, 'outsider': 6655, 'outs': 6654, 'outgoing': 6651, 'strongly': 7460, 'outbid': 6648, 'ovr': 6663, 'outage': 6647, 'out--have': 6646, 'ou': 6644, 'ors': 6640, 'orno': 6639, 'orh': 6638, 'orc': 6633, 'oral': 6632, 'or2optout/hv9d': 6631, 'optimistic': 6629, 'opposite': 6627, 'opposed': 6626, 'operate': 6624, 'opener': 6621, 'opened': 6620, 'ooooooh': 6619, 'thesis': 7630, 'onion': 6611, 'oncall': 6609, 'onam': 6608, 'triumphed': 7728, 'olowoyey@': 6605, 'olol': 6604, 'oli': 6603, 'olayiwola': 6602, '\\x93harry': 8101, 'olage': 6600, 'okors': 6599, 'okies': 6598, 'rinu': 7089, 'okden': 6597, 'okday': 6596, 'oic': 6595, 'offering': 6588, 'offdam': 6585, 'offcampus': 6584, 'ofcourse': 6582, 'odalebeku': 6581, 'ocean': 6579, 'occupied': 6575, 'oblivious': 6574, 'obedient': 6571, 'o2fwd': 6570, 'nìte': 6569, 'nz': 6568, 'ny-usa': 6566, 'reformat': 7017, 'nusstu': 6563, 'nus': 6562, 'nursery': 6561, 'number-so': 6560, 'nuclear': 6557, 'nuerologist': 6559, 'nte': 6556, 'witin': 7995, 'november': 6552, 'notifications': 6549, 'northampton': 6545, 'nordstrom': 6543, 'norcorp': 6542, 'nor': 6541, 'nonetheless': 6539, 'nokia/150p': 6535, 'noisy': 6533, 'nobbing': 6531, 'no>': 6530, 'no-762': 6528, 'no-434': 6527, 'paces': 6673, 'nitro': 6521, 'nite+2': 6520, 'nino': 6519, 'ninish': 6518, 'nigro': 6516, 'nigpun': 6515, 'nighters': 6514, 'nig': 6512, 'nicky': 6511, 'nic': 6508, 'nhs': 6507, 'newspapers': 6506, 'newscaster': 6505, 'newquay-send': 6504, 'uk/text': 7766, 'newport': 6503, 'neville': 6501, 'networks': 6499, 'netun': 6498, 'neft': 6490, 'needy': 6488, 'necessity': 6486, 'necessarily': 6484, 'necesity': 6483, 'nearer': 6482, 'nearby': 6481, 'nauseous': 6480, 'natalie': 6476, 'nasty': 6475, 'naseeb': 6474, 'nalli': 6469, 'n8': 6466, 'n-gage': 6464, 'n-atural': 6463, 'myspace': 6462, 'mys': 6461, 'myparents': 6460, 'transferred': 7712, 'mycalls': 6458, 'my-tone': 6457, 'mwahs': 6456, 'mutations': 6454, 'ny': 6565, 'mutai': 6453, 'musical': 6450, 'mumbai': 6443, 'multis': 6442, 'multimedia': 6441, 'muhommad': 6439, 'mufti': 6438, 'shant': 7228, 'muchxxlove': 6437, 'muchand': 6436, 'msg@£1': 6432, 'msg/subscription': 6431, 'ms': 6429, 'mouth': 6426, 'motor': 6422, 'motivating': 6421, 'mother-in-law': 6419, 'mono#': 6415, 'zyada': 8098, 'monkeyaround': 6413, 'monkey': 6412, 'monkeespeople': 6411, 'mone': 6410, 'shagged': 7220, 'molested&someone': 6409, 'xxuk': 8046, 'mokka': 6408, 'modl': 6406, 'mobstorequiz10ppm': 6405, 'mobcudb': 6401, 'rg21': 7079, 'mnths': 6400, 'mnth': 6399, 'mns': 6398, 'mk17': 6394, 'mittelschmertz': 6391, 'randomlly': 6966, 'misundrstud': 6390, 'misss': 6387, 'missionary': 6386, 'misscall': 6385, 'mising': 6383, 'minus': 6380, 'mins/texts': 6378, 'mins&100txt/mth': 6377, 'minecraft': 6375, 'mindset': 6373, 'minapn': 6371, 'mina': 6370, 'millers': 6366, 'mileage': 6364, 'mids': 6362, 'michael': 6361, 'mia': 6360, 'mi': 6359, 'mgs': 6358, 'mfl': 6357, 'messy': 6355, '£1/minmobsmorelkpobox177hp51fl': 8104, 'messed': 6354, 'messages-text': 6353, 'messaged': 6352, 'message**thanks': 6351, 'merememberin': 6350, 'merely': 6349, 'mentioned': 6347, 'mention': 6346, 'stripes': 7458, 'mental': 6345, 'speaking': 7373, 'memory': 6343, 'memories': 6342, 'prevent': 6872, 'meets': 6339, 'meetins': 6338, 'swear': 7533, 'mee': 6337, 'meat': 6334, 'meaningful': 6332, 'mc': 6327, 'maximum': 6325, 'max6/month': 6324, 'rebooting': 6996, 'max': 6323, 'matthew': 6322, 'matric': 6320, 'matra': 6319, 'mathews': 6317, 'matched': 6316, '£400': 8110, 'mat': 6315, 'marking': 6307, 'margin': 6305, 'maretare': 6304, 'marandratha': 6303, 'maraikara': 6302, 'maps': 6301, 'maniac': 6299, 'manege': 6298, 'mandy': 6297, 'mandan': 6295, 'reckon': 7005, 'management': 6293, 'managed': 6292, 'manageable': 6291, 'makiing': 6287, 'maintaining': 6286, 'magic': 6283, 'madurai': 6280, 'madstini': 6279, 'mad2': 6277, 'machines': 6274, 'macha': 6273, 'mary': 6310, 'macedonia': 6272, 'm95': 6269, 'wi': 7974, 'm227xy': 6268, 'lv': 6265, 'ow': 6666, 'lux': 6264, 'luvs': 6263, 'lunchtime': 6261, 'luks': 6260, 'lucyxx': 6259, 'luckily': 6258, 'lubly': 6257, 'ltdhelpdesk': 6255, 'lrg': 6252, 'lower': 6251, 'lovly': 6250, 'lovin': 6249, 'lotz': 6248, 'lotsof': 6246, 'lotsly': 6245, 'rough': 7102, 'lord': 6243, 'loosing': 6242, 'loooooool': 6240, 'lool': 6239, 'loo': 6238, 'lonlines': 6237, 'loneliness': 6236, 'lolnice': 6233, 'takecare': 7560, 'loko': 6232, 'logos+musicnews': 6231, 'realize': 6987, 'logos': 6230, 'logon': 6229, 'logged': 6227, 'promotion': 6902, 'lodging': 6226, 'locks': 6224, 'lock': 6223, 'lived': 6219, 'lists': 6216, 'listn': 6215, 'underwear': 7780, 'listening2the': 6214, 'listener': 6213, 'thanks2': 7607, 'liquor': 6211, 'lips': 6210, 'reltnship': 7032, 'linux': 6209, 'linear': 6205, 'quizclub': 6953, 'line--you': 6204, 'vibrator': 7855, 'lindsay': 6203, 'lil': 6198, 'likeyour': 6196, 'lightly': 6195, 'lighters': 6194, 'lifeis': 6192, 'level': 6190, 'lesser': 6189, 'leo': 6187, 'teams': 7580, 'lengths': 6185, 'leg': 6181, 'leftovers': 6180, 'learned': 6179, 'stream': 7452, 'leanne': 6178, 'leading': 6174, 'leadership': 6173, 'ld': 6172, 'laying': 6170, 'lay': 6168, 'lavender': 6167, 'laurie': 6165, 'lately': 6161, 'lasagna': 6159, 'milta': 6369, 'lark': 6158, 'length': 6184, 'lanre': 6154, 'lanka': 6153, 'lands': 6152, 'landmark': 6151, 'landing': 6149, 'wall': 7906, 'lancaster': 6148, 'lambu': 6146, 'lambda': 6145, 'lager': 6143, 'lage': 6142, 'lag': 6141, 'lacking': 6139, 'lac': 6138, 'labor': 6137, 'la32wu': 6136, 'la3': 6135, 'l8rs': 6134, 'l8': 6132, 'kvb': 6130, 'kochi': 6121, 'ko': 6120, 'known': 6119, 'knocking': 6118, 'knee': 6116, 'kl341': 6115, 'kittum': 6113, 'symptoms': 7541, 'kissing': 6112, 'kisses': 6111, 'refund': 7019, 'kingdom': 6108, 'killed': 6107, 'kickboxing': 6105, 'ki': 6103, 'khelate': 6102, 'kfc': 6101, 'keluviri': 6098, 'keep-in-touch': 6097, 'keen': 6096, 'lautech': 6166, 'katexxx': 6093, 'karo': 6092, 'karnan': 6091, 'kane': 6090, 'kanagu': 6089, 'kalisidare': 6086, 'kaila': 6082, 'k718': 6080, 'juswoke': 6078, 'justthought': 6077, 'justify': 6076, 'julianaland': 6072, 'juliana': 6071, 'jp': 6068, 'joys': 6067, 'jot': 6066, 'jorge-shock': 6064, 'jokin': 6062, 'joker': 6061, 'john\\x94-sounds': 6059, 'jog': 6058, 'uk/expressoffer': 7764, 'jod': 6057, 'jocks': 6056, 'jide': 6053, 'significance': 7272, 'jetton': 6048, 'jet': 6047, 'jersey': 6046, 'jeetey': 6042, 'tension': 7591, 'jeans': 6041, 'je': 6040, 'jb': 6039, 'jaz': 6038, 'tablets': 7551, 'jaya': 6037, 'jap': 6036, 'janarige': 6033, 'jade': 6030, 'upgrdcentre': 7811, 'jacuzzi': 6029, 'jackson': 6028, 'jack': 6025, 'j89': 6023, 'i\\x92ve': 6021, 'i\\x92d': 6019, 'iyo': 6018, 'up4': 7806, 'ivatte': 6016, 'stopcs': 7446, 'it\\x92s': 6015, 'itried2tell': 6014, 'ithink': 6012, 'iter': 6011, 'ishtamayoo': 6006, 'pints': 6770, 'isaiah': 6005, 'is-': 6003, 'irene': 5996, 'ipads': 5994, 'involve': 5991, 'invoices': 5990, 'invitation': 5989, 'jobyet': 6055, 'invest': 5987, 'intrude': 5985, 'intrepid': 5984, 'interviews': 5981, 'internal': 5979, 'nattil': 6478, 'interest': 5977, 'intentions': 5976, 'intend': 5974, 'instant': 5972, 'install': 5970, 'inspection': 5968, 'wc1n': 7931, 'inpersonation': 5966, 'inperialmusic': 5965, 'inner': 5962, 'ingredients': 5959, 'lined': 6206, 'infront': 5958, 'influx': 5954, 'inever': 5952, 'inde': 5950, 'inconvenient': 5946, 'inconvenience': 5945, 'incomm': 5944, 'inclu': 5942, 'impressively': 5940, 'importantly': 5935, 'imp': 5934, 'imf': 5930, 'qlynnbv': 6948, 'imat': 5929, 'images': 5928, 'ilol': 5926, 'illspeak': 5925, 'thesedays': 7629, 'ignorant': 5920, 'ifink': 5919, 'if/when/how': 5918, 'idu': 5917, 'idps': 5916, 'id=1b6a5ecef91ff9*37819&first=true18': 5911, 'icon': 5910, 'icky': 5909, 'terror': 7595, 'ibuprofens': 5906, 'hut': 5899, 'hunting': 5896, 'hunks': 5895, 'hungover': 5894, 'hundreds': 5893, 'hun-onbus': 5892, 'humans': 5891, 'hui': 5887, 'snap': 7324, 'hugh': 5886, 'hubby': 5882, 'huai': 5881, 'html': 5878, 'laden': 6140, 'hp20': 5877, 'howu': 5876, 'howard': 5874, 'houseful': 5873, 'hourish': 5872, 'horniest': 5865, 'hopeu': 5864, 'hopeso': 5863, 'hoped': 5861, 'hooked': 5859, 'hoody': 5858, 'hont': 5856, 'thirunelvali': 7637, 'honeymoon': 5854, 'honesty': 5853, 'honest': 5852, 'hol': 5849, 'yo-here': 8070, 'hogolo': 5848, 'hogidhe': 5846, 'hmph': 5845, 'hits': 5841, 'his/her': 5839, 'hiphop': 5838, 'hillsborough': 5835, 'highest': 5834, 'hiding': 5833, 'hides': 5832, 'way&this': 7929, 'hidden': 5831, 'heron': 5827, 'hero': 5825, 'heltini': 5822, 'helps': 5821, 'helpline': 5820, 'helping': 5819, 'help08700621170150p': 5816, 'hellogorgeous': 5815, 'hello-ed': 5814, 'helens': 5812, 'heehee': 5808, 'hectic': 5807, 'heavily': 5806, 'heaven': 5805, 'heat': 5804, 'hearing': 5801, 'healer': 5800, 'pen': 6726, 'heal': 5799, 'head…': 5798, 'hdd': 5796, 'haul': 5792, 'weren': 7952, 'harri': 5789, 'hari-': 5786, 'million': 6367, 'manchester': 6294, 'lim': 6199, 'hardest': 5785, 'happily': 5784, 'happend': 5782, 'handsome': 5774, 'handing': 5773, 'halla': 5770, 'props': 6908, 'hall': 5769, 'half8th': 5768, 'hairdressers': 5765, 'hail': 5764, 'hadn': 5763, 'gynae': 5760, 'gv': 5759, 'woul': 8018, 'guoyang': 5757, 'gumby': 5756, 'guitar': 5755, 'guides': 5754, 'guessing': 5753, 'guessin': 5752, 'gudnite': 5749, 'gudni8': 5748, 'massive': 6314, 'gucci': 5747, 'guai': 5745, 'hannaford': 5780, 'gsex': 5743, 'grumble': 5742, 'grownup': 5741, 'secure': 7191, 'kisi': 6110, 'groovying': 5739, 'grooved': 5737, 'hypertension': 5902, 'grocers': 5736, 'grinule': 5735, 'grinder': 5734, 'grief': 5733, 'greatly': 5730, 'gre': 5729, 'gray': 5728, 'granted': 5724, 'grandma': 5722, 'signal': 7271, 'gran': 5721, 'grace': 5719, 'swhrt': 7534, 'gr8fun': 5717, 'gotto': 5715, 'gotany': 5714, 'goss': 5712, 'gopalettan': 5710, 'goodtime': 5709, 'goodmate': 5707, 'txt250': 7751, 'gon': 5702, 'golddigger': 5698, 'goigng': 5695, 'goggles': 5694, 'gobi': 5693, 'speeding': 7379, 'gnt': 5689, 'gm': 5686, 'gloucesterroad': 5685, 'glorious': 5683, 'glands': 5679, 'uneventful': 7783, 'slowing': 7308, 'horse': 5866, 'girlie': 5678, 'gimmi': 5677, 'gifts': 5675, 'gibe': 5674, 'getsleep': 5672, 'geting': 5671, 'getiing': 5670, 'goodevening': 5705, 'get4an18th': 5669, 'gep': 5667, 'general': 5665, 'pierre': 6765, 'gek1510': 5664, 'gdeve': 5663, 'gbp1': 5661, 'gbp/week': 5660, 'gbp/sms': 5659, 'gaze': 5657, 'hen': 5823, 'gauti': 5655, 'gauge': 5654, 'gastroenteritis': 5652, 'gari': 5650, 'only1more': 6614, 'ganesh': 5648, 'gandhipuram': 5647, 'gamb': 5645, 'gam': 5644, 'gal-no': 5643, 'gal-can': 5642, 'gained': 5641, 'gailxx': 5640, 'suffer': 7492, 'ga': 5638, 'scoring': 7173, 'rencontre': 7037, 'g696ga': 5637, 'g2': 5636, 'funs': 5632, 'functions': 5629, 'function': 5628, 'spider-man': 7384, 'fumbling': 5627, 'fuelled': 5623, 'fucks': 5621, 'ft': 5620, 'frosty': 5617, 'frontierville': 5616, 'fromwrk': 5615, 'frog': 5613, 'frndsship': 5610, 'frmcloud': 5609, 'friendships': 5607, 'friend-of-a-friend': 5606, 'steed': 7431, 'fried': 5605, 'fridge': 5604, 'fresh': 5603, 'frequently': 5602, 'freinds': 5600, 'freemsg>fav': 5599, 'paul': 6712, 'freek': 5598, 'free-nokia': 5595, 'fredericksburg': 5593, 'freaky': 5592, 'freaked': 5590, 'frauds': 5589, 'franyxxxxx': 5588, 'franxx': 5587, 'frankie': 5586, 'sleepy': 7300, 'frank': 5585, 'interfued': 5978, 'fox': 5583, 'fowler': 5582, 'for£38': 5578, 'forwarding': 5577, 'fortune': 5576, 'professional': 6895, 'forth': 5575, 'formatting': 5574, 'format': 5573, 'formal': 5572, 'forgt': 5571, 'forgiveness': 5570, 'foregate': 5567, 'forced': 5566, 'footbl': 5564, 'fooled': 5563, 'fonin': 5562, 'foned': 5560, 'fondly': 5559, 'fond': 5558, 'follows': 5557, 'fo': 5555, '£600': 8118, 'fne': 5554, 'unhappiness': 7787, 'fm': 5553, 'flute': 5552, 'mouse': 6425, 'flurries': 5551, 'incorrect': 5947, 'flung': 5550, 'fluids': 5549, 'flowing': 5548, 'txtstop': 7753, 'flowers': 5547, 'flow': 5546, 'floppy': 5544, 'teresa': 7592, 'floating': 5543, 'flippin': 5541, 'fletcher': 5537, 'flea': 5536, 'flavour': 5535, 'flatter': 5534, 'golden': 5699, 'fishhead': 5532, 'publish': 6924, 'fired': 5527, 'finishd': 5525, 'punto': 6934, 'finest': 5524, 'finds': 5523, 'finding': 5522, 'thia': 7633, 'finalise': 5520, 'filthy': 5519, 'fights': 5517, 'fifty': 5516, 'fifth': 5515, 'fifa': 5514, 'fgkslpopw': 5512, 'fgkslpo': 5511, 'ffffuuuuuuu': 5510, 'fffff': 5508, 'fetching': 5507, 'feng': 5506, 'fieldof': 5513, 'feed': 5502, 'fedex': 5501, 'feb-april': 5500, 'features': 5499, 'feathery': 5498, 'fatty': 5496, 'ipaditan': 5993, 'fats': 5495, 'fated': 5494, 'farrell': 5492, 'farm': 5491, 'fans': 5490, 'fancies': 5489, 'fan': 5488, 'limits': 6202, 'familiar': 5486, 'famamus': 5485, 'fakeye': 5483, 'failure': 5481, 'failing': 5480, 'fourth': 5580, 'faggy': 5479, 'prayers': 6849, 'faded': 5478, 'eyed-dont': 5474, 'extract': 5471, 'ext': 5469, 'expression': 5468, 'exposed': 5467, 'shake': 7223, 'experiencehttp': 5463, 'expected': 5462, 'exp': 5461, 'exorcism': 5460, 'exhibition': 5458, 'excited': 5454, 'exchanged': 5453, 'evone': 5449, 'evo': 5448, 'evil': 5447, 'eviction': 5446, 'smaller': 7310, 'everywhere': 5444, 'romcapspam': 7100, 'everytime': 5443, 'everyso': 5441, 'everyones': 5440, 'every1': 5438, 'eventually': 5437, 'evenings': 5434, 'eveb-': 5433, 'ethnicity': 5430, 'essay': 5429, 'eshxxxxxxxxxxx': 5427, 'esaplanade': 5426, 'errors': 5423, 'erotic': 5421, 'prabu': 6835, 'ere': 5418, 'equally': 5417, 'stories': 7448, 'eppolum': 5416, 'epi': 5415, 'millions': 6368, 'envy': 5414, 'gonnamissu': 5704, 'enufcredeit': 5413, 'entire': 5412, 'entey': 5411, 'enna': 5407, 'enketa': 5406, 'enemies': 5403, 'po19': 6793, 'enc': 5401, 'en': 5400, 'employee': 5399, 'emotion': 5398, 'hostile': 5869, 'emily': 5397, 'embassy': 5395, 'embarrassed': 5394, 'openin': 6622, 'embarassing': 5393, 'emailed': 5392, 'oga': 6593, 'email&gt': 5391, 'ello': 5390, 'elliot': 5389, 'elections': 5387, 'election': 5386, 'elaya': 5385, 'elaborate': 5383, 'el': 5382, 'eightish': 5381, 'eighth': 5380, 'ego': 5378, 'egbon': 5375, 'efreefone': 5374, 'edwards': 5371, 'jam': 6031, 'education': 5368, 'edu': 5367, 'edition': 5366, 'edison': 5365, 'edhae': 5364, 'echo': 5359, 'easiest': 5358, 'iron': 5998, 'ears': 5357, 'novelty': 6551, 'earning': 5356, 'earn': 5355, 'earlier-we': 5354, 'eachother': 5353, 'tallahassee': 7566, 'e-ternal': 5352, 'e-mail': 5350, 'splash': 7391, 'glory': 5684, 'dysentry': 5349, 'dusk': 5345, 'stifled': 7438, 'durham': 5344, 'dungerees': 5341, 'dudes': 5336, 'ducking': 5335, 'dub': 5334, 'wamma': 7909, 'dryer': 5331, 'drunkard': 5330, 'drugdealer': 5328, 'drove': 5326, 'dreading': 5322, 'supports': 7515, 'ondu': 6610, 'draws': 5321, 'drastic': 5320, 'dramatic': 5319, 'forgive': 5569, 'doug': 5315, 'perform': 6731, 'doubt': 5314, 'time-hope': 7657, 'doubletxt': 5313, 'doublemins': 5311, 'dosomething': 5310, 'neshanth': 6496, 'dorothy@kiefer': 5309, 'dooms': 5307, 'thanx4': 7610, 'dontplease': 5305, 'done/want': 5300, 'doll': 5297, 'doke': 5296, 'doinat': 5295, 'necessary': 6485, 'doggin': 5293, 'dogbreath': 5292, 'nri': 6555, 'doesn‘t': 5291, 'hoops': 5860, 'dodda': 5289, 'when/where': 7967, 'dob': 5285, 'dled': 5283, 'dizzamn': 5282, 'divert': 5280, 'ditto': 5279, 'disturbance': 5278, 'dismissial': 5277, 'dismay': 5276, 'dogs': 5294, 'disk': 5275, 'disclose': 5273, 'disaster': 5271, 'disagreeable': 5269, 'dirtiest': 5268, 'dirt': 5267, 'directors': 5266, 'impressed': 5939, 'director': 5265, 'dinero': 5261, 'dined': 5260, 'dine': 5259, 'dileep': 5257, 'imprtant': 5941, 'digi': 5255, 'diddy': 5249, 'dice': 5247, 'diapers': 5246, 'n-oble': 6465, 'diamonds': 5245, 'dialogue': 5243, 'dialling': 5242, 'dhorte': 5241, 'dhanush': 5240, 'hitler': 5840, 'device': 5237, 'developer': 5236, 'developed': 5235, 'develop': 5234, 'deus': 5233, 'determined': 5232, 'determine': 5231, 'infact': 5953, 'dessert': 5228, 'despite': 5227, 'desparately': 5226, 'desk': 5225, 'description': 5220, 'dept': 5217, 'depression': 5216, 'deposit': 5214, 'dependents': 5213, 'dependable': 5212, 'pleassssssseeeeee': 6784, 'department': 5211, 'thriller': 7647, 'denying': 5210, 'dentists': 5209, 'occur': 6577, 'dentist': 5208, 'dental': 5207, 'dent': 5206, 'dena': 5204, 'deluxe': 5202, 'deltomorrow': 5201, 'uncut': 7778, 'delicious': 5200, 'lennon': 6186, 'deleted': 5199, 'delete': 5198, 'delay': 5197, 'dehydration': 5196, 'dehydrated': 5195, 'degrees': 5194, 'definitly': 5192, 'deeraj': 5189, 'deer': 5188, 'deepest': 5187, 'deepak': 5186, 'drama': 5317, 'deduct': 5185, 'decorating': 5184, 'decking': 5182, 'deck': 5181, 'liking': 6197, 'league': 6177, 'dec': 5179, 'dear-loving': 5177, 'deals': 5176, 'dd': 5174, 'dbuk': 5173, 'daywith': 5172, 'dartboard': 5168, 'darkness': 5167, 'darkest': 5166, 'tongued': 7687, 'dao': 5165, 'dangerous': 5164, 'dancing': 5161, 'dancin': 5160, 'cysts': 5154, 'customersqueries@netvision': 5150, 'customercare': 5149, 'docks': 5287, 'cusoon': 5148, 'curious': 5146, 'you\\x92re': 8081, 'cupboard': 5144, 'cumming': 5143, 'culdnt': 5140, 'cu': 5135, 'xoxo': 8043, 'sucker': 7488, 'cts': 5134, 'ctla': 5133, 'crying': 5131, 'cruel': 5128, 'crucial': 5126, 'immed': 5932, 'crossing': 5125, 'goldviking': 5700, 'curfew': 5145, 'cuck': 5136, 'cro1327': 5124, 'cricket': 5121, 'creepy': 5119, 'noice': 6532, 'creativity': 5118, 'ratio': 6970, 'crashed': 5112, 'crash': 5111, 'crap': 5110, 'cr': 5107, 'cozy': 5106, 'court': 5103, 'whilltake': 7971, 'courageous': 5102, 'coupla': 5101, 'counts': 5100, 'spiritual': 7389, 'countinlots': 5099, 'rightly': 7084, 'count': 5098, 'couldn\\x92t': 5097, 'coulda': 5096, 'cough': 5095, 'shah': 7221, 'progress': 6899, 'cougar-pen': 5094, 'cost£3': 5092, 'costume': 5091, 'cosign': 5090, 'corrupt': 5089, 'correctly': 5088, '050703': 3907, 'neighbour': 2348, 'nearly': 2347, 'free>ringtone': 3088, 'nap': 2344, 'abroad': 4419, 'monthly': 2335, 'mths': 2340, 'mmm': 2332, 'mushy': 6448, '09061744553': 2621, 'jabo': 6024, 'minnaminunginte': 2330, 'reunion': 7077, 'miles': 2328, 'watch': 383, 'believe': 628, 'cardiff': 2858, 'members': 2326, 'raviyog': 6972, 'matter': 2324, 'margaret': 2321, 'woodland': 8007, '84484': 4350, 'maintain': 2315, 'video/pic': 7859, 'unusual': 7804, '40': 4225, 'm263uz': 2307, '<unk>': 1, 'luxury': 2305, 'po': 370, 'asa': 4589, 'occupy': 6576, 'university': 2525, 'beendropping': 4727, 'access': 1664, 'responsible': 7066, 'jealous': 2278, 'viva': 7877, 'jane': 2276, 'toxic': 7705, 'cheesy': 4957, 'intelligent': 2267, '*adoring': 3853, 'ikea': 2260, 'idk': 2259, 'ibhltd': 3184, 'lines': 2299, 'hrs': 2257, 'bat': 4697, 'hon': 2254, 'homeowners': 2253, '08712402902': 3963, 'allalo': 4492, 'calls': 444, 'wrld': 8029, 'handle': 2247, 'gram': 2240, 'grahmbell': 2239, 'gm+gn+ge+gn': 2236, 'problum': 6889, 'given': 2235, 'respond': 1567, 'gary': 2234, 'gardener': 2233, 'garage': 2232, 'kidz': 1797, 'nver': 6564, 'plaza': 3446, 'fren': 2227, 'hussey': 5897, 'teeth': 3695, 'four': 2225, 'hlp': 3166, 'yoville': 8082, 'eatin': 1139, 'finishing': 2209, 'stoners': 7442, 'arises': 4576, 'finishes': 2208, 'miwa': 6392, 'explain': 2202, 'gudnyt': 5750, 'executive': 2201, 'talent': 3682, 'exact': 2200, 'na': 955, '30s': 4197, 'escape': 2195, 'egg': 2190, 'awesome': 598, 'ec2a': 2189, 'easier': 2188, 'piece': 6764, '0870737910216yrs': 3949, 'abuse': 4422, 'dislikes': 2172, 'squid': 7410, 'dirty': 2170, 'crack': 2157, 'deserve': 5222, 'environment': 3020, 'contacted': 2153, 'amazing': 2068, 'constantly': 2152, 'community': 2147, 'karaoke': 2284, 'mrt': 953, 'stereo': 7434, 'collecting': 2146, 'click': 2145, 'pose': 6822, 'clear': 2143, 'chechi': 2137, 'wihtuot': 3807, 'male': 2317, 'challenge': 2135, 'monthlysubscription@50p/msg': 6418, 'forever': 1489, 'atlanta': 1677, 'doing': 161, '80155': 4335, 'caring': 2131, 'mel': 3332, 'alian': 4490, 'unrecognized': 7800, 'cannot': 2128, '50/mtmsgrcvd18+': 4268, '@kiosk': 4397, 'carly': 4914, 'angels': 4524, 'btw': 2117, 'whr': 3804, 'looks': 1175, 'o': 511, 'box97n7qp': 2111, 'need': 86, 'uwant': 7830, 'bloody': 2105, 'bday': 2091, 'sculpture': 7180, 'bcums': 2090, 'basic': 2088, 'bags': 2087, 'suppliers': 7513, 'aunty': 2086, 'august': 2085, '255': 4163, 'art': 2081, 'disconnect': 2976, 'appointment': 2078, 'delivered': 2166, 'anywhere': 2076, 'mistake': 1349, 'block': 4776, 'seeking': 7193, 'from': 59, 'along': 2067, 'marvel': 6309, 'lyfu': 3308, 'onluy': 6613, 'ages': 2059, 'mega': 3330, 'want2come': 7911, 'ain': 2061, 'affairs': 2056, 'addie': 2054, 'hoo': 5857, 'spl': 1585, '08712101358': 2604, 'ache': 2053, 'c-red': 4878, 'mundhe': 6446, 'accidentally': 2052, 'abi': 2050, 'resume': 3525, 'ps': 6915, 'quote': 1859, '9ae': 2046, '88066': 2042, '84025': 2037, 'prediction': 6856, '18+': 593, 'ben': 2096, 'cookies': 5079, '81151': 2035, 'invite': 2269, 'immediately': 878, 'gate': 5653, '80082': 2033, 'woozles': 8010, '!': 10, '80062': 2032, '09065069120': 4048, '7732584351': 4322, '7th': 2031, 'dramastorm': 5318, '86688': 697, 'anyones': 4542, '542': 2024, 'garden': 3101, '2hook': 4180, '50p': 2022, '4mths': 2020, 'pretty': 685, 'tirunelvai': 7663, 'booty': 2109, '3uz': 2015, '08712404000': 3965, '300': 2013, 'event': 5435, 'downs': 5316, 'shows': 372, 'win-82050': 3808, 'readers': 3507, '15': 2002, 'towards': 1403, 'hard': 805, 'inlude': 5961, '145': 2001, 'gist': 3121, '114/14': 1999, 'punish': 6932, 'fire': 3068, '1/2': 1997, 'fit': 2211, 'discuss': 2171, '087187262701': 1993, 'monday': 884, '08702840625': 1991, 'leave': 259, '08701417012': 1990, 'demand': 5203, '07xxxxxxxxx': 1984, 'apologise': 2077, 'row/w1j6hl': 1886, 'iccha': 5907, 'rate': 513, 'downloads': 2181, '*stomps': 1981, 'hesitation': 5828, 'aathi': 1661, '*pouts*': 1980, 'auto': 2776, 'title': 1941, 'river': 7093, 'yest': 1973, 'xxxx': 1971, 'spending': 3633, 'unicef': 7789, 'worse': 1970, 'ibiza': 1780, 'lk': 3281, 'woman': 1969, 'wins': 1967, 'way2sms': 7930, 'cthen': 5132, 'crckt': 5116, 'which': 239, 'stu': 7464, 'killing': 3249, 'whether': 1964, 'wanting': 1960, 'sir': 333, 'wallpaper': 3781, 'spose': 7401, 'extreme': 5472, 'w45wq': 1957, 'w111wx': 1956, 'sitting': 974, 'vomit': 1955, 'teacher': 2498, 'videochat': 1952, 'unsold': 1950, 'tyrone': 1948, 'pillows': 6768, 'couch': 5093, 'with': 45, '150p/msg': 732, 'confuses': 2918, 'tree': 1946, 'possibility': 6826, 'train': 1945, 'shortbreaks': 7251, 'na-tuition': 2341, 'total': 1944, 'checkup': 4953, 'throat': 1935, 'boost': 2108, 'three': 1934, 'pole': 3451, 'guesses': 5751, 'burrito': 4860, 'chords': 4982, 'textpod': 1930, 'wahay': 7897, 'tscs087147403231winawk': 2517, 'tells': 1925, 'prone': 6904, 'decision': 2165, 'technical': 1924, 'cutting': 2942, 'showered': 7258, 'polyh': 3454, 'honeybee': 2255, 'team': 1923, 'dare': 2162, 'subscriptn3gbp/wk': 7483, 'ta': 1918, '630': 4297, 'history': 2252, 'stopped': 1915, 'spoken': 1912, 'himself': 5836, 'nice': 200, 'sore': 1911, 'parts': 6701, 'dot': 2180, 'smokes': 1908, 'make': 143, '44': 4238, 'cruise': 2161, 'site': 1903, 'singles': 1902, 'shortly': 1899, 'venugopal': 7850, 'warning': 3784, 'activities': 1665, 'nationwide': 6477, 'tenerife': 1928, '08717509990': 3985, 'series': 1895, 'thanx': 381, 'selection': 1894, 'seem': 1893, 'grams': 5720, 'hundred': 3180, 'orig': 3415, 'fish': 2210, 'watevr': 7924, 'row': 1885, 'listen': 814, '65': 2693, 'beta': 4746, 'vid': 7858, 'opps': 6628, 'nigh': 6513, 'romantic': 1882, '09063458130': 2623, 'overtime': 6662, 'returns': 1879, 'renewing': 7038, 'enjoyed': 1743, 'massages': 6313, 'gprs': 5716, 'results': 1878, 'brings': 1118, 'result': 1877, 'truth': 909, '60p/min': 2027, 'relation': 1871, 'proove': 6905, 'btwn': 4845, 'refused': 1869, 'yours': 495, 'records': 1867, 'hg/suite342/2lands': 1155, 'unemployed': 3752, 'purchases': 6936, 'recently': 1866, '89693': 2715, 'receiving': 1865, 'smart': 2452, 'receipt': 1863, 'queen': 1857, 'raglan': 6956, 'appeal': 4553, '*pushes': 3864, 'purchase': 1852, 'whens': 7968, '08717898035': 2611, '*wicked': 3871, 'partnership': 6700, 'mus': 6447, 'pple': 1850, 'pig': 1846, 'mountains': 6424, 'picked': 1845, 'oz': 1837, 'rcvd': 1370, 'often': 1833, 'noon': 1052, 'notice': 1832, 'norm150p/tone': 1830, '8am': 2716, 'smith': 7320, 'nature': 1826, 'hypotheticalhuagauahahuagahyuhagga': 5903, 'avoids': 4641, 'mother': 1824, 'meetin': 1819, 'pleased': 1848, 'raji': 2398, 'transfred': 7713, 'cat': 2132, 'lonely': 1811, 'legal': 1805, 'lecture': 1804, 'ipad': 3207, 'doc': 2175, 'donyt': 5306, 'anot': 4533, 'further': 2231, 'learn': 1803, 'irritation': 6001, 'dust': 5346, 'ready': 305, 'rcd': 6976, 'flirtparty': 5542, 'after': 160, 'affectionate': 4463, 'buttheres': 4865, 'cudnt': 5139, 'kallis': 1796, 'rply': 969, 'id=820554ad0a1705572711&first=true¡c': 5912, 'jamster': 1788, 'bahamas': 1678, 'tcs': 3689, '08715705022': 1992, 'offense': 6586, 'infernal': 1784, '09066364589': 4057, 'hw': 1779, 'however': 1776, 'andre': 4521, 'horrible': 1775, 'baig': 4668, 'hip': 1772, 'gravity': 1767, 'freefone': 1761, 'street': 1074, 'news': 716, 'flash': 2214, 'flaked': 2213, 'stylist': 7477, 'freak': 1760, 'figure': 1757, 'weekly': 478, 'fighting': 1756, 'fifteen': 1754, 'fps': 5584, '09061743810': 4036, 'maangalyam': 6270, 'brown': 4835, 'fat': 1751, '£5': 8112, 'athletic': 4612, 'tops': 7698, 'ogunrinde': 6594, 'exams': 1745, 'neighbor': 6492, 'cocksuckers': 5016, 'varma': 7840, 'heroes': 5826, 'english': 1742, 'on': 25, 'guy': 485, 'broke': 1698, 'dropped': 1736, 'i‘ve': 6022, 'different': 1733, 'dictionary': 1731, 'derek': 1730, 'cust': 1725, '100percent-real': 2632, 'bundle': 4854, 'costs': 1722, 'contract': 1720, 'dracula': 2990, 'connection': 1718, 'looovvve': 6241, 'comedy': 1716, 'isn': 1034, 'closer': 1713, 'mw': 6455, 'buddys': 4848, 'chinese': 1709, 'iam': 943, '09096102316': 4068, 'child': 1708, 'gas': 940, '08002986906': 1987, 'innu': 5964, 'stress': 3650, 'chiong': 4976, '4742': 2018, 'ortxt': 6641, 'stayin': 3643, 'carefully': 1701, 'semi': 7199, 'gent': 3109, 'buns': 1699, 'bringing': 1697, 'growing': 3139, 'grl': 1768, 'boys': 1696, '89555': 2714, 'bother': 1693, 'gut': 5758, 'liverpool': 2300, 'filling': 3066, 'hospitals': 3171, 'earth': 1737, 'born': 1691, 'ennal': 5408, 'correct': 927, 'befor': 1681, 'inviting': 1327, 'zogtorius': 8095, 'themob>hit': 7622, 'busy': 632, 'appreciate': 1260, 'february': 1753, 'totally': 1597, '1tulsi': 4134, 'abdomen': 4414, 'balance': 1679, 'exactly': 1480, 'subletting': 7479, 'assume': 1675, 'april': 1672, 'fones': 5561, 'answers': 1670, '86021': 1656, '84199': 1655, 'sandiago': 7141, 'officer': 6589, '83600': 1654, '50/week': 1651, 'member': 1537, '326': 4205, 'nickey': 6510, '36504': 1645, 'secured': 7192, 'fill': 1758, 'shot': 2443, '2moro': 1643, 'yuo': 1975, 'no': 48, '861': 4356, '1x150p/wk': 1639, '11mths+': 1638, '11mths': 1637, '6pm': 2698, '-p': 1630, '*smiles*': 1628, 'front': 3092, '9996': 4386, 'aah': 2049, 'yetty': 8065, 'dorm': 2987, 'rofl': 3538, 'tips': 7661, 'throwing': 7648, '09061749602': 4037, 'aproach': 4565, 'quit': 1858, 'factory': 5476, 'crammed': 5109, 'latr': 1801, 'particular': 6697, 'yogasana': 1623, 'xy': 1621, 'willing': 1617, 'clearer': 4996, 'walking': 1613, 'usually': 1607, 'aight': 350, 'maggi': 6282, 'ate': 1676, '09066660100': 4060, 'bakrid': 4671, 'ryan': 3548, 'dha': 5239, 'b*': 4650, 'unconsciously': 7775, 'travel': 1598, 'nelson': 6494, 'booking': 2815, 'surely': 1592, 'feet': 5504, 'i‘ll': 3216, 'sura': 1591, '*9': 1626, 'goodo': 3127, 'sport': 1586, 'abbey': 4413, 'ladies': 1800, 'special-call': 1584, 'youre': 3837, 'ken': 6099, 'sipix': 1579, 'display': 2173, 'church': 1710, 'sim': 1578, '-sub': 2580, 'acl03530150pm': 2730, 'innocent': 3201, 'anyways': 2075, 'sed': 1573, 'statement': 839, 'staying': 1073, 'running': 1572, 'breaks': 4821, 'revealed': 1568, 'owns': 3418, 'ami': 4504, 'green': 2242, '9-6': 4376, 'r*reveal': 1564, 'process': 1563, 'present': 1561, 'prabha': 1560, 'posted': 1558, 'pobox84': 1557, 'neglet': 6491, 'pobox36504w45wq': 1556, 'pix': 1552, 'blah': 2100, 'that': 24, 'soz': 7363, 'pissed': 1551, 'cya': 5152, 'original': 1546, 'waliking': 7903, 'nw': 1544, 'nvm': 1543, 'harlem': 5788, 'crickiting': 5122, 'murdered': 1540, 'model': 1539, 'mite': 1538, '4get': 1650, 'missin': 2331, 'ger': 5668, 'siva': 3605, 'ac/u/goldviking': 4426, '2find': 4176, 'mas': 2322, 'nxt': 1358, 'suprman': 2489, 'coins': 1714, 'remove': 966, 'mumhas': 6444, 'mini': 2329, 'raining': 1369, 'wifes': 7975, '3d': 2675, 'mad': 1531, 'out': 66, 'unspoken': 7802, 'minimum': 3342, 'fantasy': 1749, 'liked': 1524, 'library': 1522, '2nite': 1104, 'mcr': 6330, 'jazz': 1515, 'help08714742804': 5817, 'westlife': 3799, 'lab': 1799, 'fring': 5608, 'interesting': 1510, 'courage': 2931, 'reliant': 7029, 'batsman': 4701, 'indian': 1508, 'educational': 5369, 'hl': 1500, 'shortage': 2441, 'group': 1497, 'likes': 2298, 'fyi': 1492, 'web2mobile': 7935, 'happened': 709, 'portions': 6821, '69888': 4307, 'five': 1488, 'childish': 2138, 'feb': 1486, 'nose': 6546, '***********': 1977, 'faster': 1750, 'fantasies': 1484, 'reveal': 1880, 'texting': 1396, 'urgh': 7818, 'drug': 1478, '82242': 2036, 'listening': 1525, 'virgil': 7867, 'current': 1471, 'nichols': 6509, 'jiayin': 3223, '31p': 4200, 'arng': 2079, 'menu': 1181, 'cost£1': 1469, 'sleepingwith': 7297, 'absence': 4420, 'arrested': 1674, 'worry': 546, 'mistakes': 3347, 'hvae': 5900, 'gnarls': 5688, 'cold': 1467, 'ho': 1501, 'ugh': 1082, 'city': 1466, 'received': 1864, 'panalam': 6678, 'mens': 6344, 'tariffs': 1920, 'pictures': 1549, 'cds': 1462, 'cbe': 1461, 'required': 7049, 'cartoon': 1460, '8wp': 2045, 'ujhhhhhhh': 7762, 'boo': 1452, 'armand': 1441, '08000938767': 1985, 'gd': 708, 'app': 1439, 'hr': 2256, 'announcement': 1437, 'token': 7677, 'tihs': 1939, 'aiyah': 1434, 'served': 7207, 'shouldn': 1900, 'oni': 1834, 'air': 1433, '1thing': 4133, 'gt': 1769, 'ad': 1432, 'suite': 1917, '87077': 1431, 'php': 3439, '530': 1428, 'barry': 4693, 'closed': 1712, 'told': 249, 'munsters': 3373, '3510i': 1424, 'immunisation': 5933, 'cramps': 2158, '*sighs*': 1421, 'searching': 1891, 'reality': 2402, '#': 1419, 'yijue@hotmail': 8068, 'vasai': 7841, '£150': 1418, 'isv': 6007, 'yoga': 1415, 'sn': 2455, 'sum': 3661, 'tensed': 7590, 'user': 1406, 'track': 1404, 'china': 2141, 'measure': 3327, 'tncs': 1401, '9am-11pm': 2047, 'cabin': 1458, 'golf': 5701, 'concert': 2149, 'stock': 1588, 'ticket': 1400, 'doesnt': 1137, 'housewives': 3174, 'tht': 1398, 'scrounge': 3565, 'hun': 1777, 'tear': 1395, 'tat': 1394, 'were': 231, 'ruin': 7114, 's': 26, '02/09/03': 2583, 'mb': 3325, 'chill': 2139, 'tm': 1942, 'pokkiri': 6806, 'situation': 1580, 'bx': 4872, 'illness': 5924, 'dai': 5158, 'sup': 1391, 'sucks': 1390, 'heart': 257, '1000s': 1635, 'south': 1386, 'stil': 7439, 'entitled': 1143, 'thousands': 7642, 'takes': 723, 'entertaining': 5410, 'somewhere': 1385, 'sign': 1381, 'module': 3355, 'showing': 1379, '1mega': 4129, 'rentl': 1874, '450ppw': 4244, 'screaming': 1377, 'reference': 1371, 've': 156, 'forevr': 2224, '09094646631': 4065, 'note': 1831, 'guess': 367, 'locaxx': 6222, 'vote': 1611, 'planning': 1366, 'surya': 7525, 'password': 1362, 'google': 1495, '10': 574, 'soil': 7335, 'argentina': 4574, 'dull': 5339, 'o2': 1359, 'vry': 1409, 'we‘re': 3800, 'nimya': 1355, '2': 28, 'fizz': 5533, 'maximize': 1345, 'longer': 1343, '4goten': 4253, 'seeing': 971, 'la': 1339, '%': 2572, 'expert': 5464, 'album': 2751, 'king': 1338, 'sat': 449, '08715203649': 3976, '0870241182716': 3943, 'kerala': 1336, 'taunton': 2496, 'kept': 1335, 'xin': 8042, 'kano': 1333, '077xxx': 3918, 'no-165': 6526, 'joined': 1332, 'non': 6537, 'itself': 1330, 'minute': 715, 'vatian': 7843, 'lousy': 2304, 'aren': 1440, 'canary': 2855, 'thepub': 7627, 'no-440': 3393, 'informed': 1325, 'imma': 1324, 'tex': 7597, 'part': 415, 'he\\x92s': 5829, 'ice': 1322, 'roommate': 1570, 'panren': 6681, 'hunny': 1321, '68866': 4302, 'hmv': 1318, 'olympics': 6606, 'hell': 1317, 'bari': 4686, 'happens': 1315, 'goal': 2237, 'hai': 1314, 'key': 2286, 'gap': 1309, 'yup': 291, 'research': 2414, 'photoshop': 6759, 'gal': 1308, 'funny': 1307, 'sexy': 537, '08081560665': 2599, 'frens': 1306, '150p/day': 2637, 'reverse': 3527, 'latests': 6163, 'lovejen': 3295, 'ended': 1740, 'speak': 432, 'fingers': 1300, 'fact': 1299, 'white': 1965, 'limited': 6200, 'evng': 1744, 'f': 1298, 'rgds': 3530, 'ashley': 2771, 'lacs': 1340, 'tis': 2507, '1843': 4121, 'sunday': 904, 'colin': 5020, 'empty': 1294, 'shop': 650, 'building': 2120, 'cuz': 1287, 'reasons': 2404, 'depends': 1291, 'cup': 1285, 'readiness': 6983, 'antelope': 4537, 'breathing': 4824, 'handed': 2246, 'bakra': 4670, 'costa': 1281, 'opponenter': 6625, '4403ldnw1a7rw18': 4239, 'gigolo': 5676, 'complete': 1279, 'penis': 3436, 'cook': 1721, 'character': 1278, '||': 852, 'foundurself': 5579, 'cash-in': 1276, 'nokias': 2352, 'excuse': 1297, 'computerless': 5048, 'cash-balance': 1275, 'greeting': 5732, 'forum': 3084, 'excused': 5455, '&sam': 3851, 'dreams': 704, 'bitching': 4765, 'cancer': 1274, 'talking': 770, 'whatsup': 7962, 'preponed': 6861, '09065989180': 4051, 'scrumptious': 7179, 'bugis': 1270, 'surfing': 2490, '150p/sms': 4110, 'laughed': 2291, 'bold': 1269, 'madoke': 6278, 'necklace': 3387, 'barely': 1267, 'uni': 1606, 'canal': 2854, 'bak': 1266, '$5': 2568, 'dontignore': 5303, 'looked': 1812, 'stopcost': 7445, 'jesus': 2279, 'hahaha': 2245, 'gosh': 5711, 'worries': 1413, 'prakasam': 6841, 'ericson': 5419, 'entered': 936, '\\x96': 8103, 'content': 739, 'whenevr': 2546, 'awake': 1263, 'behave': 2093, 'moment': 1049, 'matured': 1816, 'kusruthi': 1798, 'asleep': 1262, '08719181513': 2614, 'drops': 5325, '*sent': 3865, 'receive': 346, 'butt': 4864, 'anymore': 1259, 'bone': 2814, 'aiyo': 1257, 'ryder': 7122, 'arrange': 1442, 'bishan': 1686, 'map': 2320, 'netcollex': 2349, 'ab': 4412, 'vs': 7885, 'i\\x92m': 2274, 'daddy': 1288, '08707509020': 1246, 'yahoo': 1244, 'shattered': 7230, 'goin2bed': 5696, 'wondering': 1243, 'conditions': 1468, 'uhhhhrmm': 7760, 'pocy': 6804, 'wiv': 1241, 'aunties': 4624, 'wishes': 1240, 'cares': 2861, 'reffering': 7016, 'contents': 2154, 'real1': 6984, 'facts': 5477, 'voice': 1238, 'havebeen': 5794, 'valentines': 1237, '1030': 2633, 'sometimes': 1384, 'woke': 1242, 'bt-national': 2835, 'something': 201, 'vouchers': 621, 'fringe': 3091, 'urself': 1235, 'resizing': 7059, 'training': 1229, 'wah': 1958, 'their': 1227, 'sian': 3598, 'ref': 1868, 'begins': 4733, 'tc': 1226, 'swt': 1225, 'studying': 1223, 'george': 5666, 'std': 1222, '//img': 3892, 'bffs': 4752, '87131': 4360, 'slept': 1219, 'single': 1218, 'sick': 1216, 'rr': 7108, 'networking': 2350, 'ls278bb': 6253, 'names': 2342, 'advice': 1667, 'seriously': 1213, 'creative': 5117, 'roommates': 3539, '3rd': 1649, 'self': 1212, 'everybody': 2199, 'wnt': 1618, 'sale': 1211, 'round': 1210, 'kids': 1337, 'return': 1209, 'manda': 2318, 'french': 5601, 'hella': 3157, '08719181259': 3998, 'camry': 4898, 'spys': 7407, 'ha': 874, '3hrs': 4212, '6hrs': 1652, 'aboutas': 4417, 'murder': 1352, 'power': 1202, 'fulfil': 5626, '*phews*': 3862, '09099726429': 4071, 'drizzling': 5324, 'pound': 1201, 'urgnt': 1951, 'pc': 1197, 'omw': 1192, 'slots': 3611, '$2': 3847, 'none': 1191, 'reserves': 7056, 'ghodbandar': 5673, 'letter': 3266, 'nobody': 1356, 'shrub': 7264, 'myself': 1189, '“': 8124, 'mood': 1185, '//www': 993, 'mess': 3337, 'adds': 4447, 'men': 1180, 'medical': 1179, 'secretary': 3567, 'sky': 1906, 'matches': 1177, 'list': 1173, 'link': 1172, 'stores': 3648, 'above': 4418, 'instructions': 2266, 'offers': 889, 'sake': 3550, '.': 2, '08715205273': 3980, 'izzit': 1166, 'u': 12, 'idea': 1161, 'word': 325, 'hurts': 1160, 'unsub': 1405, '0871212025016': 3958, 'twinks': 7746, 'holding': 1156, 'paragraphs': 6690, 'meaning': 1178, 'bird': 2802, 'station': 1587, 'opinion': 1194, '500': 500, '6wu': 2699, 'takin': 1919, '87021': 2039, 'trouble': 1230, 'tech': 3693, 'copied': 5083, 'dino': 5263, 'fantastic': 1147, 'melt': 3333, 'facebook': 1146, '2006': 4145, 'excellent': 1145, '4-tc': 2016, 'especially': 1144, 'films': 3067, 'lyricalladie': 6266, 'meds': 1535, 'energy': 1142, 'project': 763, 'paperwork': 6686, 'areyouunique': 4573, 'cars': 1702, 'select': 3570, 'spain': 7367, 'nalla': 6468, 'what': 55, 'sane': 7142, 'drunken': 2997, 'direct': 1135, 'digital': 1134, 'brought': 2116, 'deep': 1133, 'gbp': 5658, 'shut': 2444, 'wats': 1410, 'fails': 3045, 'textand': 7601, 'credits': 1129, 'laid': 2290, 'belovd': 2095, 'santacalling': 7144, 'cinema': 1123, 'tt': 1599, 'ü': 85, '0776xxxxxxx': 2590, 'msg*': 2339, '6th': 2029, 'cine': 1122, 'oooooh': 6618, 'blue': 1117, 'biz': 1116, 'gong': 5703, '0871277810710p/min': 3967, 'bid': 1115, 'appear': 4554, 'bye': 1457, 'show': 538, '*turn*': 3869, 'including': 1782, 'blackberry': 1688, 'full': 559, 'red': 1206, 'comuk': 1280, 'sneham': 7328, 'monos': 6417, 'question': 536, 'used': 772, 'experience': 1748, 'know': 63, 'colour': 523, 'muht': 6440, 'missing*': 3346, 'younger': 8077, 'havent': 508, '07946746291/07880867867': 3924, 'murderer': 1541, 'ahead': 2060, 'fine': 269, 'italian': 1514, 'marrge': 6308, 'dnt': 932, 'away': 503, 'second': 766, 'replacement': 7043, 'shuhui': 1380, 'press': 893, 'number': 159, 'advance': 1255, 'laugh': 1169, 'card': 789, 'explicit': 3039, '09066368470': 4058, 'hhahhaahahah': 5830, 'gokila': 5697, 'where': 127, 'apologize': 4551, 'iraq': 5995, '£100': 496, 'nurungu': 2354, 'jiu': 1516, '89123': 4371, 'impress': 5938, 'network': 411, 'aaooooright': 4411, 'while': 452, 'noi\\x92m': 6534, 'lifetime': 2297, 'oh': 132, 'fellow': 5505, 'babe': 182, 'squeezed': 7409, 'smells': 7315, 'yourself': 518, 'social': 1581, 'http//tms': 5879, '150pm': 1248, 'take': 121, 'party': 830, 's&c': 1888, 'clocks': 5001, 'bored': 481, 'werethe': 7953, 'don‘t': 2179, 'sad': 721, 'bstfrnd': 2834, 'stays': 3644, 'classic': 4993, 'favor': 2205, 'w/question': 7887, 'minuts': 1820, 'college': 702, 'cafe': 2124, 'haf': 530, 'tnc': 7670, 'reply': 101, 'cr9': 1282, 'shoot': 7249, 'lotta': 6247, 'ends': 869, 'satanic': 7153, 'prestige': 6870, 'pilates': 1364, 'directly': 1475, '1/1': 4080, '000': 440, '£350': 778, 'refunded': 7020, 'm221bp': 3310, 'imposed': 5936, 'dint': 1474, '09061209465': 1994, 'hugging': 5885, 'children': 1015, 'argument': 1673, '177': 4119, '50s': 4277, 'ummma': 7769, 'week': 131, 'forgiven': 3080, 'wondar': 8004, 'aint': 2062, 'starts': 1072, 'engaged': 5404, 'code': 458, 'bad': 456, '2005': 2646, 'slice': 3608, '8': 454, 'supreme': 7517, 'mp3': 1351, 'spent': 1070, 'whats': 849, 'girls': 802, 'lmao': 1809, 'ahhhh': 4474, '18/11/04': 4120, 'camp': 4897, 'looking': 584, 'apt': 4566, 'resubmit': 7072, 'wont': 439, 'anyplaces': 4543, 'july': 2281, 'treated': 3733, 'gain': 3098, '88088': 4363, 'wife': 437, 'lovers': 3297, 'film': 938, 'waste': 1614, 'board': 4782, 'till': 436, 'that\\x92scool': 7613, 'gay': 1310, 'sorry': 96, 'pimples': 6769, 'age': 734, 'til': 435, 'thank': 434, 'mean': 611, 'get': 43, 'hair': 486, '83338': 4344, 'bluray': 4781, 'asian': 4593, 'kettoda': 2285, 'house-maid': 1505, 'beneficiary': 4741, 'replying': 1207, 'lvblefrnd': 3306, 'smth': 975, 'box139': 4802, 'let': 183, 'reach': 417, 'wkly': 776, 'kavalan': 3238, 'okay': 414, 'chain': 2134, 'vitamin': 7876, 'nope': 758, 'spelled': 7380, 'not': 32, 'big': 312, 'adewale': 4448, 'foreign': 2223, 'wee': 3793, 'joking': 1517, 'blur': 2813, 'invnted': 2270, 'british': 2828, 'detroit': 2964, '2docd': 4173, 'vodafone': 1610, 'visit': 620, 'secrets': 7188, 'sunshine': 980, '09064019014': 2626, 'buzy': 2121, 'clark': 2890, 'laughing': 2292, 'drop': 638, 'anytime': 627, 'coffee': 1124, 'near': 887, 'frnd': 671, 'thus': 7649, 'comingdown': 5032, 'sex': 897, 'fault': 1485, 'nitw': 6523, 'jia': 6052, 'min': 344, 'w': 912, 'enemy': 2192, 'hill': 3165, 'burgundy': 4857, 'themob>': 7621, '1205': 4092, '25/f': 2652, 'jenxxx': 6045, 'rocks': 3537, '50%': 4266, 'xmas': 592, 'charity': 922, 'shoranur': 7250, 'details': 461, 'sort': 902, 'ex': 1296, 'im': 162, 'jon': 6063, 'village': 1954, 'computer': 925, 'wk': 438, 'mint': 6379, 'look': 394, 'zac': 8090, '2end': 4174, 'psychiatrist': 6919, 'tacos': 3681, 'hook': 1503, 'jackpot': 6027, 'tomorrow': 155, '3lions': 4213, 'like': 67, 'guys': 391, 'smiling': 541, 'sleeping': 540, '*****up': 2574, 'called': 352, 'poboxox36504w45wq': 6800, 'den': 386, 'hanger': 5777, 'award': 385, 'evry1': 5450, 'sony': 901, 'headache': 3150, 'unless': 1234, 'working': 384, 'damn': 1131, 'death': 2164, '50gbp/mtmsg18': 2021, 'attach': 4615, 'congratulations': 863, 'spot': 7402, 'asks': 1444, 'dear': 126, 'leh': 378, 'todays': 618, 'snatch': 7326, 'happiness': 875, 'window': 3809, 'twice-': 7745, 'fun': 376, '/-': 3890, 'euro2004': 2198, 'kidding': 6106, 'th': 1397, 'might': 379, 'minded': 6372, '09058094583': 4019, 'ofice': 3404, 'threw': 7646, 'real': 371, 'philosophy': 2376, 'bold2': 4787, '£1000': 361, 'mirror': 6381, 'cheers': 1014, 'cn': 2899, 'available': 596, 'caller': 1009, '08712400603': 3960, 'vodka': 2539, 'alive': 2066, '08718730555': 3992, 'goto': 1496, 'm26': 2306, 'dwn': 5348, 'teach': 1922, 'addicted': 1666, 'parco': 3426, '£1': 360, '2optout': 1644, 'handset': 1771, 'loyalty': 1530, 'recount': 7008, 'enough': 428, 'cornwall': 2926, 'tried': 590, 'wither': 7994, 'ron': 1883, 'wake': 491, 'bt': 522, 'inclusive': 2264, 'n': 100, 'plz': 430, 'pro': 6886, 'whom': 1966, 'fab': 3044, 'ts&cs': 982, 'ke': 3240, 'decimal&gt': 602, 'youuuuu': 8080, 'ebay': 3008, 'p£3': 3491, 'getting': 252, 'jen': 1791, 'unlimited': 847, 'share': 1378, 'vettam': 2536, 'back': 102, 'ths': 3706, 'casualty': 4922, 'tarot': 7568, 'kaaj': 6081, 'into': 354, 'taj': 7558, 'put': 416, 'ever': 353, '2p': 2659, 'steve': 7436, 'obey': 6572, 'taking': 689, 'check': 293, 'poem': 3449, 'wap': 1239, 'uncountable': 7777, 'kath': 6094, 'tonights': 3722, 'forgets': 3079, 'desert': 5221, 'evn': 3029, 'other': 311, 'everyboy': 5439, 'numbers': 888, '28': 1642, '2stop': 2661, 'understand': 985, '80182': 2034, 'b\\x92day': 2844, 'bunkers': 4855, 'machan': 2311, 'down': 225, 'cruisin': 5129, 'argh': 4575, 'shit': 348, '69911': 4309, 'room': 347, 'going': 88, '20m12aq': 4148, 'atm': 2083, 'num': 1357, 'cal': 1272, 'has': 151, 'seing': 7196, 'anna': 2759, '16+': 498, 'try': 277, 'difficult': 931, 'dem': 2168, 'othrwise': 6643, '150ppermesssubscription': 2005, 'buyer': 4867, 'eerie': 1738, 'ba128nnfwfly150ppm': 4657, '1327': 1247, 'skilgme': 1905, 'go': 58, 'past': 1548, '2morrow': 2010, 'msgs': 824, 'poly': 684, '88039': 1658, 'aiyar': 2064, 'lodge': 6225, 'arr': 4580, 'celebrate': 1703, 'expecting': 1747, 'parents': 680, 'processed': 6893, 'tuesday': 1081, 'otside': 3417, 'java': 1790, 'mu': 825, 'thk': 276, 'yan': 1622, 'tsunamis': 7737, 'guarantee': 5746, 'famous': 5487, 'lose': 610, 'dock': 5286, 'dat': 308, 'update_now': 7809, '£250': 777, 'fight': 1755, 'between': 425, 'write': 1090, 'craving': 5114, 'whole': 775, 'xam': 3830, 'alright': 480, 'breathe': 2826, 'wed': 1963, 'man': 332, 'drinks': 2184, '4': 54, 'moan': 1821, 'tendencies': 7589, 'shall': 431, '3000': 4194, 'amused': 4515, 'bawling': 4703, 'song': 838, 'premarica': 6858, 'kiss*': 1037, 'diet': 1732, 'ettans': 5431, 'actual': 4445, 'during': 1138, 'lar': 330, '1st': 326, 'ldn': 1171, 'grown': 5740, 'dhina': 2966, 'thought': 324, 'awarded': 322, 'l': 2289, 'compass': 5038, 'm8': 2308, '7': 321, 'puttin': 3490, 'camcorder': 735, 'chores': 4983, 'thts': 1937, 'naked': 1353, 'habba': 5762, 'ah': 338, 'weight': 1412, 'sea': 765, 'consider': 2919, 'matters': 6321, 'difficulties': 5254, 'bridge': 4826, 'officially': 6590, 'obviously': 2356, 'owe': 6667, 'high': 1499, 'realise': 3508, 'package': 2366, 'smile': 318, '9153': 4378, 'hint': 5837, 'free2day': 5596, 'dip': 5264, 'boy': 443, 'stomach': 2476, 'having': 316, 'batch': 4698, 'rawring': 6973, 'lololo': 6234, '08000930705': 695, 'antha': 4538, 'finish': 315, 'madam': 2313, 'meant': 821, 'liver': 6220, 'converted': 5075, 'end': 314, 'opt': 828, '//gotbabes': 3891, 'gettin': 1493, 'ceri': 4934, 'update': 490, 'lives': 1808, 'selfindependence': 7197, 'convinced': 2924, 'mquiz': 6427, 'bus': 374, 'hands': 1498, '08002888812': 2596, 'lekdog': 6183, '0871750': 2610, 'specify': 7378, 'reaching': 1205, 'rs': 1065, 'oscar': 6642, 'plus': 472, 'because': 307, 'polyphonic': 2381, 'acc': 1663, 'licks': 3269, 'bull': 4852, 'ripped': 7090, 'just': 47, 'considering': 1719, 'actually': 423, '£s': 8121, 'talk': 306, 'says': 450, 'ralphs': 6965, 'bear': 2788, 'ayo': 4647, 'town': 477, 'hav': 507, 'docs': 5288, 'logo': 1810, 'insha': 2265, 'internet': 1511, 'umma': 1232, 'polyc': 6811, 'hello-': 5813, 'enjoy': 301, 'chosen': 2142, 'hmm': 807, 'bought': 1453, 'taka': 7559, '09061790121': 2622, 'stuff': 299, 'law': 1802, 'payed': 6715, 'hamster': 3145, 'yijue': 1414, 'sorrow': 3624, 'i\\x92llspeak': 6020, 'leona': 2295, 'eye': 2203, 'legitimat': 6182, 'jez': 6050, 'k': 115, 'elaborating': 5384, 'think': 113, 'yr': 914, 'best1': 2795, 'vary': 1608, 'girl': 323, 'tel': 907, 'jordan': 1794, 'st': 978, 'diesel': 5252, 'cute': 1286, 'draw': 296, 'flower': 1302, 'they': 122, 'urgent': 210, 'wrk': 2552, 'dload': 1735, 'lyk': 3309, 'suzy': 3668, 'shitin': 7244, 'didn': 295, 'more': 134, '18': 519, 'lets': 583, 'diwali': 5281, 'polo': 3453, 'box39822': 1695, 'lady': 1341, '08712400602450p': 2606, 'kodstini': 6122, 'ac/u/nat27081980': 2726, 'national': 886, '50': 292, 'moments': 3358, 'secs': 3568, 'sariyag': 7150, '02072069400': 3901, '£800': 1245, 'combine': 2909, 'bmw': 2106, 'entry': 483, '10k': 1998, 'suply': 7511, 'darlings': 2948, 'made': 467, 'collection': 482, 'mates': 819, 'science': 3558, '4give': 4252, 'moms': 1823, 'meeting': 288, 'lunch': 287, 'decent': 5180, 'wasn': 913, 'among': 2070, 'dt': 5332, 'smile*': 2453, 'kb': 1519, 'giv': 1766, 'dunno': 426, 'than': 433, 'meals': 6331, '9307622': 4382, 'screen': 2430, 'great': 141, 'some': 138, 'yes': 153, '=': 781, 'body': 1689, 'road': 1374, 'aburo': 2725, 'ordered': 2362, 'mailed': 6285, 'msg': 186, 'sms': 274, 'answered': 4534, 'opt-out': 1835, 'songs': 1910, '88600': 2043, 'cultures': 5141, 'brandy': 2822, 'remain': 1873, 'lucky': 882, 'forgot': 366, 'mike': 6363, '24m': 4161, 'global': 5682, 'game': 505, 'shaved': 7231, 'bonus': 664, 'co': 250, 'teju': 7582, 'sip': 7284, 'bx420-ip4-5we': 2123, 'tones': 421, 'notified': 6550, 'age16+£1': 4471, 'battery': 1447, 'chat': 260, 'youi': 8075, 'chinnu': 4975, 'small': 900, 'eg': 868, '1da': 4126, 'annoyin': 4530, 'without': 479, '8th': 1659, '6': 327, 'londn': 6235, 'hello': 258, 'zealand': 8091, 'sis': 651, 'wifi': 7976, 'canteen': 4903, 'texts': 475, 'prolly': 2391, 'tiwary': 3713, 'any': 123, 'bro': 2115, '1': 140, 'sometime': 2460, 'important': 531, 'packs': 3419, 'hee': 806, 'thecd': 7616, '08452810073': 1989, 'nan': 2343, 'price': 473, 'accident': 2051, 'holla': 1157, 'goin': 529, '20': 998, 'pls': 116, '9t': 4389, '5free': 2686, 'close': 666, 'new': 112, 'apparently': 1671, 'sorrows': 7354, 'help': 253, 'din': 1734, 'prompts': 6903, 'when': 53, 'embarassed': 1739, 'sell': 972, '09066362231': 1996, 'representative': 1208, 'drunk': 5329, '50/msg': 4267, 'semester': 836, 'i': 3, 'under': 1233, 'can': 31, 'coin': 2905, 'john': 1167, '0870141701216+': 3940, 'join': 466, 'neva': 678, 'information': 944, 'losers': 6244, 'here': 124, 'ente': 5409, 'hppnss': 3175, 'meet': 184, 'have': 23, 'rodger': 7097, 'lt': 6254, 'evrey': 3031, 'tobacco': 7671, 'shag': 7219, 'please': 108, 'thanks': 196, 'mad1': 6276, 'boat': 2107, 'weightloss': 7944, 'p': 1196, 'havin': 2250, 'save': 1376, 'few': 328, 'today': 98, 'nydc': 3402, '<fone': 4391, 'q': 1367, 'were/are': 7950, 'changed': 1463, 'nitz': 6524, 'bin': 1684, 'persons': 1363, '*number': 3860, 'still': 97, 'e-namous': 5351, 'lookin': 1528, 'relocate': 7031, 'previously': 2389, 'caught': 2133, 'abt': 455, '09061701444': 4031, 'waking': 1612, 'yer': 1972, 'fancy': 744, 'sickness': 7269, '[sic]': 4402, 'everything': 408, 'weed': 3794, 'flag': 939, 'friday': 706, 'dokey': 2982, 'funk': 3095, 'relieved': 7030, 'ringtoneking': 3535, 'dad': 460, '£10': 1093, 'died': 1473, 'll': 61, 'read': 764, 'dont': 105, '07742676969': 3916, 'holiday': 271, 'endof': 5402, 'macho': 2312, 'type': 771, 'bx420': 2122, 'pre': 6852, 'hi': 114, 'charge': 700, 'wonder': 1089, 't-ruthful': 7547, 'hide': 3164, 'later': 106, '75max': 4321, '87070': 4359, 'collect': 459, 'dimension': 5258, 'sending': 896, 'warm': 988, 'bf': 1683, 'grab': 5718, 'odi': 3403, 'but': 33, 'bigger': 2097, 'pap': 3423, 'topic': 3725, 'months': 1051, 'tell': 109, 'bhaskar': 4754, 'place': 244, 'twat': 7744, 'first': 216, 'future': 1491, 'chachi': 4936, 'ya': 227, '87066': 733, 'leaves': 1039, 'alex': 1435, 'guaranteed': 270, 'heavy': 1316, 'call': 22, 'want': 82, '09065989182': 4052, 'floor': 2217, 'howdy': 5875, 'claim': 137, 'lnly': 6221, 'may': 272, 'dollar': 2983, 'ok': 56, 'shining': 3585, '30': 854, 'sch': 515, '9061100010': 4377, 'footprints': 2221, 'dark': 2947, 'www': 165, 't-c': 3678, '-': 68, 'individual': 3197, 'slightly': 3609, 'so': 34, 'maneesha': 2319, 'photos': 2378, 'tyler': 1603, 'disturb': 1136, 'breather': 4823, 'job': 302, 'whore': 7973, 'bud': 2118, 'imin': 5931, 'painting': 3421, 'shoes': 3591, 'rock': 1064, 'elaine': 3016, 'cuddling': 5138, '(': 125, '6missed': 4312, 'amrca': 4512, 'fixed': 1149, 'frying': 5619, 'sk38xh': 1382, 'tbs/persolvo': 7576, 'amt': 2072, 'e': 168, 'bout': 599, 'annoying': 4531, '10am-7pm': 1636, 'chances': 2872, 'laundry': 6164, 'minutes': 410, 'ringing': 7086, 'mums': 6445, 'dudette': 5337, 'cartons': 4917, 'torture': 7701, 'geeee': 3104, '08717507382': 3984, '09064017295': 4045, '0808': 1988, 'seen': 895, 'hear': 369, 'wish': 266, 'envelope': 1295, 'vill': 7864, 'http//www': 5880, 'di': 2169, '#&gt': 60, 'dobby': 2980, 'auction': 663, 'continued': 5071, 'interested': 1164, '61': 4293, 'timings': 7659, '02/06/03': 1631, 'lost': 948, '00': 994, 'christ': 2886, 'removal': 3521, 'practising': 6839, '25': 1640, 'lyrics': 6267, 'eng': 1741, 'askin': 2082, 'catching': 2866, 'ppm150': 6833, 'naughty': 1827, 'month': 534, 'scared': 1890, 'lo': 3282, 'box': 340, 'oooh': 3409, 'witot': 7996, 'txts': 983, 'de': 525, 'by': 84, '2stoptxt': 2011, 'mathematics': 3323, 'wun': 1620, 'ive': 1165, 'blank': 4770, 'about': 92, 'missed': 533, 'items': 6010, '3mobile': 4215, 'mark': 1344, '83435': 4346, 'instantly': 5973, 'orchard': 959, 'returning': 7076, 'sense': 1576, 'superior': 7509, 'ones': 1193, 'london': 1342, '-msg': 3881, 'start': 334, 'pay': 429, 'indeed': 3195, 'espe': 5428, 'best': 255, 'da': 103, 'pin': 1550, 'workout': 8014, 'wet': 2545, 'ml': 6395, '945+': 4383, 'fromm': 2229, 'y': 283, 'version': 1408, 'ahmad': 1256, '7548': 4320, 'same': 273, 'people': 265, 'host-based': 5868, 'sha': 1898, '09058094597': 4021, 'said': 173, 'angry': 662, 'westonzoyland': 7956, 't&c': 542, 'txt': 95, 'dance': 2946, 'fudge': 5622, 'she': 90, 'mumtaz': 1825, 'standard': 1914, '87239': 1657, '3mins': 1648, 'meal': 1817, 'moon': 1350, 'see': 91, 'definite': 5191, 'ppm': 1851, '08081263000': 3928, 'links': 6208, '81618-': 2705, 'huiming': 5888, 'gota': 5713, 'dabbles': 5155, 'marriage': 1176, 'sabarish': 7125, 'is': 15, 'covers': 5105, 'tmr': 382, '5+-': 4263, 'ans': 857, 'hurt': 581, 'brownie': 4836, 'bluetooth': 1451, 'euro': 2197, 'eat': 365, 'outl8r': 6652, 'noe': 612, 'cooking': 2155, 'hey': 133, 'relax': 1872, 'cant': 203, 'possible': 1058, 'mustprovide': 6452, 'cash': 192, 'gr8': 673, 'inches': 2261, '09041940223': 4004, 'nitros': 6522, 'iq': 2272, 'cab': 4879, 'swing': 906, 'do': 36, '087104711148': 3957, 'competition': 2148, 'garments': 5651, '08709501522': 3953, 'good': 64, 'refreshed': 7018, '41782': 4232, 'babes': 1264, 'nevamind': 6500, '50perweeksub': 4273, 'fees': 2206, 'in': 14, 'holder': 1502, 'popping': 6817, '08001950382': 1986, 'address': 501, 'bless': 2102, 'mis': 3343, 'meive': 6340, 'itwhichturnedinto': 3213, 'dollars': 2177, 'sharing': 3581, 'fundamentals': 5631, 'whos': 3802, 'the': 11, 'yah': 8050, 'would': 221, 'darling': 2163, 'using': 1407, 'masters': 3321, 'free': 57, 'did': 120, 'me': 16, 'pain': 470, 'came': 457, 'well': 139, 'raping': 6969, 'thot': 3704, 'rayman': 6974, 'years': 494, 're': 130, 'hour': 465, 'alfie': 2065, 'trip': 572, 'abnormally': 4416, 'brilliantly': 4828, 'txtauction': 1602, 'over': 208, 'truly': 2515, 'burn': 4859, 'tickets': 1228, '08714712388': 3972, 'i‘m': 1786, 'now': 30, 'become': 1448, 'events': 5436, 'crave': 928, 'ovulate': 6664, 'respect': 1876, 'around': 222, 'limiting': 6201, 'pete': 1055, 'all': 62, 'soft': 2457, 'video': 401, 'b': 181, 'canceled': 4900, 'nyc': 2355, 'picking': 892, 'arrive': 1443, 'racing': 3494, '6zf': 4315, 'playing': 1847, 'lor': 99, 'a': 9, 'haiyoh': 5766, 'sleep': 238, ',': 6, 'ac': 1662, 'z': 8089, 'student': 3652, 'nights': 1828, 'hustle': 5898, 'admirer': 1109, 'x': 224, '3gbp': 1647, 'midnight': 1348, 'cover': 1128, 'permissions': 6738, 'cool': 294, 'devils': 5238, 'services': 649, 'onto': 2358, 'overheating': 6661, 'dream': 934, 'thinkin': 1077, 'message': 158, 'work': 149, 'yeah': 170, 'needed': 3389, 'avalarr': 4633, 'gee': 1764, '300603': 2666, 'no1': 1542, 'torch': 1943, 'hurry': 1506, 'math': 3322, 'age16': 1001, 'ertini': 5424, 'sec': 1892, 'fri': 748, 'use': 319, 'loss': 2303, 'bend': 4740, 'rush': 1887, 'slippers': 2451, 'spontaneously': 7397, 'mtnl': 6435, 'agidhane': 4473, 'phasing': 6751, 'liao': 343, 'xxx': 422, 'dom': 5298, 'bcoz': 788, 't': 40, 'pm': 760, 'moby': 1822, 'whatever': 623, 'aco&entry41': 2731, 'snappy': 7325, 'hockey': 3168, 'lazy': 1170, 'customer': 251, 'dress': 2182, 'predict': 6853, 'kalstiya': 6087, 'together': 655, 'subtoitles': 7486, 'allah': 1436, 'be': 41, 'wit': 728, 'against': 917, 'princess': 447, 'com': 213, 'poo': 6813, '2004': 1249, 'barcelona': 4684, 'usf': 910, 'weeks>': 7943, '_': 2048, 'rats': 6971, 'msg150p': 3366, 'mist': 6389, 'waitin': 1959, '2optout/d3wv': 4187, 'poker': 3450, 'ileave': 5923, '08448714184': 3932, 'anybody': 1438, '87575': 2041, 'regret': 1870, 'dial': 2968, 'pure': 6937, 'wanted': 451, '09058094594': 4020, 'wrong': 850, 'brother‘s': 4834, 'tkts': 3714, 'always': 240, 'anthony': 2761, 'even': 214, 'rates': 1062, 'irulinae': 6002, 'wen': 492, 'an': 128, '80122300p/wk': 4334, 'slacking': 7296, 'credited': 2159, 'princes': 6877, 'had': 145, 'petrol': 6749, 'lttrs': 6256, 'wishing': 1088, '150p/msgrcvd': 4104, 'persevered': 6740, 'ave': 1003, 'havbeen': 5793, 'germany': 3113, '-db-': 3880, 'definitely': 1290, 'come': 70, 'vomitin': 7880, 'coming': 267, 'messages': 468, '150p/msgrcvdhg/suite342/2lands/row/w1j6hl': 2003, 'agent': 4472, 'stop': 93, 'claire': 2889, 'gently': 1765, 'anything': 194, '2000': 2645, 'private': 761, '850': 4351, 'too': 148, 'live': 289, 'emergency': 5396, 'answering': 2073, 'miss': 179, 'checked': 1464, 'find': 215, 'value': 7835, 'bloo': 2104, 'friend': 256, 'her': 110, 'most': 446, 'disappointment': 5270, 'uncles': 1949, 'haven': 607, 'chance': 313, 'took': 656, 'include': 2263, 'sounds': 769, 'slave': 1067, 'safe': 970, 'paid': 1839, 'callers': 1700, '&amp': 174, 'as': 83, 'parish': 6694, 'light': 881, 'sooo': 7351, 'mountain': 6423, 'up': 51, 'mo': 1048, 'shudvetold': 7267, '85023': 1430, 'checkin': 4951, '9': 521, '82468': 4339, 'indians': 1783, 'paths': 6711, '5th': 2025, 'it+both': 6009, 'way': 164, 'enjoyin': 3019, 'philosophical': 6754, '2u': 2012, 'planned': 1365, 'forward': 1304, '000pes': 3895, 'wait': 234, '8-hr': 4330, 'questions': 963, 'marry': 1533, 'house': 329, 'praveesh': 6848, 'haha': 264, 'olave': 6601, 'very': 175, 'bk': 2805, 'specially': 976, 'kent': 3243, 'company': 703, 'recorder': 7007, '10am-9pm': 4085, 'center': 2870, 'lol': 207, 'cards': 4911, 'g': 390, '08718726970': 3990, 'colourful': 5024, 'k52': 2282, '8552': 2710, 'confirmed': 2150, '08712460324': 1099, 'cake': 1120, 'should': 154, 'forums': 3085, 'uk': 226, 'vehicle': 7847, 'ge': 1029, 'unsubscribe': 726, '83049': 2706, 'prize': 185, 'starve': 7424, 'happening': 1154, 'jess': 1792, 'keep': 187, 'flirt': 2216, 'afterwards': 4469, 'maths': 6318, '83355': 1653, '6months': 2028, '7250': 4318, 'cheetos': 4958, 'erm': 2194, 'short': 1215, 'pick': 191, 'centre': 1704, 'bhaji': 2798, 'married': 1532, 'didn‘t': 5251, 'eve': 605, 'spouse': 7403, 'day': 78, 'engin': 3018, 'gives': 1494, 'major': 2316, 'birth': 2803, 'chit-chat': 4977, 'of£2000': 3405, 'united': 7794, 'office': 413, 'before': 195, 'theres': 7628, 'playng': 6782, 'silent': 973, 'rays': 3503, 'watching': 402, '09066358152': 4053, 'life': 169, 'waiting': 245, 'detailed': 5230, 'grand': 2241, 'er': 1479, '6times': 4314, 'shesil': 3584, 'family': 528, 'bloke': 2103, 'lie': 2296, 'don': 94, '£900': 1625, 'that\\x92s': 1932, 'hopeing': 5862, 'evr': 3030, 'sofa': 1220, 'surf': 7518, 'neighbors': 6493, 'fireplace': 5529, '0796xxxxxx': 3925, 'text': 81, 'stand': 1221, 'morning': 190, 'earlier': 796, 'rules': 7115, 'm': 37, 'father': 1148, 'buff': 2836, 'birthday': 363, '5+3+2=': 4264, 'kodthini': 6123, 'hop': 1158, 'cum': 791, 'ranjith': 3502, 'husband': 2258, 'sent': 209, 'onion-rs': 6612, 'being': 284, 'creep': 2934, 'radio': 1860, '200': 2008, 'realy': 1063, 'advisors': 4461, 'special': 275, 'careabout': 4912, '08704439680': 3946, 'paying': 1843, 'sure': 202, '09071512433': 4061, 'fucking': 672, 'off': 204, 'gayle': 5656, '<forwarded': 1660, 'moji': 2334, '515': 4278, 'mall': 3319, 'del': 1020, '-d': 1629, 'tho': 690, 'faith': 3046, 'tait': 7557, 'coherently': 5018, '____': 4404, 'us': 211, 'railway': 3497, 'buzz': 1271, 'lot': 395, 'it': 17, 'am': 73, '08000839402': 731, 'profile': 6896, 'sight': 1217, 'k61': 6079, 'gentle': 3110, '*sips': 3866, 'europe': 5432, 'ride': 1881, 'chez': 4964, 'lions': 3278, 'goodmorning': 750, 'buddy': 4847, 'hit': 876, 'lucozade': 1814, 'common': 1717, 'nosh': 6547, 'newest': 2351, 'food': 504, 'joy': 1035, 'ip': 5992, 'messenger': 2327, '&gt': 2573, 'mobile': 111, 'someone': 223, 'saw': 616, 'personal': 2373, 'nite': 587, 'hols': 1773, '7-mahaveer': 4317, 'won': 177, 'ar': 1112, 'top': 619, 'loves': 1044, '10ppm': 2634, 'gang': 5649, 'audition': 2084, 'area': 785, 'thats': 290, 'friendship': 558, 'per': 233, 'or': 35, 'max10mins': 1534, 'gonna': 241, 'msn': 3369, 'weak': 1615, 'bed': 407, '82277': 1107, 'could': 235, 'regular': 2408, 'feet*': 2207, 'frnds': 800, 'motorola': 885, 'tahan': 7555, 'late': 242, 'é': 1976, 'your': 20, 'class': 280, 'yck': 3833, 'easy': 427, 'frndship': 2228, 'deliveredtomorrow': 2167, 'thing': 248, 'forms': 3083, 'cleared': 2144, 'awaiting': 1445, 'stated': 7426, 'alert': 1668, 'collages': 5021, 'summers': 7503, 'kaitlyn': 6083, 'lift': 1523, 'enter': 935, '2003': 916, 'normally': 2353, 'these': 544, 'sweetheart': 3672, '220-cm2': 2651, 'havnt': 2251, 'wales': 7902, 'shoving': 7257, 'drinkin': 2992, 'stressfull': 7454, 'hasn': 2248, 'beer': 2092, 'hanumanji': 5781, 'shopping': 420, 'studdying': 7467, 'pdate_now': 6720, 'jerry': 3222, '4u': 999, 'luck': 755, 'via': 1083, 'able': 549, '£2000': 659, 'def': 1728, '0870753331018+': 3950, 'wif': 493, 'bring': 552, 'calling': 553, 'sweet': 359, 'a21': 4408, 'ne': 2346, 'janinexx': 6034, 'ntt': 958, 'fave': 3052, 'capacity': 4905, 'head': 710, 'iscoming': 3209, 'found': 872, 'dads': 5157, '526': 4280, 'mob': 564, 'tick': 1399, 'apart': 2762, 'keris': 6100, 'started': 652, '20p': 1250, 'net': 565, 'asap': 1113, '84': 4348, 'movies': 1188, 'date': 601, 'inform': 3199, 'we\\x92ve': 7959, 'achan': 4438, 'browse': 4838, 'tea': 1593, 'oso': 567, 'cause': 665, 'already': 171, '32000': 4202, 'prob': 762, 'weed-deficient': 7941, 'laready': 6157, 'asked': 406, 'tcr/w1': 2497, 'dead': 1019, 'ur': 44, '09099726481': 4072, 'triple': 7726, 'bedrm-$900': 4724, 'mayb': 820, 'thru': 1078, 'scream': 2429, 'avoiding': 4640, 'mon': 1050, 'eleven': 5388, 'paper': 829, '69696': 4305, '1225': 4094, 'bam': 4674, 'goals/team': 5692, 'responsibility': 3524, 'monoc': 6416, 'tone': 282, 'ouch': 6645, '8007': 548, 'tonite': 1079, 'bomb': 4789, 'american': 2069, 'qatar': 1368, 'nos': 3397, 'laptop': 880, 'wednesday': 1086, 'uk/wrc': 3747, 'free-message': 5594, 'anyone': 575, 'onwords': 6617, 'eating': 1140, 'break': 630, 'attempt': 576, 'returned': 2416, 'throw': 1936, 'careful': 2130, 'em': 1025, 'penny': 6727, 'exterminator': 5470, '£3/wk': 2563, 'beautiful': 577, 'maybe': 396, 'driving': 578, 'teaches': 3690, 'biggest': 2098, 'either': 579, 'sacrifice': 3549, 'finished': 580, 'duo': 5342, 'infections': 3198, 'checking': 923, 'lei': 582, '[colour=red]text[/colour]txtstar': 4400, 'money': 243, 'pack': 2365, 'prem': 3467, 'lots': 585, 'jokes': 2280, 'tv': 400, 'mins': 310, 'txtno': 3743, 'unnecessarily': 3755, 'carlin': 4913, 'bec': 4717, 'only': 79, 'pleasured': 6785, '84128': 2038, '2morro': 2658, 'give': 150, 'watr/day=no': 7926, 'walk': 692, 'repeat': 3523, 'saying': 588, 'hopefully': 1774, 'recd@thirtyeight': 6999, 'cooked': 5078, 'breathe1': 4822, 'dearly': 2953, '£3': 1095, 'dontcha': 5302, 'cancelled': 2856, 'ard': 502, '2morrowxxxx': 4183, 'telugu': 7586, 'misfits': 6382, 'yun': 1624, 'tome': 7682, 'touched': 2513, '750': 594, 'sorry-i': 7355, 'thinks': 908, 'visionsms': 3775, 'alone': 595, 'jungle': 6074, '-tho': 3886, 'await': 597, 'sugardad': 7498, 'comes': 554, 'goes': 606, 'hv': 1778, 'vikky': 1609, 'valued': 911, 'local': 1527, 'wan2': 3782, 'cheaper': 1707, 'expensive': 1482, 'book': 551, 'evening': 527, 'dun': 232, 'yes-440': 3836, 'uncle': 846, 'kickoff': 3246, 'reservations': 7053, 'kadeem': 2283, 'greet': 2243, 'gaytextbuddy': 3103, 'lyf': 3307, 'taxt': 7575, 'love': 74, 'convey': 864, 'boring': 1690, 'within': 990, 'situations': 7289, 'minor': 6376, 'enuff': 2193, 'providing': 6912, '47per': 4248, 'tirunelvali': 3710, 'complimentary': 790, 'souveniers': 7362, 'panasonic': 6679, 'voda': 2538, 'worc': 8011, '30pp/txt': 2669, 'wid': 624, 'dabooks': 5156, 'bruce': 2832, 'camera': 341, 'then': 72, 'nervous': 6495, 'tuition': 1947, 'bars': 4694, 'drink': 636, 'hotmix': 5870, 'far': 640, 'felt': 937, 'swimsuit': 7535, 'hand': 641, 'splleing': 3635, '*loving': 1979, 'peaceful': 3433, 'rob': 7094, 'imposter': 5937, 'congrats': 600, 'trishul': 7727, 'id': 642, '1im': 4127, '5we': 2026, 'jus': 392, 'form': 3082, 'budget': 2119, 'happen': 560, 'interview': 2268, 'operator': 646, 'worth': 729, '08714342399': 3969, 'mmmmmm': 3353, '08712402578': 3961, 'xx': 658, 'chillin': 2140, 'through': 844, 'lead': 2294, '£500': 660, 'shd': 1214, '12hrs': 661, 'afraid': 2058, '08712402779': 3962, 'brother': 631, 'themed': 7618, 'bank': 787, 'each': 669, 'coz': 524, 'chennai': 701, 'replies': 7045, 'exhaust': 5457, 'cam': 2126, 'http': 877, 'fear': 3056, '434': 2017, 'islands': 2273, 'name1': 3378, 'tones2you': 3721, '<pad>': 0, 'feel': 206, 'okie': 566, 'ambrith': 4503, 'push': 6939, '2morow': 2009, '5wkg': 4287, 'knw': 676, 'inc': 1162, 'skyving': 7295, 'land': 677, 'ktv': 6128, 'voucher': 773, 'spark': 7370, 'relaxing': 7028, 'makin': 6288, 'both': 629, 'week+': 7942, 'pence': 3435, '08712405020': 1633, 'every': 188, 'others': 1054, 'done': 268, 'tonight': 220, 'calm': 4896, 'paranoid': 6691, 'evey': 5445, 'chop': 4981, 'scotsman': 3564, 'classes': 4992, 'mahfuuz': 6284, 'ending': 1141, 'fone': 745, 'jst': 1518, 'snow': 688, 'england': 870, 'falling': 3048, '25p': 1102, 'concern': 5052, 'intro': 1512, 'info': 752, 'lemme': 1040, 'reacting': 6982, 'opening': 3410, \"'\": 7, 'never': 304, 'email': 639, 'sexiest': 7213, 'ip4': 2271, 'premium': 3469, 'nigeria': 1354, 'lovable': 949, 'wonderful': 693, 'reg': 3514, 'uk-mobile-date': 7763, 'missy': 6388, '£5000': 694, 'mah': 816, 'xxsp': 8045, 'rub': 3542, 'ability': 2721, 'stylish': 1590, 'slap': 2450, 'baby': 351, 'grow': 3138, 'at': 38, 'gbp4': 5662, 'sae': 615, 'slow': 898, 'realizes': 6988, 'rich': 3532, 'adults': 4457, 'bslvyl': 699, 'queries': 6951, 'zed': 1417, 'hamper': 5772, 'probably': 397, 'stupid': 840, 'gone': 749, 'dlf': 5284, 'frm': 707, 'unable': 1605, 'tired': 845, 'inside': 1509, 'forwarded': 1490, 'neekunna': 6489, 'pics': 681, 'tomo': 571, 'two': 335, 'gud': 236, 'prospects': 3483, 'gotta': 803, 'study': 1075, 'remember': 418, 'kiss': 712, 'lesson': 714, 'reading': 719, 'eh': 1024, 'thurs': 1938, 'joke--thet': 6060, 'simple': 539, '+': 362, 'foot': 3077, 'daily': 1472, 'rite': 720, 'milk/day=no': 6365, 'disturbing': 2978, 'noline': 1829, '08707808226': 3951, 'backwards': 4663, '195': 4123, 'jos': 6065, 'b4': 860, 'wings': 7985, 'saturday': 647, 'crucify': 5127, 'clever': 2893, 'skills': 7290, 'natalja': 3382, 'blacko': 4768, 'jay': 879, 'concentrate': 2914, 'treat': 725, 'darlin': 793, 'batchlor': 4699, 'followed': 3076, 'nothing': 356, 'ecstacy': 5361, '…': 730, 'billed': 2800, 'thnq': 7640, 'yesterday': 453, 'right': 163, 'case': 736, 'club': 738, 'crazy': 740, 'howz': 1320, 'those': 489, 'pub/cafe': 6923, 'loved': 950, 'juz': 532, 'pobox12n146tf15': 6796, '42049': 4234, 'expires': 743, 'flip': 5540, '83222': 2707, 'matrix3': 2323, 'fr': 746, 'ibn': 3185, 'sources': 7360, 'clean': 861, 'freemsg': 747, 'exhausted': 3035, 'india': 751, 'comp': 862, '//tms': 3893, 'dang': 5163, 'lovely': 753, 'old': 827, 'wesley': 7954, 'ltd': 754, 'elsewhere': 2191, 'phone': 118, 'wherever': 2547, 'honey': 1319, 'registered': 1372, 'pray': 1059, 'verifying': 7851, 'mine': 756, '85555': 4355, 'got': 65, 'blocked': 4777, 'upon': 7813, 'win': 189, 'this': 49, 'ystrday': 8084, 'l8er': 6133, 'mobileupd8': 757, 'honi': 5855, 'wtf': 2554, 'unhappy': 7788, 'tonght': 7686, 'lasting': 6160, 'dane': 5162, '1/3': 4082, 'kitty': 6114, 'expiry': 5466, 'landlines': 3258, 'games': 801, 'distance': 2174, 'except': 1746, 'bookedthe': 4791, 'grasp': 5726, 'support': 842, 'identification': 5915, 'hmmm': 711, 'caroline': 2862, 'upto': 2527, 'solve': 1909, 'jogging': 3227, 'side': 767, '4info': 2019, 'fetch': 1487, 'merry': 1047, 'valid': 516, 'early': 464, 'kindly': 3251, 'manual': 6300, 'mack': 6275, 'phones': 759, '5': 263, 'thesmszone': 7631, 'finally': 799, 'tomorw': 7685, 'contention': 5068, 'idiot': 1781, 'for': 19, 'welcome': 774, '21/11/04': 4149, 'box95qu': 2110, 'quality': 1856, 'everyone': 670, 'express': 3041, 'wan': 246, 'his': 217, 'custcare': 929, 'duffer': 5338, '2yrs': 4191, 'god': 286, 'shld': 3590, 'visa': 7871, 'ambitious': 4502, '–': 1096, 'threats': 7645, 'pizza': 1056, '07815296484': 3923, 'getzed': 1152, '89080': 4369, 'him': 147, 'decide': 1289, '0800': 779, 'icicibank': 5908, 'foward': 5581, 'until': 591, 'kg': 3245, '10p': 780, 'popcorn': 6816, 'bill': 1005, 'words': 657, 'home': 89, '4t&': 2685, '08712300220': 1632, 'm8s': 2309, 'asking': 786, 'smeone': 3614, 'brum': 4841, 'installing': 5971, 'bathe': 919, 'w14rg': 7888, 'currently': 792, 'litres': 6218, 'order': 512, '09095350301': 4067, '11': 1101, 'frndz': 5611, 'funky': 3096, 'thy': 7650, 'glass': 5680, 'does': 388, 'rajitha': 6963, 'doin': 795, 'groovy': 5738, 'answer': 550, 'nat': 2345, 'heard': 942, 'fool': 2220, 'speechless': 3630, 'etc': 797, 'trains': 3728, 'choice': 1465, 'points': 683, 'little': 393, 'pod': 1849, '86888': 4358, 'sink': 7283, 'gym': 804, 'affection': 2057, 'water': 1085, 'wylie': 2555, 'kuch': 6129, '2day': 1103, 'several': 3577, 'tom': 3718, 'wthout': 8033, 'toa': 2509, 'mobilesdirect': 2333, 'thursday': 1595, 'doesn': 668, '6days': 2696, 'useless': 7823, 'hungry': 809, '3': 167, '09058095107': 4022, '£4': 2565, 'quite': 398, 'identifier': 810, 'worthless': 8017, 'invited': 811, 'ringtone-get': 3534, 'cud': 1724, 'mate': 818, 'schools': 3557, 'stretch': 7455, 'year': 254, 'website': 1962, 'christmas': 924, 'opinions': 3411, 'humanities': 5890, 'gmw': 5687, 'applyed': 4559, 'valentine': 986, 'resolved': 7062, 'mobiles': 822, 'nyt': 826, 'pic': 831, 'loud': 3292, 'linerental': 1807, '08714712412': 3974, 'neither': 3390, 'left': 377, 'jada': 1787, 'pobox': 832, 'va': 7834, 't4get2text': 7549, '8lb': 4373, 'secret': 835, 'callertune': 1010, 'pobox334': 1555, 'shower': 837, '09061221066': 1995, '09050090044': 1422, 'almost': 784, 'gave': 873, 'dict': 5248, '/': 1097, '09061213237': 4030, '02073162414': 2585, 'anjola': 4526, 'confirm': 926, 'organizer': 6637, 'silver': 3602, 'failed': 2204, 'vl': 1084, 'weeks': 848, '0430-jul-05': 3905, 'strike': 2480, '50rcvd': 4276, 'yar': 851, 'gals': 1762, '2getha': 4177, 'pleasant': 6783, 'bedroom': 1114, 'went': 230, 'nange': 6470, 'exist': 5459, 'times': 617, 'built': 4851, 'hollalater': 5851, '800': 855, 'else': 555, 'exam': 1026, 'ass': 859, '02085076972': 3902, 'moral': 1186, '118p/msg': 4091, 'cost': 375, 'cali': 4885, 'telling': 843, 'course': 865, 'deal': 1132, 'henry': 3160, 'afford': 4464, 'ish': 1328, 'c': 166, 'mom': 883, 'download': 867, 'final': 871, 'l8r': 1521, '09058091854': 2617, 'applying': 4560, 'fav': 5497, 'connect': 2151, 'crore': 2936, 'sunlight': 3663, 'sen': 1575, 'on-edge': 6607, 'messaging': 3338, 'fullonsms': 1150, 'univ': 7796, 'needs': 956, 'colleagues': 1016, 'slowly': 899, 'store': 903, 'supposed': 905, 'broken': 2830, 'skype': 1907, 'hoping': 1031, 'digits': 5256, 'issues': 1513, 'whenever': 989, 'guide': 1770, 'east': 3004, '*grins*': 915, 'outsomewhere': 6656, 'amigos': 4505, 'things': 281, 'bath': 918, 'charged': 921, 'paris': 1840, 'w1j': 3778, '50/pm': 1427, 'fast': 705, 'slower': 7307, 'doctor': 933, 'terminated': 7593, 'charges': 1706, 'wearing': 3790, 'sol': 1383, 'meatballs': 6335, 'wkg': 3817, '600': 4290, 'blake': 2101, 'one': 87, 'mmmmmmm': 6396, '08715203656': 3977, 'black': 1450, '448712404000>please': 4241, 'rental': 834, 'ldew': 945, 'poly3': 6810, 'goodies': 5706, 'slip': 3610, 'birds': 1685, 'mofo': 6407, 'much': 135, 'many': 237, 'simpler': 7278, 'mail': 509, 'sphosting': 7381, 'met': 951, 'maat': 6271, 'compulsory': 5046, 'outfor': 6650, 'warranty': 3785, 'chief': 4968, 'bothering': 4797, 'help08718728876': 3159, 'mails': 3317, 'biro': 4763, 'mobsi': 6404, 'review': 1569, 'useful': 7822, 'le': 2293, '250': 1641, 'normal': 957, 'halloween': 3144, '09061790125': 4038, '400thousad': 4228, 'happy': 152, 'biola': 2801, '26/10/04': 4164, 'gnun': 5690, 'afternoon': 405, 'mila': 3340, 'bite': 2804, 'account': 441, 'wikipedia': 7977, 'thnk': 1933, 'colours': 5025, 'rakhesh': 964, 'regarding': 2407, 'apartment': 1002, 'ask': 180, 'reason': 965, 'subscribe6gbp/mnth': 7481, 'grave': 3134, 'spaces': 7366, 'harish': 5787, 'rest': 967, 'arsenal': 2080, 'cheap': 1013, 'say': 157, 'plan': 471, 'domain': 5299, 'cs': 1130, 'sdryb8i': 7183, 'payment': 3431, 'spend': 977, 't&cs': 570, '*i': 1978, 'knackered': 2287, 'search': 648, 'remind': 3518, 'ma': 2310, 'quarter': 6949, 'incredible': 5949, 'bsnl': 4843, 'surprise': 981, '2geva': 2656, 'lounge': 3293, '£12': 8105, 'videophones': 1953, 'hiya': 1030, 'knowing': 2288, 'iz': 1785, '31/10/04': 2670, 'name': 262, 'kalaachutaarama': 6084, 'd': 119, 'un-redeemed': 984, 'worried': 991, 'doors': 2986, '150p/rcvd': 4109, 'birla': 2099, '10p/min': 995, 'andrews-boy': 4522, 'cuddled': 5137, '&lt': 52, 'cann': 2127, 'delivery': 526, 'pathaya': 6710, '150': 997, 'rebel': 6994, 'egg-potato': 5376, 'fix': 2212, 'scarcasim': 7168, 'blood': 1006, 'cross': 2160, 'unintentionally': 7792, 'captain': 2129, 'pride': 3472, 'gaps': 1763, 'booked': 1007, 'frnt': 5612, 'yo': 337, 'decided': 742, 'al': 1258, 'december': 1727, 'goodnite': 5708, 'yrs': 1416, 'chapel': 4940, 'cd': 1012, 'reasonable': 3509, 'if': 46, 'console': 2920, 'freephone': 1305, 'comin': 1017, 'kothi': 3254, 'buy': 205, 'extra': 1027, 'wkend': 1968, 'saved': 2427, 'talks': 7564, 'brand': 1454, 'custom': 2940, 'smiles': 7318, 'lov': 3294, 'bb': 1004, 'dry': 2185, 'ptbo': 2393, 'ciao': 4986, '146tf150p': 4101, 'tmrw': 3715, 'term': 1929, 'sub': 1916, 'aunts': 4625, 'leaf/day=no': 6176, 'flew': 5538, 'il': 1033, 'weekend': 403, 'knows': 1038, 'means': 445, 'calculated': 4883, 'dude': 604, 'better': 339, '08717890890£1': 3986, 'to': 4, 'dates': 1726, 'bites': 4766, 'lessons': 1041, 'begin': 1449, 'theater': 7615, '4041': 4230, 'contact': 228, '420': 4233, 'somewhat': 7344, 'soon': 219, 'log': 1042, 'interviw': 5982, 'comfort': 2910, '32/f': 4201, 'lover': 1043, 'care': 199, 'tot': 545, 'match': 1046, 'clock': 2894, 'bailiff': 4669, 'promise': 1060, 'rain': 1061, '09065174042': 2627, 'mca': 3326, 'problems': 1562, 'blessing': 2807, 'kudiyarasu': 3255, 'bluff': 2812, 'plenty': 1554, '48922': 4249, 'cancel': 1273, 'sp': 1069, '07973788240': 3926, 'locations': 2301, 'time': 76, 'text82228>>': 7600, 'long': 297, 'add': 1000, 'mid': 1347, 'box334': 4805, 'wanna': 336, 'imagine': 1323, 'since': 474, 'conclusion': 5054, 'dsn': 2186, 'yep': 1091, 'theatre': 1594, 'created': 1283, 'uploaded': 7812, '|': 1092, 'pa': 380, 'dresser': 2183, 'wipro': 3811, '£200': 1094, 'role': 1375, 'lionp': 3277, 'morphine': 2337, 'loan': 1174, 'ignore': 1507, 'dieting': 5253, 'alrite': 1111, 'ttyl': 1600, 'txtx': 7755, 'approved': 4563, 'kaiez': 3236, 'bellearlier': 4736, '0870': 1098, 'wrkin': 8026, '08718720201': 1100, 'pulls': 6929, '-shakespeare-': 3884, '62468': 1106, 'onwards': 2359, 'sunny': 2487, 'hottest': 5871, 'school': 419, 'wonders': 2549, 'opportunity': 2360, '2%': 4137, 'or2stoptxt': 2361, 'thout': 7643, 'outta': 2364, 'proze': 6913, 'owl': 6669, 'parked': 2367, 'joke': 1793, 'passionate': 2368, 'anyway': 442, 'profit': 2390, 'payoh': 2369, 'trek': 7723, 'sorted': 3625, '09099726395': 4070, 'wrc': 3827, 'period': 2372, 'si': 3597, '1146': 4088, 'phne': 2377, 'pink': 2379, 'monkeys': 6414, '5249': 4279, '40411': 4231, 'coco': 5017, 'bitch': 1687, 'played': 2380, 'act': 4441, 'popped': 2384, 'v': 278, 'ese': 3023, 'possession': 2385, 'marketing': 6306, 'postcode': 2386, '87121': 2040, '07732584351': 3915, 'jurong': 6075, 'preferably': 2387, 'toothpaste': 7693, 'crazyin': 5115, 'nasdaq': 3381, 'nannys': 6472, 'cleaning': 1711, 'prepare': 2388, '3g': 1646, 'audrey': 2775, 'sapna': 7146, '<ukp>2000': 4392, 'promises': 2392, 'wrongly': 8030, 'overemphasise': 6660, 'terrific': 3698, 'hehe': 5809, 'pussy': 2394, 'attached': 2773, 'coveragd': 5104, 'questioned': 2395, 'north': 6544, 'quickly': 2396, 'chatting': 2136, 'sooner': 2462, 'completes': 5043, 'quoting': 2397, 'responding': 2415, 'trusting': 7733, 'starring': 7422, 'frog-axel': 5614, 'footie': 5565, 'polyph': 3455, 'rather': 2400, 'oil': 3407, 'realized': 2403, 'go2sri': 5691, 'mono': 3359, 'recd': 2405, 'misbehaved': 3344, 'updat': 7808, '09066364311': 2629, 'jolly': 3228, 'sacked': 7127, 'mmmmm': 3352, 'spring': 3637, '09050000555': 4008, 'adress': 4453, 'boltblue': 4788, 'report': 2412, '2watershd': 4189, 'sportsx': 7400, 'mine&all': 6374, 'changing': 4939, 'swashbuckling': 7531, 'converter': 5076, 'requests': 2413, 'shsex': 7265, 'roads': 2418, 'gamestar': 5646, '0825': 3929, 'replied': 1875, 'blonde': 2809, 'wherevr': 7969, 'roger': 2419, 'swatch': 3671, 'shracomorsglsuplt': 3595, 'row/w1jhl': 2420, 'aiya': 2063, 'ru': 2421, 'runs': 2422, 'authorise': 4628, 'skinny': 7291, 'sachin': 2423, 'salary': 2424, 'condition': 5055, 'edge': 5363, 'sam': 2425, '3100': 2671, 'filled': 3065, 'satisfied': 2426, 'epsilon': 3021, 'se': 2431, 'hanging': 5778, 'season': 2432, 'seemed': 2433, 'senthil': 2434, 'sept': 2435, 'activ8': 4443, 'freaking': 5591, 'seven': 2436, 'world': 349, 'telphone': 2500, 'buffy': 4850, 'atten': 4616, 'shame': 2438, 'sheets': 2439, 'ijust': 5922, 'shorter': 2442, 'sing': 2445, 'settings': 1896, 'com/index': 2908, 'sit': 2446, 'page': 1547, 'admit': 2740, 'sister': 722, 'sk3': 2447, 'ak': 4481, 'lakhs': 6144, 'skip': 2449, 'stuffing': 7474, 'smoking': 2454, 'couldn': 2929, 'sq825': 7408, 'mjzgroup': 6393, 'snake': 2456, 'cc100p/min': 4929, 'software': 2458, '330': 4206, 'distract': 2977, 'kappa': 3237, 'coccooning': 5015, 'surprised': 3666, 'dealing': 5175, 'sonyericsson': 2461, 'sory': 2463, 'weekends': 1411, 'soryda': 2464, 'spanish': 2466, 'hows': 674, 'speed': 2467, '391784': 4211, 'dvd': 1023, 'source': 2465, 'spk': 2468, 'indyarocks': 5951, 'sports': 2469, 'phone750': 6755, 'by\\x94leafcutter': 4875, 'sry': 2470, 'sonathaya': 7348, 'begun': 4734, 'stamps': 2471, 'standing': 2472, 'image': 5927, 'location': 3284, '9+2+4=': 4375, 'stars': 2473, 'mt': 6434, 'lifting': 6193, 'service': 247, 'muah': 3371, 'starwars3': 2474, 'urmom': 7821, 'step': 2475, 'lccltd': 6171, 'storming': 2477, 'lifebook': 6191, 'stranger': 2479, 'smsservices': 7323, 'subpoly': 2482, 'ansr': 1669, 'keeps': 3241, 'wewa': 7958, 'subs': 2483, 'sweets': 3674, 'sugar': 2485, 'folks': 5556, '3230': 4203, 'winterstone': 7988, 'sum1': 2486, 'dinner': 463, 'supply': 2488, 'sweetest': 2491, 'interflora': 3204, 'peace': 3432, 'another': 373, 'anniversary': 4527, 'swimming': 2492, 'fwiw': 5635, '07008009200': 3910, 'misplaced': 6384, '8000930705': 4332, 'woods': 8008, 'freezing': 2226, 'taken': 2494, 'tease': 2499, 'vco': 7844, 'usual': 1236, 'terrible': 2501, 'actor': 2735, 'tessy': 2502, 'purpose': 1854, 'texted': 2504, 'of': 21, '3aj': 2674, 'cage': 4881, '$': 1420, 'thanksgiving': 2505, 'drivin': 2995, '89034': 4368, 'theory': 2506, 'titles': 2508, 'loans': 3283, 'today-sunday': 2510, 'loose': 3288, 'kama': 6088, 'gsoh': 5744, 'test': 543, 'toll': 2511, 'exciting': 1481, 'tscs': 2516, 'feelingood': 5503, 'turn': 2518, 'suffers': 7494, 'fever': 3060, 'car': 364, 'twice': 2519, '09050000301': 4005, 'txtin': 2520, 'books': 4792, 'nooooooo': 6540, 'ubi': 2521, 'oranges': 3413, 'bathing': 2089, 'ummmmmaah': 2522, 'investigate': 5988, 'understanding': 2523, 'usher': 7824, 'brolly': 4832, 'wheat': 7964, 'october': 6580, 'unique': 2524, 'venaam': 7849, 'cdgt': 2867, 'various': 2533, 'pounds': 568, '08700621170150p': 2600, 'was': 75, 'upset': 2526, 'hearted': 5803, 'urawinner': 2528, 'ure': 2529, 'trying': 300, 'urgently': 2530, 'url&gt': 2531, 'valuable': 2532, '12mths': 2636, '7250i': 2030, 'vava': 2534, 'waheed': 7898, 'ranju': 6968, 'acted': 2732, 'contacts': 2922, 'vegetables': 2535, 'oru': 1836, 'concerned': 5053, 'ree': 7013, 'vijay': 2537, 'sary': 7151, 'outfit': 6649, 'barring': 4692, 'voicemail': 2540, 'avenue': 4636, 'hold': 808, 'walls': 2541, 'firefox': 5528, 'orange': 469, 'remembered': 2411, 'weird': 2543, 'holy': 3169, 'welp': 2544, 'forgotten': 3081, 'mmsto': 6397, 'norm': 3396, 'yaxxx': 8057, 'winning': 2548, 'africa': 4466, 'intha': 5983, 'hype': 5901, 'move': 1187, 'world*': 2551, 'wt': 2553, 'trade': 7708, 'xchat': 2557, 'rvx': 7120, 'baaaaaaaabe': 4658, 'yay': 2558, 'shirt': 3588, 'yeh': 2559, 'ful': 5625, 'ym': 2560, 'polys': 1199, 'yor': 2561, 'corporation': 5086, 'yummy': 2562, 'hotel': 1504, 'sathya': 3555, '£33': 2564, '16': 497, '£75': 2566, 'call2optout=j5q': 4892, '#5000': 2567, 'ni8': 717, '$50': 2569, 'raise': 3498, 'glo': 5681, '$900': 2571, 'ridden': 7083, 'range': 3501, 'weirdy': 7947, '*devouring': 2575, 'moved': 2338, '08719899229': 4002, 'drpd': 5327, '*have': 2576, 'wasn\\x92t': 7918, '*kisses*': 2577, 'hos': 5867, 'pg': 1844, '*teasing': 2578, '+std': 2579, 'sometme': 7343, 'akon-lonely>>>': 4482, 'sumthin': 3662, '/7': 2581, '008704050406': 2582, '0207': 2584, 'perf': 6730, '0578': 2586, '07/11/04': 2587, '07123456789': 2588, '07734396839': 2589, 'willpower': 7980, 'arms': 2769, 'belligerent': 4737, 'kintu': 6109, '07781482378': 2591, '07786200117': 2592, 'listed': 6212, '62735=£450': 4296, 'nachos': 6467, '07821230901': 2593, '08718727870': 2613, '08000776320': 2595, 'i-ntimate': 5904, 'oops': 1053, '08002986030': 2597, 'nevr': 6502, '08006344447': 2598, 'follow': 2219, '08701417012150p': 2601, '08708034412': 2602, 'haven\\x92t': 3149, '08709222922': 2603, 'massage': 6312, '08712317606': 2605, '09058094454': 4015, 'otherwise': 890, '08712402050': 2607, 'malaria': 1815, '150p': 547, 'com/newsletter': 5028, '09066649731from': 4059, '08712405022': 2608, '0871277810810': 2609, '08718726270': 2612, 'calls£1/minmobsmorelkpobox177hp51fl': 2851, 'freeentry': 5597, '09050003091': 2615, 'associate': 4602, '09058094599': 2618, 'vivek': 3776, 'african': 4467, 'someplace': 7340, 'named': 3380, '09061702893': 2620, 'huh': 608, 'miracle': 1182, '09064011000': 2624, 'who': 136, '09064012160': 2625, 'remains': 2410, 'door': 1022, '09066350750': 2628, 'passed': 1842, 'wear': 1961, '09066382422': 2630, 'objection': 6573, '09066612661': 2631, 'oreos': 6634, 'der': 5218, 'spook': 1913, '150p/min': 2638, '89545': 2044, '3miles': 4214, 'flim': 5539, '16+only': 2640, 'kicchu': 6104, '18+6*£1': 2641, 'b‘ham': 4876, 'score': 3560, 'goodnoon': 3126, 'optin': 6630, 'tok': 3717, '20p/min': 2647, 'd=': 2944, 'choose': 737, '99': 2718, 'arab': 4568, 'fujitsu': 5624, 'added': 1254, '21': 2648, 'change': 634, 'lion': 3275, 'due': 1293, 'boy-y': 4808, 'bottom': 4798, '21st': 2650, 'rally': 1861, '26': 2653, 'dis': 387, 'issue': 3211, 'iriver': 5997, 'movie': 510, 'e-tlp': 3000, 'countin': 2930, 'lst': 3303, '28days': 2655, 'lik': 1806, '2marrow': 2657, '2rcv': 2660, '2waxsto': 2662, '2wt': 2663, '2yr': 2664, 'netflix': 6497, 'evrydy': 5451, 'mr': 823, 't-mobile': 3679, '300%': 2665, '40gb': 1425, '30ish': 2668, 'continue': 5070, 'ill': 309, '3650': 2672, 'sisters': 7286, 'summer': 979, '3lp': 2676, '2wu': 4190, '3ss': 2677, 'cme': 2898, '40533': 2678, '41685': 2679, 'tul': 7739, '4882': 2680, '2667': 4165, '4a': 2681, '4eva': 2683, '4fil': 2684, '3qxj9': 2014, 'twenty': 3740, '5k': 2687, '5min': 2688, 'moves': 3363, 'erutupalam': 5425, '5p/min': 2689, '5pm': 2690, 'thkin': 7638, 'mallika': 6290, 'confused': 2917, 'soul': 3627, '06': 3908, 'leonardo': 6188, '61200': 2691, 'increments': 3194, '61610': 2692, '69866': 2695, '6hl': 2697, '77': 2700, 'reduce': 7012, '786': 2701, '80608': 2703, '80878': 2704, '18+only': 2642, '0871-872-9755': 3955, 'cos': 193, 'chex': 4963, '83383': 2708, '85': 2709, 'dippeditinadew': 2975, '50p/wk': 4272, '88222': 2711, 'strict': 7457, 'nt': 718, '88888': 2712, '89070': 2713, '8p/min': 2717, '9pm': 2719, 'abj': 2722, 'absolutly': 2723, 'abta': 2724, 'academic': 2727, 'accordingly': 2728, 'adult': 2055, 'time&gt': 1940, 'accounts': 2729, 'relationship': 7027, 'acting': 2733, 'servs': 7209, 'action': 2734, '09050000332': 4006, 'adam': 2736, 'administrator': 2739, 'sara': 7147, 'outreach': 6653, '08718738001': 3994, 'adore': 2741, 'mix': 3349, 'style': 1224, 'affair': 2744, 'agalla': 2746, 'agree': 2748, 'fightng': 3062, 'cry': 1470, '864233': 4357, 'algarve': 2752, 'ali': 2753, '»10': 8122, 'av': 4630, 'allow': 2754, 'samus': 7140, 'allowed': 2755, '26th': 2654, 'cops': 5085, 'although': 2756, 'hogli': 5847, 'amk': 4506, 'amongst': 2757, 'annie': 2760, 'appreciated': 2763, 'includes': 5943, 'works': 1619, 'approx': 2764, 'cyclists': 5153, '0871-872-9758': 3956, 'ass*': 4598, 'chatter': 4949, '0871277810910p/min': 3968, 'helen': 5811, 'ay': 4646, 'apps': 2765, '45': 4243, 'subject': 7478, 'appt': 2766, 'argue': 2767, 'beeen': 4725, 'askd': 858, 'arts': 2770, 'atm/sms': 2772, 'ything': 8085, 'attend': 2774, 'avatar': 2777, 'theplace': 7626, 'avent': 2778, '69669': 4304, 'beside': 4745, 'aww': 2779, 'joanna': 3225, 'ayn': 2780, 'tookplace': 7689, 'kolathupalayam': 6124, 'babies': 2781, 'banks': 2782, 'u-find': 1604, 'bar': 2783, 'bit': 285, 'bay': 2784, '&': 144, 'bc': 2785, 'ago': 783, 'papers': 3424, 'bcm4284': 2787, 'cliff': 4998, 'landlineonly': 6150, 'beauty': 2789, 'cried': 5123, 'becomes': 2790, 'beg': 2791, 'tomarrow': 2512, 'begging': 2792, 'belive': 2793, 'mind': 345, 'stockport': 1589, 'isnt': 1329, 'activate': 1253, 'celeb': 2868, 'bet': 2796, 'favorite': 3053, 'dodgey': 5290, 'in2': 3192, 'beware': 2797, 'bids': 2799, 'pura': 6935, '0721072': 3914, 'avin': 4637, 'destiny': 5229, 'blind': 2808, 'blow': 2810, 'uworld': 7831, 'hasbro': 5790, 'blu': 2811, 'latelyxxx': 6162, 'firmware': 5530, 'borin': 2816, 'borrow': 2817, 'w8in': 7891, 'bottle': 2818, 'box177': 2819, 'melnite': 6341, 'box334sk38ch': 2820, 'we': 39, 'box385': 2821, 'bray': 2823, 'are': 29, 'bread': 2824, '0906346330': 4042, 'brief': 2827, '92h': 4380, 'broad': 2829, 'incident': 2262, 'bruv': 2833, 'skye': 7294, '09061104276': 4028, 'build': 2838, 'idc': 5913, 'hme': 5844, 'textcomp': 2503, 'waht': 3779, 'knew': 713, 'calls1': 4895, 'bulbs': 2839, 'lap': 6155, 'burning': 2840, 'iwas+marine&that\\x92s': 6017, 'burns': 2841, 'stoptxtstop£1': 7447, 'lingo': 6207, 'arent': 4570, 'actin': 4442, 'buses': 2842, 'literally': 3280, 'business': 2843, 'blame': 4769, 'c52': 2845, 'hyde': 3182, 'calicut': 2846, 'california': 2847, 'expired': 5465, 'wat': 146, 'week-stop': 3795, 'lunsford': 6262, 'ajith': 4480, 'ring': 614, 'call2optout/n9dx': 2848, 'savamob': 894, 'trips': 3734, 'layin': 6169, 'callback': 2849, 'calls£1/minmoremobsemspobox45po139wa': 2852, 'korche': 6125, 'kz': 3256, 'rose': 1571, 'capital': 2857, 'scraped': 7174, '1yf': 4136, 'consensus': 5063, 'cared': 2859, 'career': 2860, 'med': 1818, 'temple': 1926, 'carry': 2863, '45pm': 4246, 'woah': 8001, 'brain': 2113, 'jan': 2275, 'cashbin': 2864, '0': 1983, 'chess': 4962, 'donno': 5301, 'cutest': 5151, 'putting': 1855, 'june': 1795, 'certainly': 2871, 'channel': 2873, 'police': 833, 'charles': 2874, 'chart': 2875, 'chase': 2876, 'offline': 6591, 'chasing': 2877, 'walmart': 2542, '24': 4157, 'sinco': 7281, 'cheat': 2878, 'vouchers-text': 7883, 'somebody': 1068, '23g': 4156, 'cheating': 2879, 'cheer': 2880, 'defer': 5190, 'cherish': 2881, 'eggs-pert': 5377, 'hotels': 3173, 'occurs': 6578, 'saucy': 3556, 'chest': 2882, 'chicken': 2883, 'mobilesvary': 6402, 'chip': 2884, 'citizen': 2887, 'cld': 2891, 'stamped': 3640, 'hole': 5850, 'understood': 3751, 'needing': 6487, 'clearing': 2892, 'clos1': 2895, 'biatch': 4757, 'dignity': 2973, 'closes': 2896, 'crushes': 5130, 'clothes': 2897, 'a-green': 4407, 'coat': 2902, 'cochin': 2903, 'costing': 2928, 'cream': 1723, 'ph': 2375, 'cock': 2904, 'max£7': 6326, 'lamp': 6147, 'dating': 667, '4txt/ú1': 4258, 'collected': 2906, 'glad': 1312, 'skyped': 3606, '113': 2635, 'color': 2907, 'compare': 2911, 'complaint': 2912, 'compromised': 2913, 'miserable': 3345, 'option': 3412, 'coaxing': 5014, '05': 3906, 'raiden': 6958, 'its': 71, 'confirmd': 2916, 'feeling': 556, 'uks': 3748, 'constant': 2921, 'control': 2923, 'xxxxxxxx': 8048, 'correction': 2927, 'sib': 3599, 'postcard': 3458, '$700': 2570, 'coping': 2925, 'cr01327bt': 2932, 'csh11': 2937, 'dogging': 1477, 'cuddle': 2938, 'masked': 6311, 'itna': 6013, 'curry': 2939, 'cutefrnd': 2941, 'wad': 7894, 'cw25wx': 2943, '-call': 3879, 'unsecured': 7801, 'wisdom': 3812, 'last': 178, 'dan': 2945, 'dave': 2949, 'org': 6635, 'noncomittal': 6538, 'dealer': 2950, 'dear1': 2951, 'dearer': 2952, 'decisions': 2955, 'dedicated': 2957, 'defeat': 2958, 'delhi': 2959, 'morn': 2336, 'denis': 2960, 'clarify': 4990, 'depressed': 2961, 'jump': 6073, 'desparate': 2962, 'and': 13, '8-8': 4329, 'desperate': 2963, 'web': 3791, '-the': 3885, 'dey': 2965, 'offc': 6583, 'dhoni': 2967, 'ugo': 7759, 'didn\\x92t': 2970, 'difference': 2971, 'dificult': 2972, 'sextextuk': 7214, 'dough': 2988, 'divorce': 2979, 'logo/pic': 3286, 'doesn\\\\': 2981, 'mitsake': 3348, 'chocolate': 2885, 'donate': 2985, '%of': 3850, 'dr': 2989, 'wuldnt': 8036, 'dressed': 2991, 'next': 229, 'provided': 3487, 'official': 1360, '0871-4719-523': 3954, 'twilight': 3741, 'jacket': 6026, 'drinking': 2993, 'robs': 7095, 'driver': 2994, 'our': 107, 'duchess': 2998, 'ads': 2742, 'buffet': 2837, 'beforehand': 4731, 'strt': 7461, 'across': 856, 'e-threats': 2999, 'crashing': 5113, 'e=': 3001, '-apples&pairs&all': 3878, 'caveboy': 4928, 'ear': 3002, 'ba': 4656, 'kate': 1036, 'eastenders': 3005, 'phoenix': 3437, 'easter': 3006, 'daytime': 5171, 'eaten': 3007, 'suntec': 3664, 'gift': 506, 'ee': 3009, 'handsomes': 5775, 'dreamz': 5323, 'eek': 3010, 'eggs': 3012, 'stolen': 7441, 'craigslist': 5108, 'os': 3416, 'pages': 1838, 'eight': 3013, 'wine': 1087, 'anyhow': 4541, 'ela': 3015, 'electricity': 3017, 'ias': 5905, 'plans': 962, '07808726822': 3922, 'ericsson': 3022, 'turning': 3738, 'lib': 3268, 'attraction': 4619, 'videosound': 7861, 'successful': 3657, 'essential': 3024, 'eta': 3025, 'govt': 3130, 'chikku': 635, 'eurodisinc': 3026, 'bcz': 4711, 'evening*': 3027, 'can‘t': 4904, 'everyday': 3028, 'acid': 4439, 'hugs': 3179, 'evry': 3032, 'my': 18, 'toclaim': 1596, 'excuses': 3033, 'fair': 5482, 'exeter': 3034, 'exmpel': 3036, '09063442151': 4041, 'expect': 3038, 'female': 3059, 'music': 487, '69876': 4306, 'explosive': 3040, 'f=': 3042, 'kay': 3239, 'exe': 5456, 'fa': 3043, 'awkward': 4642, 'fake': 3047, 'nikiyu4': 6517, 'days': 342, 'vaazhthukkal': 3766, 'falls': 3049, 'fastest': 3050, 'fathima': 3051, 'jason': 2277, 'favourite': 3054, 'dormitory': 5308, 'mk45': 3350, 'feelin': 3057, 'fell': 3058, 'field': 3061, 'figures': 3063, 'psychologist': 6921, 'files': 3064, 'shore': 3593, 'garbage': 3100, 'fixedline': 3069, 'flame': 3071, 'flight': 3072, 'related': 7026, 'fly': 3074, 'foley': 3075, 'priority': 6881, 'connected': 5060, 'football': 3078, 'nahi': 3377, 'mylife': 6459, 'zoe': 3839, '08700435505150p': 3937, 'cmon': 5010, 'fret': 3090, 'funeral': 3094, 'geeeee': 3105, 'rodds1': 7096, 'l-oveable': 6131, 'gender': 3106, 'generally': 3107, 'genius': 3108, 'debating': 5178, 'gentleman': 3111, '3680': 4208, 'desires-': 5224, 'algorithms': 4489, 'genuine': 3112, 'appy': 4564, 'january': 1789, 'clue': 5008, 'getstop': 3114, 'gf': 3115, 'ghost': 3116, 'will': 42, 'gibbs': 3117, 'alter': 4498, 'gifted': 3118, 'fuuuuck': 5634, '2-bajarangabali': 4139, '21870000>hi': 2649, 'gin': 3120, 'go2': 3122, 'gona': 3124, 'dubsack': 2187, 'yetunde': 1974, 'aids': 4477, 'mentionned': 6348, 'gossip': 3128, 'tomorrow/today': 7684, 'proverb': 3486, 'scotland': 3563, 'cha': 1705, 'tampa': 1393, 'chk': 4978, 'gotten': 3129, 'snickering': 7329, 'gpu': 3131, 'gr8prizes': 3132, 'granite': 3133, 'greatest': 3135, '08701237397': 3939, 'propose': 6907, 'ground': 3137, 'sleepin': 3607, 'behind': 1268, 'guilty': 3140, 'gving': 3141, 'march': 817, '01223585236': 3898, 'habit': 3142, 'bck': 2786, 'hallaq': 3143, 'hardcore': 3146, 'hardly': 3147, 'tape': 2495, 'headin': 3151, 'rumour': 3547, 'heading': 3152, 'fran': 3086, 'heads': 3153, '08715203677': 3978, 'x29': 8039, '08701213186': 3938, 'hearts': 3154, 'heater': 3155, 'checkmate': 4952, 'call2optout/4qf2': 4888, 'held': 3156, 'helloooo': 3158, 'natwest': 6479, 'greetings': 3136, 'herself': 3161, 'peak': 3434, '100p/sms': 4083, 'cheque': 4960, 'hes': 3162, '3wks': 4218, 'hg/suite342/2lands/row/w1j6hl': 3163, 'hm': 3167, 'selected': 399, '3optical': 4216, 'cliffs': 4999, 'file': 5518, 'hor': 3170, 'hostel': 3172, 'low': 3299, 'jenne': 6044, 'hrishi': 3176, 'nokia6650': 6536, 'hsbc': 3177, 'vewy': 3772, 'ag': 2745, 'hug': 3178, 'hurting': 3181, 'ic': 3186, 'idew': 3188, 'impatient': 3189, 'optout': 1545, 'impossible': 3190, 'legs': 3265, '32323': 4204, 'breath': 2825, 'improve': 3191, 'nudist': 6558, 'inch': 3193, 'partner': 1841, 'indicate': 3196, 'keeping': 1334, '1-hanuman': 4076, 'ing': 3200, '?': 8, 'inshah': 3202, 'six': 1904, 'instituitions': 3203, 'bowl': 1694, 'run': 514, 'aka': 2750, 'paragon': 3425, 'invaders': 3205, 'tiempo': 7652, 'mobs': 6403, 'seems': 1066, 'ammae': 4508, 'prior': 6880, 'iouri': 3206, '@warner': 4399, 'approve': 4562, 'aspects': 4597, 'island': 3210, 'itcould': 3212, 'itz': 3214, 'lip': 3279, '100': 696, 'it‘s': 3215, '9ja': 4388, 'james': 3217, 'japanese': 3218, 'phoned': 6757, 'phb1': 6752, 'request': 1373, '20%': 4143, 'jas': 3219, 'treacle': 7718, 'mode': 1184, 'jd': 3220, 'jenny': 3221, 'kick': 1520, 'tour': 2514, 'yellow': 3835, 'meanwhile': 2325, 'sun': 841, 'jo': 3224, 'soooo': 7352, 'canname': 4901, 'jobs': 3226, 'xavier': 2556, 'jolt': 3229, 'asusual': 4610, 'corrct': 5087, 'journey': 3230, 'jsco': 3231, '#150': 3842, 'jstfrnd': 3232, 'leaving': 609, 'jsut': 3233, 'wants': 622, 'juan': 3234, '09056242159': 2616, 'keys': 3244, 'kicks': 3247, 'cheese': 4956, 'tunde': 7740, 'hate': 2249, 'kid': 3248, 'seeds': 3569, 'ten': 724, 'kills': 3250, '09061221061': 2619, 'knock': 3252, 'tough': 1402, 'adjustable': 4450, '*wait': 1982, 'online': 535, 'abiola': 1108, 'konw': 3253, 'fml': 2218, 'l8tr': 3257, 'ideal': 5914, 'esplanade': 2196, 'scores': 3561, '12': 996, 'lane': 3259, 'wot': 517, 'face': 389, 'langport': 3260, 'asda': 4590, 'onlyfound': 6615, 'language': 3261, 'largest': 3262, 'ldnw15h': 3264, 'send': 80, '08000407165': 2594, '-pls': 3883, 'letters': 3267, 'lido': 3270, 'uwana': 7829, 'pull': 6927, 'f>>>': 5475, 'panic': 3422, 'loverboy': 1529, 'lies': 3271, 'pesky': 6745, 'mtalk': 3370, 'lifpartnr': 3272, 'raised': 6959, 'potato': 6830, '125gift': 2000, 'reached': 1204, 'likely': 3273, '45239': 4245, 'less': 947, 'lily': 3274, 'lionm': 3276, '373': 2673, 'login=': 3285, 'accommodation': 4434, 'lookatme': 3287, 'loses': 3289, 'maga': 2314, 'lotr': 3290, '-/': 3876, 'xt': 8044, 'western': 7955, 'weather': 1616, 'loveme': 3296, 'asthere': 4605, '087016248': 3941, 'loxahatchee': 3300, 'ls1': 3301, 'ls15hb': 3302, 'callin': 2125, '30pm': 4196, 'lucy': 3304, 'msg+ticket@kiosk': 6430, 'lush': 3305, 'm6': 3311, '+£400': 3874, '09061743806': 4035, 'irritated': 6000, 'flights': 1301, 'browsin': 4840, 'mag': 3313, 'magical': 3314, 'mahal': 3315, 'spare': 3629, 'mailbox': 3316, 'wrenching': 8023, 'main': 3318, 'insurance': 1163, 'outside': 679, 'maturity': 3324, 'girlfrnd': 1311, 'recent': 3510, 'meet+greet': 3329, 'membership': 3334, 'meow': 3335, '4th': 1426, '2stoptx': 4188, 'mesages': 3336, 'insects': 5967, 'erode': 5420, 'system': 1392, 'reward': 2417, 'middle': 3339, 'adoring': 4452, 'openings': 6623, 'milk': 3341, 'mmmm': 3351, 'babygoodbye': 4660, 'ffffffffff': 5509, '£2': 853, 'mobno': 3354, 'haiz': 5767, 'loads': 815, '07801543489': 3919, 'bowls': 4800, 'mojibiola': 3357, 'melle': 1346, 'sh': 2437, 'morefrmmob': 3360, 'truble': 7730, 'mornin': 3361, 'mostly': 3362, 'risk': 7092, 'movietrivia': 3364, 'moving': 3365, 'msg@150p': 3367, 'gets': 1151, 'msging': 3368, 'quiz': 687, 'goodnight': 941, 'musthu': 3374, 'mystery': 3375, 'bucks': 1119, 'mei': 3331, 'bad-': 4664, 'redeemable': 7011, 'bein': 2094, 'nagar': 3376, 'txting': 1231, 'natural': 3383, 'sausage': 7158, 'force': 2222, 'nb': 3384, 'nd': 3385, 'neck': 3386, 'ned': 3388, 'remixed': 7036, 'neway': 3391, '5-sankatmochan': 4265, 'nit': 3392, 'nok': 3394, 'bangb': 4677, 'nokia6600': 3395, 'wo': 3822, 'nowadays': 6553, 'player': 682, '15pm': 4116, 'nothin': 3398, 'belly': 1682, 'notxt': 3399, 'u4': 3744, 'santa': 1889, 'bus8': 4861, 'claims': 2888, 'noun': 3400, 'oi': 3406, 'oreo': 3414, 'accept': 1252, 'r': 104, 'painful': 3420, 'parent': 3427, 'living': 1526, 'parking': 3428, 'truffles': 3735, 'noworriesloans': 6554, 'passwords': 3429, 'ignoring': 5921, 'bubbletext': 4846, 'subs16+1win150ppmx3': 3653, 'j': 1331, '2025050': 4147, 'tobed': 7672, 'conform': 5059, 'patty': 3430, 'turns': 1601, 'photo': 3438, 'pickle': 3440, 'fruit': 5618, 'cumin': 5142, 'pieces': 3442, 'alaipayuthe': 4484, 'piss': 3443, 'placement': 3444, 'shakara': 7222, '08719180248': 3997, 'headstart': 5797, 'serving': 3575, 'places': 3445, 'plm': 3447, 'politicians': 3452, 'die': 794, 'eyes': 1028, 'poop': 3456, 'eh74rr': 5379, '4217': 4235, 'position': 3457, 'posts': 3459, 'videos': 7860, 'boytoy': 698, 'potential': 3460, 'hates': 5791, 'potter': 3461, 'error': 5422, 'windows': 3810, 'camera/video': 2853, 'pouch': 3462, 'call2optout/lf56': 4891, 'bag': 1265, 'axis': 4645, 'pours': 3463, 'practice': 3464, 'practicing': 3465, 'kinda': 1168, 'prefer': 3466, 'upgrade': 3759, 'trained': 7709, 'premier': 3468, 'previous': 3470, 'amount': 2071, 'ball': 4672, 'ola': 3408, 'compensation': 5039, 'rooms': 1884, 'lays': 3263, 'prey': 3471, 'pansy': 6682, 'print': 3473, 'priscilla': 3475, 'prof': 3477, 'program': 3478, 'promo': 3479, 'dammit': 5159, 'proof': 3480, 'properly': 3481, 'property': 3482, 'protect': 3484, 'prove': 3485, 'accent': 4430, 'personality': 2374, '505060': 4271, 'public': 3488, 'info@ringtoneking': 5955, 'edward': 5370, 'purse': 3489, 'instead': 1326, 'quiet': 3493, 'royal': 3540, 'raed': 3495, '087147123779am-7pm': 3970, 'rael': 3496, 'chloe': 4979, 'rang': 3500, 'pity': 6773, 'rcv': 3504, 're-schedule': 3505, 'reaction': 3506, 'line': 303, 'recharge': 3511, 'conversations': 5074, 'temales': 7587, 'tulip': 3737, 'recovery': 3513, 'urn': 3762, 'cooperative': 5082, 'register': 3515, 'sweetie': 3673, '42478': 4236, 'remembr': 3517, 're-send': 6979, 'reminding': 3520, 'reply-': 7046, 'renewal': 3522, 'random': 2399, 'retrieve': 3526, '1winaweek': 2007, '9am': 4387, 'revision': 3528, 'tee': 3694, 'unsubscribed': 7803, 'com1win150ppmx3age16': 1715, 'rewarding': 3529, 'bt-national-rate': 1456, 'rice': 3531, 'favour': 1752, 'rights': 3533, 'ship': 7242, 'roast': 3536, 'dumb': 5340, 'nah': 1190, 'rstm': 3541, 'rude': 3543, 'diseases': 5274, 'ruining': 3544, 'rule': 3545, 'rum': 3546, 'following': 1303, 'regards': 1565, 'salon': 3552, 'sar': 3553, 'pocketbabe': 3448, 'sarcastic': 3554, 'scold': 3559, 'carolina': 4915, 'fills': 1759, 'seconds': 3566, 'sells': 3571, 'nytho': 6567, 'disastrous': 5272, 'deposited': 5215, 'lou': 3291, 'sem': 3572, 'sensitive': 3573, 'sentence': 3574, 'accidant': 4433, 'settle': 3576, 'ringtone': 448, 'shahjahan': 3578, 'soo': 3622, '2-4-1': 4138, 'ipod': 812, 'shampain': 3579, 'shared': 3580, 'offer': 412, 'lovingly': 3298, 'sheffield': 3582, 'poor': 1200, 'shelf': 3583, 'wow': 992, 'shipped': 3586, 'shipping': 3587, 'shitload': 3589, 'shoppin': 3592, 'inst': 5969, '2mro': 4184, 'shouted': 3594, 'hep': 5824, 'buying': 1008, 'shy': 3596, 'wouldn': 8019, '5ish': 4284, 'signing': 3600, 'transfered': 3731, 'drive': 637, 'silently': 3601, 'knickers': 6117, 'singing': 3603, 'mf': 6356, 'sitll': 3604, 'fallen': 5484, '84122': 4349, 'slp': 3612, 'buzzzz': 4870, 'pie': 3441, 'smashed': 3613, 'cave': 4927, '09090900040': 4064, 'canada': 4899, 'sms-08718727870': 3615, 'snogs': 3617, 'snowman': 3618, 'soiree': 3619, 'motivate': 6420, 'selling': 1574, 'didnt': 462, 'bedrm': 4723, 'drms': 2996, 'somtimes': 3621, 'slices': 7301, 'sooooo': 3623, 'sorting': 3626, 'soup': 3628, '6ph': 4313, '8883': 4365, 'spell': 3632, 'graphics': 5725, 'ppl': 1559, 'spile': 3634, 'wheellock': 7966, 'splendid': 7393, 'pub': 686, 'txt>': 3742, '-no': 3882, 'sptv': 3638, 'beer-rs': 4728, 'staff': 3639, '=d': 2720, 'babysitting': 4662, 'staring': 3641, 'status': 3642, 'problematic': 6887, 'call2optout/674&': 4889, 'asjesus': 4594, 'innings': 5963, 'britney': 4831, 'cnn': 2900, 'stick': 3646, 'owed': 6668, 'stone': 3647, 'str': 3649, 'strong-buy': 3651, 'friends': 261, 'subscription': 3655, 'quick': 1203, 'omg': 1361, 'wiskey': 3815, 'success': 3656, 'puts': 6942, 'don\\x92t': 2178, 'autocorrect': 4629, 'sue': 3658, 'suits': 3660, 'super': 3665, 'sux': 3667, 'thangam': 1931, 'sw7': 3669, 'sw73ss': 3670, 'acnt': 4440, 'switch': 3676, 'swtheart': 3677, 'bros': 2831, 'table': 3680, 'tank': 3683, 'tap': 3684, 'wining': 7986, 'bimbo': 4762, 'nmde': 6525, 'taste': 3685, 'horny': 1159, 'taxi': 3686, 'taylor': 3687, 'tayseer': 3688, 'tears': 3691, 'teasing': 3692, 'causing': 4926, '$95/pax': 3849, 'ringtones': 968, 'telephone': 3696, 'manage': 3320, '08702490080': 3944, 'temp': 3697, 'syllabus': 7539, 'terrorist': 3699, 'weasels': 7934, 'tests': 3700, '09058099801': 4027, 'textbuddy': 3701, 'textoperator': 3702, 'that‘s': 3703, 'unkempt': 3753, 'thoughts': 3705, 'logoff': 6228, '24/7mp': 4159, 'champneys': 4937, 'thx': 3707, 'tight': 3708, 'how': 50, 'causes': 4925, 'timing': 3709, 'tolerance': 7680, 'tirupur': 3711, 'first-': 5531, 'tissco': 3712, 'leads': 6175, 'allday': 4493, 'avo': 4638, 'tog': 3716, 'tomeandsaid': 3719, 'banned': 4680, 'tones2u': 3720, 'tons': 3723, 'doubles': 5312, 'tooo': 3724, 'toughest': 3726, 'increase': 5948, 'traffic': 3727, 'planet': 6777, 'anythin': 2074, 'busetop': 4862, 'darren': 930, 'transaction': 3729, 'transfer': 3730, 'greatness': 5731, 'printed': 3474, 'trav': 3732, 'duvet': 5347, 'atlast': 4613, 'cricketer': 2935, 'tsandcs': 3736, 'curtsey': 5147, 'twelve': 3739, 'story': 653, 'uh': 3745, 'flaky': 3070, 'uk/games': 3746, 'ultimatum': 3749, 'fuck': 484, 'oredi': 960, 'unbreakable': 3750, 'reset': 7057, 'no-910': 6529, '08714712379': 3971, '8pm': 4374, 'unredeemed': 3756, 'wipe': 7989, 'untamed': 3757, 'somethin': 1582, 'upd8': 3758, 'mac': 3312, 'upload': 3760, 'height': 5810, 'eerulli': 5372, '80488': 1429, 'croydon': 1284, 'deciding': 2954, 'upstairs': 3761, 'usb': 3763, 'narcotics': 6473, 'usc': 3764, 'utter': 3765, 'pop': 2383, 'vale': 3767, 'valid12hrs': 3768, 'verified': 3770, 'strong': 2481, 'verify': 3771, 'violence': 3773, 'violet': 3774, 'vomiting': 3777, 'walked': 3780, 'space': 1387, 'warner': 3783, '08715203694': 3979, '09058095201': 4023, 'wasted': 3786, '*': 320, 'watever': 3787, 'waves': 3788, 'taught': 7573, 'commit': 5035, 'hang': 5776, 'derp': 5219, 'wc1n3xx': 3789, 'mm': 1183, '169': 4118, 'realising': 6986, 'behalf': 4735, 'wedding': 3792, 'couple': 1018, 'weigh': 3796, 'kaypoh': 6095, '*missing': 3859, 'warned': 7914, 'organise': 6636, 'brilliant': 1455, 'welcomes': 3797, '1-month': 4077, 'west': 3798, 'thm': 7639, 'aust': 4626, 'whn': 3801, 'wicklow': 3805, 'doggy': 2176, 'widelive': 3806, '08719899217': 4001, 'wise': 3813, '08717111821': 3982, 't&csbcm4235wc1n3xx': 7545, 'wishin': 3814, '0844': 3930, 'wkent/150p16+': 3816, 'categories': 4924, 'wks': 3818, 'aft': 626, 'ideas': 3187, 'wld': 3819, 'h&m': 5761, 'wml': 3820, 'wn': 3821, 'set': 589, 'woken': 3823, 'women': 3824, 'woot': 3825, 'certificate': 4935, 'woulda': 3826, 'mre': 6428, 'half': 368, 'wrnog': 3828, 'declare': 5183, 'xxxxx': 3832, 'ntwk': 3401, 'spoiled': 3636, 'yelling': 3834, 'zindgi': 3838, '£1500': 3840, '£6': 3841, '#error': 3843, 'stay': 569, '$140': 3845, '$180': 3846, 'sigh*': 7270, '$350': 3848, '@': 782, '**free': 3852, 'giving': 1153, '*childish': 3854, 'perpetual': 6739, 'hot': 561, 'speedchat': 3631, '*i*': 3857, '*laughs*': 3858, 'meaningless': 6333, 'conducts': 2915, '*possessive': 3863, '07808247860': 3921, '*snuggles': 3868, '*whispers*': 3870, 'petexxx': 6747, '6230': 4295, 'arestaurant': 4571, 'dedicate': 2956, '+cheer': 3872, 'tenants': 1927, '+get': 3873, '-*': 3875, 'thinking': 654, '-4': 3877, 'lect': 946, '-u': 3887, 'sounding': 7357, '-xx': 3888, 'why': 197, '-|': 3889, 'heart-': 5802, '/oz': 3894, 'x49': 8040, '0121': 3897, '01223585334': 3899, 'night': 129, '0207-083-6089': 3900, 'receivea': 7001, '10th': 4086, '021': 3903, 'arm': 2768, 'b4190604': 4655, 'wrks': 8028, 'bbq': 4706, '03': 3904, ')': 27, 'accenture': 4431, '06/11/04': 3909, '07046744435': 3911, 'lit': 6217, 'cable': 4880, '07090298926': 3912, 'copy': 1126, 'forget': 557, '07099833605': 3913, 'bbdeluxe': 4705, '07753741225': 3917, '08002988890': 3927, 'unknown': 3754, '08448350055': 3931, '0845': 3933, 'shoul': 7253, '18yrs': 2643, 'irritates': 3208, '08450542832': 3934, 'soonlots': 7350, '08452810071': 3935, '08452810075over18': 3936, 'though': 476, 'wud': 3829, '087018728737': 3942, 'ultimate': 7767, '08704050406': 3945, '08704439680ts&cs': 3947, 'infra': 5957, 'ew': 5452, 'data': 5169, '08706091795': 3948, 'wocay': 8002, 'ecstasy': 5362, '08708800282': 3952, 'hudgi': 5883, '07808': 3920, 'b-blue': 4652, 'been': 117, 'fucked': 3093, '087123002209am-7pm': 3959, '09061743386': 4034, '08712402972': 3964, '08712466669': 3966, '08714712394': 3973, 'campus': 1459, '08715203028': 3975, 'nanny': 6471, '08715500022': 3981, 'hlday': 5843, 'basically': 1446, '08717205546': 3983, 'ey': 5473, 'loving': 1045, '08717895698': 3987, '08718723815': 3989, '08718726978': 3991, 'subscriber': 2484, '08718730666': 3993, '9280114': 4379, 'tb': 1921, '08718738002': 3995, 'pass': 891, '08718738034': 3996, '2c': 4171, 'worlds': 8015, 'becoz': 1680, '08719181503': 3999, '08719839835': 4000, 'callfreefone': 2850, '08719899230': 4003, '09050000460': 4007, 'salam': 3551, '09050000878': 4009, 'adrink': 4455, '09050001295': 4010, '*passionate': 3861, '09050001808': 4011, '09050005321': 4012, '49/month': 4250, '09057039994': 4013, 'apply': 424, '09058091870': 4014, '09058094455': 4016, 'janx': 6035, 'auntie': 4623, '09058094507': 4017, '09058094565': 4018, '09058097189': 4024, 'least': 813, '09058097218': 4025, '09058098002': 4026, 'jules': 6070, '09061104283': 4029, '09061701461': 4032, '121': 4093, '09061701851': 4033, 'gorgeous': 2238, '09061790126': 4039, '09063440451': 4040, 'mcat': 6328, 'florida': 5545, '09064012103': 4043, 'wlcome': 8000, 'simonwatson5120': 7277, 'players': 1553, '09064015307': 4044, '09064017305': 4046, '09064018838': 4047, '09065069154': 4049, 'clas': 4991, 'arithmetic': 4577, '09066362206': 4054, '09066362220': 4055, 'mcfly-all': 6329, '09066364349': 4056, 'okey': 2357, '09077818151': 4062, '09099725823': 4069, '09111030116': 4073, '09701213186': 4074, '6ish': 4311, 'apes': 4546, '0a$networks': 4075, '1-u': 4078, 'onum': 6616, '1/08/03': 4079, '1/2price': 4081, '50perwksub': 2023, '10am': 4084, '116': 4089, '1172': 4090, '12hours': 4096, 'subscribed': 3654, '13/4/04': 4097, 'touch': 691, '130': 4098, 'nosy': 6548, 'workin': 2550, 'accomodations': 4436, '139': 4099, '1405': 4100, '14thmarch': 4102, 'muz': 954, '150p/meg': 4103, 'sections': 7190, '4d': 2682, '150p/mt': 4105, 'wana': 987, '150p/wk': 4112, 'durban': 5343, '150ppmsg': 4113, '151': 4114, '15541': 4115, 'winner': 727, '1680': 4117, '18p/txt': 4122, 'mum': 644, '1apple/day=no': 4124, '1cup': 4125, 'you': 5, '1lemon/day=no': 4128, 'blog': 4778, '1pm': 4130, '1st4terms': 4131, 'internet/service': 5980, '1stchoice': 4132, 'ofsi': 6592, 'dontmatter': 5304, '2-u': 4140, 'confidence': 5056, '128': 4095, '2/2': 4141, 'easily': 3003, '2/3': 4142, 'hanks': 5779, '20/f': 4144, '2007': 4146, 'fund': 5630, '3pound': 4217, '21/f': 4150, 'vday': 7845, 'luv': 355, '21/m': 4151, 'specific': 7377, 'pleasure': 1198, '22': 4152, '2309': 4154, 'coincidence': 5019, '23f': 4155, 'latest': 331, '150p/mtmsg': 4106, '24/10/04': 4158, '24hrs': 4160, '24th': 4162, '28/5': 4166, 'swiss': 3675, 'symbol': 2493, '28th': 4167, '1hr': 2644, '29/03/05': 4168, '29/m': 4169, 'prasanth': 6846, 'callcost': 4893, '2b': 4170, '2channel': 4172, 'banter': 4681, '2ez': 4175, '2go': 4178, 'suggestions': 7500, 'hum': 5889, '2gthr': 4179, 'mummy': 3372, 'record': 2406, 'rem': 2409, '2hrs': 4181, '2i': 4182, 'celebration': 2869, '2mwen': 4185, 'malarky': 6289, 'makes': 563, '150p/mtmsgrcvd18+': 4108, '2nite-tell': 4186, '3-maruti': 4192, 'wright': 8024, 'nokia': 218, 'skillgame': 2448, '30apr': 4195, 'galileo': 3099, '30th': 4198, 'aha': 1110, '*deep': 3855, '31': 4199, '35p': 4207, 'also': 198, '3750': 4209, 'dengra': 5205, '382': 4210, 'randy': 3499, '3xx': 4219, 'beloved': 4739, 'modules': 3356, '4*lux': 4220, 'ques-': 3492, '4-6': 4221, 'safety': 7129, '4-7/12': 4222, 'billy': 4760, 'effect': 3011, '4-pavanaputra': 4223, '47': 4247, 'cer': 4932, '4-some1': 4224, '400': 4226, 'discount': 1021, '66': 4299, 'passes': 6704, '400mins': 4227, '402': 4229, '430': 4237, 'engalnd': 5405, '447801259231': 4240, 'spoke': 1388, '449050000301': 4242, 'sullivan': 7502, '4brekkie': 4251, 'free-send': 3087, '4jx': 4254, 'feels': 798, '4my': 4255, 'wil': 625, '4t&ctxt': 4256, 'initiate': 5960, '4txt/120p': 4257, '4utxt': 4259, '4ward': 4260, '4wrd': 4261, 'dick': 2969, '4years': 4262, 'overdid': 6658, 'bian': 4756, '50/wk': 4269, 'programs': 6898, '5000': 4270, '2mrw': 1423, '50pm': 4274, 'fuckin': 2230, '50ppm': 4275, '150p/text': 4111, '528': 4281, 'yet': 279, 'coast': 2901, 'application': 4558, 'submitting': 7480, 'sound\\x92s': 7359, 'diamond': 5244, '54': 4282, 'person': 298, '5digital': 4283, 'open': 645, 'kegger': 3242, '5mls': 4285, 'helpful': 5818, 'credit': 866, '5p': 4286, '6-ramaduth': 4288, '60': 4289, '6031': 4291, 'pataistha': 6707, 'finn': 5526, '60p': 4292, '09065171142-stopsms-08': 4050, '62220cncl': 4294, '650': 4298, '8ball': 4372, '6669': 4300, '67441233': 4301, 'settled': 1897, '69101': 4303, '69888nyt': 4308, '69988': 4310, 'grandmas': 5723, 'losing': 1813, '7+2+5=': 4316, '730': 4319, '78': 4323, '7876150ppm': 4324, 'tiz': 7664, '7am': 4325, 'barmed': 4688, '7oz': 4326, '7pm': 4327, 'simply': 1901, 'ding': 2974, 'recognise': 3512, '8+6+3=': 4328, '80': 4331, 'blessed': 4775, '80086': 4333, '220cm2': 4153, '81010': 4336, '81303': 4337, 'presents': 6865, '81618': 4338, '83021': 4340, 'bell': 2794, 'whose': 3803, 'aberdeen': 4415, 'jewelry': 6049, 'country': 1127, '*exposes': 3856, '150ppm': 404, '83039': 4341, 'boyf': 4809, '83118': 4342, '83332': 4343, 'trust': 1080, '83370': 4345, '83738': 4347, '85069': 4352, 'talkin': 7563, 'ran': 1862, 'bedbut': 4721, '85222': 4353, '85233': 4354, 'wheel': 7965, '8714714': 4361, 'cres': 5120, 'chatlines': 4948, 'talkbut': 7561, '8800': 4362, 'club>>': 5006, '88800': 4364, '£250k': 8109, '88877>free': 4367, '89105': 4370, 'play': 317, '930': 4381, 'complacent': 5040, '946': 4384, 'suggest': 3659, '98321561': 4385, 'must': 488, '9th': 4390, '=twelve': 4394, '>': 4395, 'purity': 1853, 'hours': 562, 'bx526': 4873, '>>>more': 4396, 'treatin': 7721, 'scary': 2428, '@shesil': 4398, 'kalainar': 6085, '[in': 4401, 'scotch': 3562, '[…]': 4403, 'avenge': 4635, 'cell': 1121, 'a-': 4405, 'a-ffectionate': 4406, 'a30': 4409, 'aaniye': 4410, 'defo': 5193, 'cut': 741, 'abstract': 4421, 'abusers': 4423, 'terms': 1076, 'addamsfa': 2737, 'ac/smsrewards': 4424, 'ac/u/bootydelious': 4425, 'rto': 7111, 'club4mobiles': 5005, 'ac/u/hmmross': 4427, 'ac/u/natalie2k9': 4428, 'qbank': 6944, 'ac/w/icmb3cktz8r7': 4429, 'accessible': 4432, 'smsco': 3616, 'accumulation': 4437, 'pushes': 6941, 'own': 1195, 'active': 4444, '88877': 4366, 'adding': 4446, 'designation': 5223, '7ish': 2702, 'adi': 4449, 'adrian': 4454, 'palm': 6677, 'bhayandar': 4755, 'released': 3516, 'adsense': 4456, 'adventure': 4458, 'adventuring': 4459, 'age23': 2747, '1winawk': 4135, 'advising': 4460, 'huge': 5884, 'afew': 4462, 'uptown': 7816, 'afghanistan': 4465, 'afternon': 4468, 'aftr': 4470, 'ahold': 4475, 'aid': 4476, 'hope': 142, 'aig': 4478, 'harry': 3148, 'airtel': 4479, 'alaikkum': 4483, 'albi': 4485, 'parachute': 6688, 'ham': 5771, 'alcohol': 4486, 'pending': 2370, 'alerts': 4487, 'algebra': 4488, 'alibi': 4491, 'alle': 4494, 'allo': 4495, 'allows': 4496, 'forfeit': 5568, 'alot': 4497, 'mecause': 6336, 'cantdo': 4902, 'alternative': 4499, 'b-': 4651, 'alwys': 4500, 'amanda': 4501, 'busty': 4863, 'ironing': 5999, 'amma': 4507, 'airport': 2749, 'ammo': 4509, 'steam': 3645, 'vegas': 3769, 'amnow': 4510, 'amore': 4511, 'amrita': 4513, 'ams': 4514, 'amy': 4516, 'ana': 4517, 'analysis': 4518, 'mrng': 952, 'and/or': 4519, 'dog': 1476, 'anderson': 4520, 'andros': 4523, 'happenin': 5783, 'animal': 4525, 'stubborn': 7465, 'jamz': 6032, 'reminder': 3519, '3-u': 4193, 'annoncement': 4528, 'announced': 4529, 'it*': 6008, 'anonymous': 4532, 'didntgive': 5250, 'answerin': 4535, 'gautham': 3102, 'answr': 4536, 'anti': 4539, 'rd': 2401, 'antibiotic': 4540, '=/': 4393, 'anythiing': 4544, 'charlie': 4944, 'shijas': 2440, 'gimme': 3119, 'anythingtomorrow': 4545, 'asp': 4596, 'apeshit': 4547, 'apnt': 4548, 'bleh': 2806, 'apo': 4549, 'yunny': 8086, 'apologetic': 4550, 'base': 4695, 'strange': 7451, 'chastity': 4946, 'apology': 4552, 'hospital': 1032, 'appendix': 4555, 'applausestore': 4556, 'applebees': 4557, 'missing': 643, 'appointments': 4561, 'aquarius': 4567, 'arabian': 4569, 'sound': 1583, 'arngd': 4578, 'arnt': 4579, 'starting': 1071, 'arranging': 4581, 'arrival': 4582, 'convenience': 5073, 'arrived': 4583, 'arrow': 4584, 'artists': 4585, 'arty': 4586, 'carlos': 633, 'arul': 4587, 'closeby': 5002, 'some1': 2459, 'true': 573, 'arun': 4588, 'ashwini': 4591, 'straight': 2478, 'asia': 4592, '150p/mtmsgrcvd18': 4107, 'aslamalaikkum': 4595, '2nd': 499, 'assessment': 4599, 'goodfriend': 3125, 'asshole': 4600, 'kind': 675, '09090204448': 4063, 'baaaaabe': 4659, 'assistance': 4601, 'asssssholeeee': 4603, 'havn': 5795, 'admission': 4451, 'assumed': 4604, 'unbelievable': 7771, 'astne': 4606, 'animation': 2758, 'accommodationvouchers': 4435, 'astrology': 4607, 'wasnt': 7917, 'astronomer': 4608, 'asus': 4609, 'intention': 5975, '150p/tone': 2004, 'at/your': 4611, 'atleast': 4614, 'attention': 4618, 'audiitions': 4620, 'aunt': 4622, 'australia': 4627, 'catch': 1011, 'really': 172, 'ava': 4631, 'availa': 4632, 'showers': 7259, 'attended': 4617, 'juicy': 3235, 'avble': 4634, 'point': 1057, 'bilo': 4761, 'cashto': 2865, 'awww': 4643, 'ax': 4644, 'dual': 5333, 'b-day': 4653, 'b/tooth': 4654, 'babysit': 4661, 'breakfast': 4819, 'badass': 4665, 'surgical': 7519, 'sparkling': 7371, 'magazine': 6281, 'badly': 4666, 'kotees': 6127, 'gold': 3123, 'consent': 5064, 'badrith': 4667, 'baller': 4673, 'band': 4675, 'bang': 4676, 'bangbabes': 4678, 'bani': 4679, 'bao': 4682, 'barbie': 4683, 'bare': 4685, 'barkleys': 4687, 'barolla': 4689, 'barrel': 4691, 'korte': 6126, 'basket': 4696, 'h': 2244, 'landline': 409, 'bathroom': 4700, 'fall': 1483, 'battle': 4702, 'whoever': 7972, 'bbc': 4704, 'bcaz': 4707, 'bcm1896wc1n3xx': 4708, 'meh': 1536, 'solved': 3620, 'bcs': 4709, '0089': 3896, 'bcum': 4710, 'drugs': 1292, 'clearly': 4997, 'tiring': 7662, '*kiss*': 1627, 'pongal': 2382, 'beach': 4712, 'beads': 4713, 'serious': 1577, 'bears': 4714, 'ji': 6051, 'boston': 1692, 'beatings': 4715, 'eckankar': 5360, 'beauties': 4716, 'becaus': 4718, 'becausethey': 4719, 'bedreal': 4722, 'beehoon': 4726, 'there': 69, 'beerage': 4729, 'pases': 6703, 'brothas': 4833, '1956669': 2006, 'beers': 4730, 'beggar': 4732, 'js': 6069, 'belongs': 4738, 'craziest': 2933, 'benefits': 4742, 'bennys': 4743, 'boss': 920, 'bergkamp': 4744, 'brats': 4815, 'beth': 4747, 'billion': 4758, 'bettersn': 4748, 'barred': 4690, 'avoid': 4639, 'beverage': 4750, 'torrents': 7699, 'eire': 3014, 'beyond': 4751, 'bfore': 4753, 'bills': 4759, 'birthdate': 4764, 'gn': 1313, 'bits': 4767, 'name2': 3379, 'park': 961, 'chickened': 4967, 'exorcist': 3037, 'blanket': 4771, 'advise': 2743, 'blankets': 4772, 'blastin': 4773, 'pobox45w2tg150p': 6798, 'blokes': 4779, 'bluetoothhdset': 4780, 'cc': 1277, 'boatin': 4783, 'brainy': 4813, 'bob': 4784, 'gravy': 5727, 'boggy': 4785, 'becz': 4720, 'bognor': 4786, 'bong': 4790, 'bookshelf': 4793, 'boooo': 4794, 'audrie': 4621, 'bootydelious': 4795, 'woould': 8009, 'invention': 5986, 'finance': 5521, 'borderline': 4796, 'furniture': 3097, 'once': 357, 'bowa': 4799, 'wasn‘t': 7919, 'box1146': 4801, 'box245c2150pm': 4803, 'login': 2302, 'aretaking': 4572, 'box326': 4804, 'box434sk38wp150ppm18+': 4807, '1120': 4087, 'casting': 4920, 'box403': 4806, 'boyfriend': 4810, 'velly': 7848, 'them': 176, 'bpo': 4811, '300p': 2667, 'brainless': 4812, 'bras': 4814, 'piah': 6762, 'gail': 5639, '5wb': 1251, 'braved': 4816, 'breadstick': 4817, 'freedom': 3089, 'breaker': 4818, 'admin': 2738, 'ibh': 3183, 'breakin': 4820, 'boye': 2112, 'breeze': 4825, 'jeevithathile': 6043, 'bridgwater': 4827, 'brin': 4829, 't91': 7550, 'effects': 5373, 'brison': 4830, 'brownies': 4837, 'browser': 4839, 'bsn': 4842, 'bthere': 4844, 'buen': 4849, 'scenario': 7169, 'problem': 358, 'bullshit': 4853, 'burger': 4856, 'dawns': 5170, 'he': 77, 'medicine': 3328, 'burial': 4858, 'fb': 3055, 'butting': 4866, '3030': 1105, 'buyers': 4868, 'bw': 4871, 'byatch': 4874, 'jjc': 6054, 'c-in': 4877, '69698': 2694, 'cakes': 4882, 'tune': 7741, 'calculation': 4884, 'offered': 6587, 'call09050000327': 4886, 'call2optout/': 4887, 'call2optout/j': 4890, 'cappuccino': 4906, 'cappuccino*': 4907, 'caps': 4908, 'double': 603, 'captaining': 4909, 'wa': 7892, 'cardin': 4910, 'carpark': 4916, 'cashed': 4918, 'casing': 4919, 'castor': 4921, 'crab': 2156, 'catches': 4923, 'survey': 7524, '153': 2639, 'a£50': 4649, 'celebrations': 4930, 'census': 4931, 'fassyole': 5493, 'cereals': 4933, 'sorts': 7356, 'changes': 4938, 'arcade': 1261, 'again': 212, 'chaps': 4941, 'chapter': 4942, 'prizes': 3476, 'charged@150p/msg': 4943, 'bettr': 4749, 'charts': 4945, 'lapdancer': 6156, 'callon': 4894, 'chat80155': 4947, 'checkboxes': 4950, '4*': 520, 'cheered': 4954, 'cheery': 4955, 'versus': 7852, 'don\\\\': 2984, 'chef': 4959, 'completely': 1125, 'cherthala': 4961, '1000': 1634, 'buz': 4869, 'chgs': 4965, 'musta': 6451, 'chic': 4966, 'rent': 1566, 'outstanding': 2363, 'childporn': 4969, 'chile': 4970, 'mandara': 6296, 'chillaxin': 4971, 'chinatown': 4972, 'xuhui': 3831, 'chinchillas': 4973, 'msgrcvd18+': 6433, 'chinky': 4974, 'choices': 4980, 'christmassy': 4984, 'making': 586, '08718711108': 3988, 'chuck': 4985, 'citylink': 4987, 'cl': 4988, 'clarification': 4989, 'claypot': 4995, 'clip': 5000, 'clover': 5003, 'club4': 5004, 'sea*': 7184, 'info@txt82228': 5956, 'clubmoby': 5007, 'cm': 5009, 'cnl': 5011, 'is/are': 6004, 'cnupdates': 5012, 'coach': 5013, 'everythin': 5442, 'bleak': 4774, 'collapsed': 5022, 'colleg': 5023, 'priya': 6884, '*smacks': 3867, 'com/enjoy': 5026, 'com/etlp/dining': 5027, 'bright': 2114, '$1': 3844, 'com1win150ppmx3age16subscription': 5029, 'comb': 5030, 'deliver': 1729, 'combination': 5031, 'command': 5033, 'music-trivia': 6449, 'commercial': 5034, 'companies': 5036, '09094646899': 4066, 'companion': 5037, 'complain': 5041, 'dining': 5262, 'completed': 5042, 'spree': 1389, 'flirting': 3073, 'completing': 5044, 'compliments': 5045, 'shanil': 7227, 'post': 613, 'computational': 5047, 'conacted': 5049, 'concentrating': 5050, 'concentration': 5051, 'configure': 5057, 'èn': 8123, 'confirm/deny': 5058, 'hitter': 5842, 'connections': 5061, 'cons': 5062, 'consistently': 5065, 'contains': 5066, 'fusion': 5633, 'contented': 5067, 'pmt': 6792, 'flat': 2215, 'continent': 5069, 'contribute': 5072, 'classmates': 4994, 'convince': 5077, 'a£1': 4648, 'cool-mob': 5080, 'cooped': 5081, 'perfect': 2371, 'smoke': 768, 'copies': 5084}\n"
     ]
    }
   ],
   "source": [
    "# Initialize training data iterator\n",
    "class TextIter(torch.utils.data.Dataset):\n",
    "\n",
    "  def __init__(self, input_data):\n",
    "      self.text = input_data['Message'].values.tolist()\n",
    "  def __len__(self):\n",
    "      return len(self.text)\n",
    "  def __getitem__(self, idx):\n",
    "      return self.text[idx]\n",
    "\n",
    "# Build vocabulary\n",
    "def yield_tokens(data_iter):\n",
    "    for text in data_iter:\n",
    "        yield tokenizer(text)\n",
    "\n",
    "data_iter = TextIter(df_train)\n",
    "vocab = build_vocab_from_iterator(yield_tokens(data_iter), specials=[\"<pad>\", \"<unk>\"])\n",
    "vocab.set_default_index(vocab[\"<unk>\"])\n",
    "print(vocab.get_stoi())"
   ]
  },
  {
   "cell_type": "code",
   "execution_count": 6,
   "metadata": {
    "colab": {
     "base_uri": "https://localhost:8080/"
    },
    "id": "MnMWSA1DxtVT",
    "outputId": "8c029213-3c0b-4ed1-dd59-38406e832733"
   },
   "outputs": [
    {
     "name": "stdout",
     "output_type": "stream",
     "text": [
      "['this', 'is', 'jkjkj']\n",
      "[49, 15, 1]\n"
     ]
    }
   ],
   "source": [
    "text_unk = 'this is jkjkj' # jkjkj is an unknown vocab\n",
    "seq_unk = [vocab[word] for word in tokenizer(text_unk)]\n",
    "\n",
    "print(tokenizer(text_unk))\n",
    "print(seq_unk)"
   ]
  },
  {
   "cell_type": "code",
   "execution_count": 7,
   "metadata": {
    "colab": {
     "base_uri": "https://localhost:8080/"
    },
    "id": "lSvZVqMtyL7Q",
    "outputId": "dac47cd2-3863-4261-e09d-ef3dc3128240"
   },
   "outputs": [
    {
     "name": "stdout",
     "output_type": "stream",
     "text": [
      "['this', 'is', 'text']\n",
      "[49, 15, 81]\n"
     ]
    }
   ],
   "source": [
    "# We will use this example throughout the article\n",
    "text = 'this is text' \n",
    "seq = [vocab[word] for word in tokenizer(text)]\n",
    "\n",
    "print(tokenizer(text))\n",
    "print(seq)"
   ]
  },
  {
   "cell_type": "markdown",
   "metadata": {
    "id": "rqX3dUjSB7vY"
   },
   "source": [
    "# Word Embedding"
   ]
  },
  {
   "cell_type": "code",
   "execution_count": 8,
   "metadata": {
    "id": "PgxpI0J70_Jv"
   },
   "outputs": [],
   "source": [
    "class Embeddings(nn.Module):\n",
    "    def __init__(self, d_model, vocab_size):\n",
    "        super(Embeddings, self).__init__()\n",
    "        self.emb = nn.Embedding(vocab_size, d_model)\n",
    "        self.d_model = d_model\n",
    "\n",
    "    def forward(self, x):\n",
    "        return self.emb(x) * math.sqrt(self.d_model)"
   ]
  },
  {
   "cell_type": "code",
   "execution_count": 9,
   "metadata": {
    "colab": {
     "base_uri": "https://localhost:8080/"
    },
    "id": "aBA7taXf1OTu",
    "outputId": "fe21d55d-d00a-44f2-9aec-e5c5ab5d5dd5"
   },
   "outputs": [
    {
     "name": "stdout",
     "output_type": "stream",
     "text": [
      "Size of token embedding: torch.Size([1, 3, 4])\n"
     ]
    }
   ],
   "source": [
    "hidden_size = 4\n",
    "\n",
    "input_data = torch.LongTensor(seq).unsqueeze(0)\n",
    "emb_model = Embeddings(hidden_size, len(vocab))\n",
    "token_emb = emb_model(input_data) \n",
    "print(f'Size of token embedding: {token_emb.size()}')"
   ]
  },
  {
   "cell_type": "markdown",
   "metadata": {
    "id": "z8sJ8ENsB_D6"
   },
   "source": [
    "# Positional Encoding"
   ]
  },
  {
   "cell_type": "code",
   "execution_count": 10,
   "metadata": {
    "id": "NHeQNov51Sn_"
   },
   "outputs": [],
   "source": [
    "class PositionalEncoding(nn.Module):\n",
    "    def __init__(self, d_model, vocab_size=5000, dropout=0.1):\n",
    "        super().__init__()\n",
    "        self.dropout = nn.Dropout(p=dropout)\n",
    "\n",
    "        pe = torch.zeros(vocab_size, d_model)\n",
    "        position = torch.arange(0, vocab_size, dtype=torch.float).unsqueeze(1)\n",
    "        div_term = torch.exp(\n",
    "            torch.arange(0, d_model, 2).float()\n",
    "            * (-math.log(10000.0) / d_model)\n",
    "        )\n",
    "  \n",
    "        pe[:, 0::2] = torch.sin(position * div_term)\n",
    "        pe[:, 1::2] = torch.cos(position * div_term)\n",
    "        pe = pe.unsqueeze(0)\n",
    "        self.register_buffer(\"pe\", pe)\n",
    "\n",
    "    def forward(self, x):\n",
    "        x = x + self.pe[:, : x.size(1), :]\n",
    "        return self.dropout(x)"
   ]
  },
  {
   "cell_type": "code",
   "execution_count": 11,
   "metadata": {
    "colab": {
     "base_uri": "https://localhost:8080/"
    },
    "id": "HIJkwwsF1nQB",
    "outputId": "724bd5e6-9814-46dd-ce24-f5cf6232e47c"
   },
   "outputs": [
    {
     "name": "stdout",
     "output_type": "stream",
     "text": [
      "Size of output embedding: torch.Size([1, 3, 4])\n"
     ]
    }
   ],
   "source": [
    "pe_model = PositionalEncoding(d_model=4, vocab_size=len(vocab))\n",
    "output_pe = pe_model(token_emb)\n",
    "\n",
    "print(f'Size of output embedding: {output_pe.size()}')"
   ]
  },
  {
   "cell_type": "markdown",
   "metadata": {
    "id": "fn2qzfJbCDJm"
   },
   "source": [
    "# Self-Attention"
   ]
  },
  {
   "cell_type": "code",
   "execution_count": 12,
   "metadata": {
    "id": "UGapGdkS1q-m"
   },
   "outputs": [],
   "source": [
    "class SingleHeadAttention(nn.Module):\n",
    "    def __init__(self, d_model, d_head_size):\n",
    "        super().__init__()\n",
    "        self.lin_key = nn.Linear(d_model, d_head_size, bias=False)\n",
    "        self.lin_query = nn.Linear(d_model, d_head_size, bias=False)\n",
    "        self.lin_value = nn.Linear(d_model, d_head_size, bias=False)\n",
    "        self.d_model = d_model\n",
    "\n",
    "    def forward(self, x):\n",
    "        query = self.lin_query(x)\n",
    "        key = self.lin_key(x)\n",
    "        value = self.lin_value(x)\n",
    "\n",
    "        scores = torch.matmul(query, key.transpose(-2, -1)) / math.sqrt(self.d_model)\n",
    "        p_attn = scores.softmax(dim=-1)\n",
    "        x = torch.matmul(p_attn, value)\n",
    "\n",
    "        return x"
   ]
  },
  {
   "cell_type": "code",
   "execution_count": 13,
   "metadata": {
    "id": "UA3cTsV52A-Z"
   },
   "outputs": [],
   "source": [
    "class MultiHeadAttention(nn.Module):\n",
    "    def __init__(self, h, d_model, dropout=0.1):\n",
    "        super().__init__()\n",
    "        assert d_model % h == 0\n",
    "        d_k = d_model // h\n",
    "        self.multi_head = nn.ModuleList([SingleHeadAttention(d_model, d_k) for _ in range(h)])\n",
    "        self.lin_agg = nn.Linear(d_model, d_model)\n",
    "\n",
    "    def forward(self, x):\n",
    "        x = torch.cat([head(x) for head in self.multi_head], dim=-1)\n",
    "        return self.lin_agg(x)"
   ]
  },
  {
   "cell_type": "code",
   "execution_count": 14,
   "metadata": {
    "colab": {
     "base_uri": "https://localhost:8080/"
    },
    "id": "9EfI6Qud2EkN",
    "outputId": "11dddad4-0a93-4c81-d603-e136b95f381e"
   },
   "outputs": [
    {
     "name": "stdout",
     "output_type": "stream",
     "text": [
      "Size of output embedding after multi-head attention: torch.Size([1, 3, 4])\n"
     ]
    }
   ],
   "source": [
    "mult_att = MultiHeadAttention(h=2, d_model=4)\n",
    "output_mult_att = mult_att(output_pe)\n",
    "\n",
    "print(f'Size of output embedding after multi-head attention: {output_mult_att.size()}')"
   ]
  },
  {
   "cell_type": "markdown",
   "metadata": {
    "id": "3HzDQA8gCGoQ"
   },
   "source": [
    "# Residual Connection"
   ]
  },
  {
   "cell_type": "code",
   "execution_count": 15,
   "metadata": {
    "id": "lh2npT4L2INT"
   },
   "outputs": [],
   "source": [
    "class LayerNorm(nn.Module):\n",
    "    def __init__(self, d_model, eps=1e-6):\n",
    "        super(LayerNorm, self).__init__()\n",
    "        self.a_2 = nn.Parameter(torch.ones(d_model))\n",
    "        self.b_2 = nn.Parameter(torch.zeros(d_model))\n",
    "        self.eps = eps\n",
    "\n",
    "    def forward(self, x):\n",
    "        mean = x.mean(-1, keepdim=True)\n",
    "        std = x.std(-1, keepdim=True)\n",
    "        return self.a_2 * (x - mean) / (std + self.eps) + self.b_2\n",
    "\n",
    "class ResidualConnection(nn.Module):\n",
    "    def __init__(self, d_model, dropout=0.1):\n",
    "        super().__init__()\n",
    "        self.norm = LayerNorm(d_model)\n",
    "        self.dropout = nn.Dropout(dropout)\n",
    "\n",
    "    def forward(self, x1, x2):\n",
    "        return self.dropout(self.norm(x1 + x2))"
   ]
  },
  {
   "cell_type": "code",
   "execution_count": 16,
   "metadata": {
    "colab": {
     "base_uri": "https://localhost:8080/"
    },
    "id": "LaErR02-3TTH",
    "outputId": "690291a0-5923-4c5e-b151-afa4d92b3966"
   },
   "outputs": [
    {
     "name": "stdout",
     "output_type": "stream",
     "text": [
      "Size of output embedding after residual connection: torch.Size([1, 3, 4])\n"
     ]
    }
   ],
   "source": [
    "res_conn_1 = ResidualConnection(d_model=4)\n",
    "output_res_conn_1 = res_conn_1(output_pe, output_mult_att)\n",
    "\n",
    "print(f'Size of output embedding after residual connection: {output_res_conn_1.size()}')"
   ]
  },
  {
   "cell_type": "markdown",
   "metadata": {
    "id": "2fxzwC04CLGu"
   },
   "source": [
    "# Feed-Forward"
   ]
  },
  {
   "cell_type": "code",
   "execution_count": 17,
   "metadata": {
    "id": "-YsYSQ6Z3wN9"
   },
   "outputs": [],
   "source": [
    "class FeedForward(nn.Module):\n",
    "    def __init__(self, d_model, d_ff, dropout=0.1):\n",
    "        super().__init__()\n",
    "        self.w_1 = nn.Linear(d_model, d_ff)\n",
    "        self.w_2 = nn.Linear(d_ff, d_model)\n",
    "        self.dropout = nn.Dropout(dropout)\n",
    "\n",
    "    def forward(self, x):\n",
    "        return self.w_2(self.dropout(self.w_1(x).relu()))"
   ]
  },
  {
   "cell_type": "code",
   "execution_count": 18,
   "metadata": {
    "colab": {
     "base_uri": "https://localhost:8080/"
    },
    "id": "8lHmNlck4G9b",
    "outputId": "2ed37657-84a6-4cba-b1a9-d57ff3416c7f"
   },
   "outputs": [
    {
     "name": "stdout",
     "output_type": "stream",
     "text": [
      "Size of output embedding after feed-forward network: torch.Size([1, 3, 4])\n"
     ]
    }
   ],
   "source": [
    "ff = FeedForward(d_model=4, d_ff=12)\n",
    "output_ff = ff(output_res_conn_1)\n",
    "\n",
    "print(f'Size of output embedding after feed-forward network: {output_ff.size()}')"
   ]
  },
  {
   "cell_type": "code",
   "execution_count": 19,
   "metadata": {
    "colab": {
     "base_uri": "https://localhost:8080/"
    },
    "id": "TppARUcn4Ucd",
    "outputId": "f0d61304-069f-4630-d28b-b4346ae844dc"
   },
   "outputs": [
    {
     "name": "stdout",
     "output_type": "stream",
     "text": [
      "Size of output embedding after second residual: torch.Size([1, 3, 4])\n"
     ]
    }
   ],
   "source": [
    "res_conn_2 = ResidualConnection(d_model=4)\n",
    "output_res_conn_2 = res_conn_2(output_res_conn_1, output_ff)\n",
    "\n",
    "print(f'Size of output embedding after second residual: {output_res_conn_2.size()}')"
   ]
  },
  {
   "cell_type": "markdown",
   "metadata": {
    "id": "-i2ciCjaCOhN"
   },
   "source": [
    "# Encoder Stack"
   ]
  },
  {
   "cell_type": "code",
   "execution_count": 20,
   "metadata": {
    "id": "sf8doruK4wNb"
   },
   "outputs": [],
   "source": [
    "class SingleEncoder(nn.Module):\n",
    "    def __init__(self, d_model, self_attn, feed_forward, dropout):\n",
    "        super().__init__()\n",
    "        self.self_attn = self_attn\n",
    "        self.feed_forward = feed_forward\n",
    "        self.res_1 = ResidualConnection(d_model, dropout)\n",
    "        self.res_2 = ResidualConnection(d_model, dropout)\n",
    "\n",
    "        self.d_model = d_model\n",
    "\n",
    "    def forward(self, x):\n",
    "        x_attn = self.self_attn(x)\n",
    "        x_res_1 = self.res_1(x, x_attn)\n",
    "        x_ff = self.feed_forward(x_res_1)\n",
    "        x_res_2 = self.res_2(x_res_1, x_ff)\n",
    "\n",
    "        return x_res_2"
   ]
  },
  {
   "cell_type": "code",
   "execution_count": 21,
   "metadata": {
    "id": "6TQmMd-Z6r2j"
   },
   "outputs": [],
   "source": [
    "class EncoderBlocks(nn.Module):\n",
    "    def __init__(self, layer, N):\n",
    "        super().__init__()\n",
    "        self.layers = nn.ModuleList([layer for _ in range(N)])\n",
    "        self.norm = LayerNorm(layer.d_model)\n",
    "\n",
    "    def forward(self, x):\n",
    "        for layer in self.layers:\n",
    "            x = layer(x)\n",
    "        return self.norm(x)"
   ]
  },
  {
   "cell_type": "markdown",
   "metadata": {
    "id": "_oX8KeLlCRxI"
   },
   "source": [
    "# Transformer Encoder Model"
   ]
  },
  {
   "cell_type": "code",
   "execution_count": 25,
   "metadata": {
    "id": "6Wttdrk06uvc"
   },
   "outputs": [],
   "source": [
    "class TransformerEncoderModel(nn.Module):\n",
    "    def __init__(self, vocab_size, d_model, nhead, d_ff, N,\n",
    "                dropout=0.1):\n",
    "        super().__init__()\n",
    "        assert d_model % nhead == 0, \"nheads must divide evenly into d_model\"\n",
    "\n",
    "        self.emb = Embeddings(d_model, vocab_size)\n",
    "        self.pos_encoder = PositionalEncoding(d_model=d_model, vocab_size=vocab_size)\n",
    "\n",
    "        attn = MultiHeadAttention(nhead, d_model)\n",
    "        ff = FeedForward(d_model, d_ff, dropout)\n",
    "        self.transformer_encoder = EncoderBlocks(SingleEncoder(d_model, attn, ff, dropout), N)\n",
    "        self.classifier = nn.Linear(d_model, 2)\n",
    "        self.d_model = d_model\n",
    "\n",
    "    def forward(self, x):\n",
    "        x = self.emb(x) * math.sqrt(self.d_model)\n",
    "        x = self.pos_encoder(x)\n",
    "        x = self.transformer_encoder(x)\n",
    "        x = x.mean(dim=1)\n",
    "        x = self.classifier(x)\n",
    "        return x\n",
    "\n",
    "device = torch.device(\"cuda\" if torch.cuda.is_available() else \"cpu\")\n",
    "model = TransformerEncoderModel(len(vocab), d_model=300, nhead=4, d_ff=50, \n",
    "                                    N=6, dropout=0.1).to(device)"
   ]
  },
  {
   "cell_type": "markdown",
   "metadata": {
    "id": "8B8QSPvvCVAD"
   },
   "source": [
    "# Dataloader"
   ]
  },
  {
   "cell_type": "code",
   "execution_count": 26,
   "metadata": {
    "id": "uH1RfYD56yli"
   },
   "outputs": [],
   "source": [
    "class TextDataset(torch.utils.data.Dataset):\n",
    "\n",
    "  def __init__(self, input_data):        \n",
    "      self.text = input_data['Message'].values.tolist()\n",
    "      self.label = [int(label2id[i]) for i in input_data['Category'].values.tolist()]\n",
    "\n",
    "  def __len__(self):\n",
    "      return len(self.label)\n",
    "    \n",
    "  def get_sequence_token(self, idx):\n",
    "      sequence = [vocab[word] for word in tokenizer(self.text[idx])]\n",
    "      len_seq = len(sequence)\n",
    "      return sequence, len_seq\n",
    "  \n",
    "  def get_labels(self, idx):\n",
    "      return self.label[idx]\n",
    "\n",
    "  def __getitem__(self, idx):\n",
    "      sequence, len_seq = self.get_sequence_token(idx)\n",
    "      label = self.get_labels(idx)\n",
    "      return sequence, label, len_seq\n",
    "\n",
    "def collate_fn(batch):\n",
    "  \n",
    "    sequences, labels, lengths = zip(*batch)\n",
    "    max_len = max(lengths)\n",
    "    \n",
    "    for i in range(len(batch)):\n",
    "        if len(sequences[i]) != max_len:\n",
    "          for j in range(len(sequences[i]),max_len):\n",
    "            sequences[i].append(0)\n",
    "\n",
    "    return torch.tensor(sequences, dtype=torch.long), torch.tensor(labels, dtype=torch.long)"
   ]
  },
  {
   "cell_type": "markdown",
   "metadata": {
    "id": "4Cyro0LYCXgw"
   },
   "source": [
    "# Model Training"
   ]
  },
  {
   "cell_type": "code",
   "execution_count": 30,
   "metadata": {
    "colab": {
     "base_uri": "https://localhost:8080/"
    },
    "id": "gR9iJ5_x63wh",
    "outputId": "ef953f57-6b1d-4ebc-ac5a-8aa80ea056a7"
   },
   "outputs": [
    {
     "name": "stderr",
     "output_type": "stream",
     "text": [
      "100%|██████████| 1115/1115 [00:44<00:00, 25.11it/s]\n"
     ]
    },
    {
     "name": "stdout",
     "output_type": "stream",
     "text": [
      "Epochs: 1 | Loss:  0.079 | Accuracy:  0.915\n"
     ]
    },
    {
     "name": "stderr",
     "output_type": "stream",
     "text": [
      "100%|██████████| 1115/1115 [00:39<00:00, 28.44it/s]\n"
     ]
    },
    {
     "name": "stdout",
     "output_type": "stream",
     "text": [
      "Epochs: 2 | Loss:  0.068 | Accuracy:  0.937\n"
     ]
    },
    {
     "name": "stderr",
     "output_type": "stream",
     "text": [
      "100%|██████████| 1115/1115 [00:39<00:00, 28.09it/s]\n"
     ]
    },
    {
     "name": "stdout",
     "output_type": "stream",
     "text": [
      "Epochs: 3 | Loss:  0.061 | Accuracy:  0.946\n"
     ]
    },
    {
     "name": "stderr",
     "output_type": "stream",
     "text": [
      "100%|██████████| 1115/1115 [00:40<00:00, 27.22it/s]\n"
     ]
    },
    {
     "name": "stdout",
     "output_type": "stream",
     "text": [
      "Epochs: 4 | Loss:  0.059 | Accuracy:  0.947\n"
     ]
    },
    {
     "name": "stderr",
     "output_type": "stream",
     "text": [
      "100%|██████████| 1115/1115 [00:39<00:00, 28.25it/s]\n"
     ]
    },
    {
     "name": "stdout",
     "output_type": "stream",
     "text": [
      "Epochs: 5 | Loss:  0.067 | Accuracy:  0.939\n"
     ]
    },
    {
     "name": "stderr",
     "output_type": "stream",
     "text": [
      "100%|██████████| 1115/1115 [00:39<00:00, 28.27it/s]\n"
     ]
    },
    {
     "name": "stdout",
     "output_type": "stream",
     "text": [
      "Epochs: 6 | Loss:  0.062 | Accuracy:  0.947\n"
     ]
    },
    {
     "name": "stderr",
     "output_type": "stream",
     "text": [
      "100%|██████████| 1115/1115 [00:39<00:00, 28.15it/s]\n"
     ]
    },
    {
     "name": "stdout",
     "output_type": "stream",
     "text": [
      "Epochs: 7 | Loss:  0.062 | Accuracy:  0.950\n"
     ]
    },
    {
     "name": "stderr",
     "output_type": "stream",
     "text": [
      "100%|██████████| 1115/1115 [00:39<00:00, 28.55it/s]\n"
     ]
    },
    {
     "name": "stdout",
     "output_type": "stream",
     "text": [
      "Epochs: 8 | Loss:  0.055 | Accuracy:  0.950\n"
     ]
    },
    {
     "name": "stderr",
     "output_type": "stream",
     "text": [
      "100%|██████████| 1115/1115 [00:38<00:00, 28.63it/s]\n"
     ]
    },
    {
     "name": "stdout",
     "output_type": "stream",
     "text": [
      "Epochs: 9 | Loss:  0.069 | Accuracy:  0.942\n"
     ]
    },
    {
     "name": "stderr",
     "output_type": "stream",
     "text": [
      "100%|██████████| 1115/1115 [00:38<00:00, 29.22it/s]\n"
     ]
    },
    {
     "name": "stdout",
     "output_type": "stream",
     "text": [
      "Epochs: 10 | Loss:  0.052 | Accuracy:  0.956\n"
     ]
    },
    {
     "name": "stderr",
     "output_type": "stream",
     "text": [
      "100%|██████████| 1115/1115 [00:38<00:00, 29.15it/s]\n"
     ]
    },
    {
     "name": "stdout",
     "output_type": "stream",
     "text": [
      "Epochs: 11 | Loss:  0.042 | Accuracy:  0.965\n"
     ]
    },
    {
     "name": "stderr",
     "output_type": "stream",
     "text": [
      "100%|██████████| 1115/1115 [00:39<00:00, 28.22it/s]\n"
     ]
    },
    {
     "name": "stdout",
     "output_type": "stream",
     "text": [
      "Epochs: 12 | Loss:  0.044 | Accuracy:  0.964\n"
     ]
    },
    {
     "name": "stderr",
     "output_type": "stream",
     "text": [
      "100%|██████████| 1115/1115 [00:39<00:00, 28.53it/s]\n"
     ]
    },
    {
     "name": "stdout",
     "output_type": "stream",
     "text": [
      "Epochs: 13 | Loss:  0.046 | Accuracy:  0.962\n"
     ]
    },
    {
     "name": "stderr",
     "output_type": "stream",
     "text": [
      "100%|██████████| 1115/1115 [00:38<00:00, 28.73it/s]\n"
     ]
    },
    {
     "name": "stdout",
     "output_type": "stream",
     "text": [
      "Epochs: 14 | Loss:  0.041 | Accuracy:  0.967\n"
     ]
    },
    {
     "name": "stderr",
     "output_type": "stream",
     "text": [
      "100%|██████████| 1115/1115 [00:40<00:00, 27.85it/s]"
     ]
    },
    {
     "name": "stdout",
     "output_type": "stream",
     "text": [
      "Epochs: 15 | Loss:  0.041 | Accuracy:  0.968\n"
     ]
    },
    {
     "name": "stderr",
     "output_type": "stream",
     "text": [
      "\n"
     ]
    }
   ],
   "source": [
    "def train(model, dataset, epochs, lr, bs):\n",
    "\n",
    "    criterion = nn.CrossEntropyLoss()\n",
    "    optimizer = torch.optim.Adam((p for p in model.parameters() \n",
    "      if p.requires_grad), lr=lr)\n",
    "    train_dataset = TextDataset(dataset)\n",
    "    train_dataloader = DataLoader(train_dataset, num_workers=1, batch_size=bs, collate_fn=collate_fn, shuffle=True)\n",
    "    \n",
    "    # Training loop\n",
    "    for epoch in range(epochs):\n",
    "        total_loss_train = 0\n",
    "        total_acc_train = 0   \n",
    "        for train_sequence, train_label in tqdm(train_dataloader):\n",
    "            \n",
    "            # Model prediction\n",
    "            predictions = model(train_sequence.to(device))\n",
    "            labels = train_label.to(device)\n",
    "            loss = criterion(predictions, labels)\n",
    "\n",
    "            # Calculate accuracy and loss per batch\n",
    "            correct = predictions.argmax(axis=1) == labels\n",
    "            acc = correct.sum().item() / correct.size(0)\n",
    "            total_acc_train += correct.sum().item()\n",
    "            total_loss_train += loss.item()\n",
    "\n",
    "            # Backprop\n",
    "            loss.backward()\n",
    "            torch.nn.utils.clip_grad_norm_(model.parameters(), 0.5)\n",
    "            optimizer.step()\n",
    "\n",
    "        print(f'Epochs: {epoch + 1} | Loss: {total_loss_train / len(train_dataset): .3f} | Accuracy: {total_acc_train / len(train_dataset): .3f}')\n",
    "    \n",
    "epochs = 15\n",
    "lr = 1e-4\n",
    "batch_size = 4\n",
    "train(model, df_train, epochs, lr, batch_size)"
   ]
  },
  {
   "cell_type": "markdown",
   "metadata": {
    "id": "pXG5M_HbCbP3"
   },
   "source": [
    "# Model Prediction"
   ]
  },
  {
   "cell_type": "code",
   "execution_count": 31,
   "metadata": {
    "id": "ql2TW9xN7dpm"
   },
   "outputs": [],
   "source": [
    "def predict(text):\n",
    "\n",
    "  sequence = torch.tensor([vocab[word] for word in tokenizer(text)], dtype=torch.long).unsqueeze(0)\n",
    "  output = model(sequence.to(device))\n",
    "  prediction = id2label[output.argmax(axis=1).item()]\n",
    "\n",
    "  return prediction"
   ]
  },
  {
   "cell_type": "code",
   "execution_count": 37,
   "metadata": {
    "colab": {
     "base_uri": "https://localhost:8080/"
    },
    "id": "TeavB5CV941C",
    "outputId": "5245a5f3-8175-4abb-e0bb-1ddb14f131d4"
   },
   "outputs": [
    {
     "name": "stdout",
     "output_type": "stream",
     "text": [
      "Text: This is the 2nd time we have tried 2 contact u. U have won the £750 Pound prize. 2 claim is easy, call 087187272008 NOW1! Only 10p per minute. BT-national-rate.\n",
      "Ground Truth: spam\n",
      "Prediction: spam\n"
     ]
    }
   ],
   "source": [
    "idx = 24\n",
    "text = df_test['Message'].values.tolist()[idx]\n",
    "gt = df_test['Category'].values.tolist()[idx]\n",
    "prediction = predict(text)\n",
    "\n",
    "print(f'Text: {text}')\n",
    "print(f'Ground Truth: {gt}')\n",
    "print(f'Prediction: {prediction}')"
   ]
  },
  {
   "cell_type": "code",
   "execution_count": 38,
   "metadata": {
    "colab": {
     "base_uri": "https://localhost:8080/"
    },
    "id": "Y48u-0OY-Tz7",
    "outputId": "5910a25e-6ec3-4ce9-9af0-3a066af0e0a2"
   },
   "outputs": [
    {
     "name": "stdout",
     "output_type": "stream",
     "text": [
      "Text: Morning only i can ok.\n",
      "Ground Truth: ham\n",
      "Prediction: ham\n"
     ]
    }
   ],
   "source": [
    "idx = 35\n",
    "text = df_test['Message'].values.tolist()[idx]\n",
    "gt = df_test['Category'].values.tolist()[idx]\n",
    "prediction = predict(text)\n",
    "\n",
    "print(f'Text: {text}')\n",
    "print(f'Ground Truth: {gt}')\n",
    "print(f'Prediction: {prediction}')"
   ]
  },
  {
   "cell_type": "code",
   "execution_count": null,
   "metadata": {
    "id": "fHBFYGJA-q4W"
   },
   "outputs": [],
   "source": []
  }
 ],
 "metadata": {
  "accelerator": "GPU",
  "colab": {
   "provenance": []
  },
  "gpuClass": "standard",
  "kernelspec": {
   "display_name": "Python 3 (ipykernel)",
   "language": "python",
   "name": "python3"
  },
  "language_info": {
   "codemirror_mode": {
    "name": "ipython",
    "version": 3
   },
   "file_extension": ".py",
   "mimetype": "text/x-python",
   "name": "python",
   "nbconvert_exporter": "python",
   "pygments_lexer": "ipython3",
   "version": "3.9.7"
  }
 },
 "nbformat": 4,
 "nbformat_minor": 1
}
